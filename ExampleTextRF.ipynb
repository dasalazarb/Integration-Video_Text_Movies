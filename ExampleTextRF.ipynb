{
 "cells": [
  {
   "cell_type": "code",
   "execution_count": null,
   "metadata": {
    "colab": {
     "autoexec": {
      "startup": false,
      "wait_interval": 0
     }
    },
    "colab_type": "code",
    "id": "LM06au3zXved"
   },
   "outputs": [],
   "source": [
    "# Correr para reiniciar Kernel y la sesion.\n",
    "#!kill -9 -1"
   ]
  },
  {
   "cell_type": "markdown",
   "metadata": {
    "colab_type": "text",
    "id": "MWqnCHCyYBuQ"
   },
   "source": [
    "# Proyecto Final (Texto)\n",
    "\n",
    "### Curso Deep Learning y Redes Neuronales - MIIA4406_01\n",
    "\n",
    "#### Universidad de los Andes\n",
    "\n",
    "Integrantes:\n",
    "\n",
    "|Nombre|Codigo|\n",
    "|---------------------|---------------------|\n",
    "|Saby Espinel|*201215868*|\n",
    "|Diego Salazar|*201628925*| <br>\n",
    "<br>\n",
    "______________________________________________________________________________________________________________________"
   ]
  },
  {
   "cell_type": "markdown",
   "metadata": {},
   "source": [
    "## Libraries"
   ]
  },
  {
   "cell_type": "code",
   "execution_count": 1,
   "metadata": {
    "colab": {
     "autoexec": {
      "startup": false,
      "wait_interval": 0
     },
     "base_uri": "https://localhost:8080/",
     "height": 269
    },
    "colab_type": "code",
    "executionInfo": {
     "elapsed": 1798,
     "status": "ok",
     "timestamp": 1531775476323,
     "user": {
      "displayName": "Diego Armando Salazar Barreto",
      "photoUrl": "https://lh3.googleusercontent.com/a/default-user=s128",
      "userId": "110062887053583561343"
     },
     "user_tz": 300
    },
    "id": "dAVco1aoYLAv",
    "outputId": "e150051a-cb60-4bbd-af71-cf18f838b897"
   },
   "outputs": [
    {
     "data": {
      "text/plain": [
       "[name: \"/device:CPU:0\"\n",
       " device_type: \"CPU\"\n",
       " memory_limit: 268435456\n",
       " locality {\n",
       " }\n",
       " incarnation: 1442079591125361260, name: \"/device:GPU:0\"\n",
       " device_type: \"GPU\"\n",
       " memory_limit: 251789312\n",
       " locality {\n",
       "   bus_id: 1\n",
       "   links {\n",
       "   }\n",
       " }\n",
       " incarnation: 6354184267043998337\n",
       " physical_device_desc: \"device: 0, name: Tesla K80, pci bus id: 0000:00:04.0, compute capability: 3.7\"]"
      ]
     },
     "execution_count": 1,
     "metadata": {
      "tags": []
     },
     "output_type": "execute_result"
    }
   ],
   "source": [
    "# Verificar que se esta usando GPU\n",
    "from tensorflow.python.client import device_lib\n",
    "device_lib.list_local_devices()"
   ]
  },
  {
   "cell_type": "code",
   "execution_count": 17,
   "metadata": {
    "colab": {
     "autoexec": {
      "startup": false,
      "wait_interval": 0
     },
     "base_uri": "https://localhost:8080/",
     "height": 171
    },
    "colab_type": "code",
    "executionInfo": {
     "elapsed": 6075,
     "status": "ok",
     "timestamp": 1531775484485,
     "user": {
      "displayName": "Diego Armando Salazar Barreto",
      "photoUrl": "https://lh3.googleusercontent.com/a/default-user=s128",
      "userId": "110062887053583561343"
     },
     "user_tz": 300
    },
    "id": "m291mQurTlWt",
    "outputId": "122cc27c-c669-449a-f122-ca7488b2a369"
   },
   "outputs": [],
   "source": [
    "import pandas as pd\n",
    "import os\n",
    "import numpy as np\n",
    "from sklearn.preprocessing import MultiLabelBinarizer\n",
    "#from sklearn.multiclass import OneVsRestClassifier\n",
    "#from sklearn.ensemble import RandomForestRegressor, RandomForestClassifier\n",
    "#from sklearn.metrics import r2_score, roc_auc_score\n",
    "#from sklearn.model_selection import train_test_split\n",
    "#from sklearn.decomposition import PCA\n",
    "import matplotlib.pyplot as plt\n",
    "from skimage import io\n",
    "\n",
    "# Text processing\n",
    "from sklearn.feature_extraction.text import CountVectorizer\n",
    "from keras.preprocessing.sequence import pad_sequences\n",
    "from keras.preprocessing import sequence\n",
    "from nltk.stem.snowball import SnowballStemmer\n",
    "from sklearn.model_selection import train_test_split\n",
    "\n",
    "# Keras NN\n",
    "from keras.models import Sequential\n",
    "from keras.utils import np_utils\n",
    "from keras.layers import Dense, Dropout, Activation, BatchNormalization, Input, Embedding, LSTM\n",
    "from keras.optimizers import RMSprop\n",
    "from keras.callbacks import History\n",
    "from keras.models import Model\n",
    "#from keras.preprocessing.image import ImageDataGenerator, array_to_img, img_to_array, load_img\n",
    "\n",
    "%matplotlib inline"
   ]
  },
  {
   "cell_type": "code",
   "execution_count": null,
   "metadata": {},
   "outputs": [],
   "source": [
    "##### Para usar en CoLab #####\n",
    "!pip install -U -q PyDrive\n",
    "!pip install textblob\n",
    "# Install the PyDrive wrapper & import libraries.\n",
    "# This only needs to be done once per notebook.\n",
    "from pydrive.auth import GoogleAuth\n",
    "from pydrive.drive import GoogleDrive\n",
    "from google.colab import auth\n",
    "from oauth2client.client import GoogleCredentials\n",
    "from google.colab import files\n"
   ]
  },
  {
   "cell_type": "code",
   "execution_count": null,
   "metadata": {
    "colab": {
     "autoexec": {
      "startup": false,
      "wait_interval": 0
     }
    },
    "colab_type": "code",
    "id": "MGm4QI3qZXOI"
   },
   "outputs": [],
   "source": [
    "##### Para usar en CoLab #####\n",
    "# Authenticate and create the PyDrive client.\n",
    "# This only needs to be done once per notebook.\n",
    "auth.authenticate_user()\n",
    "gauth = GoogleAuth()\n",
    "gauth.credentials = GoogleCredentials.get_application_default()\n",
    "drive = GoogleDrive(gauth)"
   ]
  },
  {
   "cell_type": "markdown",
   "metadata": {
    "colab_type": "text",
    "id": "vBcLU8nBTjU7"
   },
   "source": [
    "# Read Data CoLab"
   ]
  },
  {
   "cell_type": "code",
   "execution_count": 4,
   "metadata": {
    "colab": {
     "autoexec": {
      "startup": false,
      "wait_interval": 0
     },
     "base_uri": "https://localhost:8080/",
     "height": 202
    },
    "colab_type": "code",
    "executionInfo": {
     "elapsed": 806,
     "status": "ok",
     "timestamp": 1531775491922,
     "user": {
      "displayName": "Diego Armando Salazar Barreto",
      "photoUrl": "https://lh3.googleusercontent.com/a/default-user=s128",
      "userId": "110062887053583561343"
     },
     "user_tz": 300
    },
    "id": "UbKm6ivHI26M",
    "outputId": "d34f2709-6a23-4e43-c9f0-c968a9fdb0ab"
   },
   "outputs": [
    {
     "name": "stdout",
     "output_type": "stream",
     "text": [
      "title: ExampleTextRF.ipynb, id: 1awW3xWv99qbvcMP1hWTIJjmdmKq8Ku42\n",
      "title: ExampleImgRF.ipynb, id: 1Pg2-wYIUr866PzKvUy8iXsstZT87uE6x\n",
      "title: Proyecto 2_birds_DL (1).ipynb, id: 1mRpiAc1wbDI226Zw56g6NvPHK0ebcACn\n",
      "title: images.zip, id: 1NMIKcqCHJIDaQi4M9mbjrZf0qlpXtrO-\n",
      "title: images, id: 1pkD2K630_7_sqyt42vnbOYKVZrnyE-VQ\n",
      "title: Proyecto2.ipynb, id: 131wvpD2jMHusixkRryXoFdTj9DbmbxYp\n",
      "title: dataTraining.csv, id: 1SKNGe6FFghASG38LjtUaoTrmozUibRCZ\n",
      "title: dataTesting.csv, id: 1JWWmvheWnofZl2zqY-7Gu2rJprceYB80\n",
      "title: .ipynb_checkpoints, id: 17KsfZFar28G8dXPBETs6cCpaAknZO3yP\n",
      "title: moviegenre.png, id: 1h6OU9y8Fwa-HqLMeVDAhLKO9Et6Bojmv\n",
      "title: README.md, id: 1ICVh_qZvcAXH36lytZyJiYgMFbocGgCd\n"
     ]
    }
   ],
   "source": [
    "##### Para CoLab #####\n",
    "# Verificacion de contenido de carpetas en el Drive con su respectivo ID\n",
    "#file_list = drive.ListFile({'q': \"'root' in parents and trashed=false\"}).GetList()\n",
    "file_list = drive.ListFile({'q': \"'1gX_xAhoYwIwmOVRd33lAuf4pCM3cChB6' in parents and trashed=false\"}).GetList()\n",
    "for file1 in file_list:\n",
    "  print('title: %s, id: %s' % (file1['title'], file1['id']))"
   ]
  },
  {
   "cell_type": "code",
   "execution_count": null,
   "metadata": {
    "colab": {
     "autoexec": {
      "startup": false,
      "wait_interval": 0
     }
    },
    "colab_type": "code",
    "id": "iWw6qMebI25w"
   },
   "outputs": [],
   "source": [
    "##### Para CoLab #####\n",
    "trainDrive = drive.CreateFile({'id': '1SKNGe6FFghASG38LjtUaoTrmozUibRCZ'})\n",
    "trainDrive.GetContentFile('dataTraining.csv')\n",
    "dataTraining=pd.read_csv(\"dataTraining.csv\", index_col=0)\n",
    "\n",
    "testDrive = drive.CreateFile({'id': '1JWWmvheWnofZl2zqY-7Gu2rJprceYB80'})\n",
    "testDrive.GetContentFile('dataTesting.csv')\n",
    "dataTesting=pd.read_csv(\"dataTesting.csv\", index_col=0)"
   ]
  },
  {
   "cell_type": "markdown",
   "metadata": {},
   "source": [
    "# Read Data Jupyter"
   ]
  },
  {
   "cell_type": "code",
   "execution_count": 34,
   "metadata": {},
   "outputs": [],
   "source": [
    "##### Para CoLab #####\n",
    "# Lectura de archivos en Jupyter desde el PC\n",
    "path = 'C:/Users/da.salazarb/Google Drive (dasalazarb@unal.edu.co)/AppliedDeepLearningClass-master/finalProject'\n",
    "dataTraining = pd.read_csv(os.path.join(path, 'dataTraining.csv'), encoding='UTF-8', index_col=0)\n",
    "dataTesting = pd.read_csv(os.path.join(path, 'dataTesting.csv'), encoding='UTF-8', index_col=0)\n",
    "#print(dataTraining.head())\n",
    "#print(dataTesting.head())"
   ]
  },
  {
   "cell_type": "markdown",
   "metadata": {},
   "source": [
    "## Cleaning data (dataTraining['post'] and dataTesting['post'])"
   ]
  },
  {
   "cell_type": "code",
   "execution_count": 5,
   "metadata": {
    "colab": {
     "autoexec": {
      "startup": false,
      "wait_interval": 0
     }
    },
    "colab_type": "code",
    "id": "x6HVz4sjI25b"
   },
   "outputs": [],
   "source": [
    "# Definicion de funcion para preprocesar el texto\n",
    "def preProssText(df, commonWord, numberCommonWords, rareWord, numberRareWords, spellCorrect):\n",
    "  # Remove punctutation\n",
    "  df['plot'] = df['plot'].str.replace('[^\\w\\s]','')\n",
    "  \n",
    "  # Lower case\n",
    "  df['plot'] = df['plot'].apply(lambda x: \" \".join(x.lower() for x in x.split()))\n",
    "  \n",
    "  # Remove Common words\n",
    "  if commonWord == True:\n",
    "    freq = pd.Series(' '.join(df['plot']).split()).value_counts()[:numberCommonWords]\n",
    "    df['plot'] = df['plot'].apply(lambda x: \" \".join(x for x in x.split() if x not in freq))\n",
    "  \n",
    "  # Remove Rare words\n",
    "  if rareWord == True:\n",
    "    freq = pd.Series(' '.join(df['plot']).split()).value_counts()[-numberRareWords:]\n",
    "    df['plot'] = df['plot'].apply(lambda x: \" \".join(x for x in x.split() if x not in freq))\n",
    "  \n",
    "  # Spelling correction -> Tener cuidado puede cambiar los valores. Ej: \"ur\" por \"or\" en vez de \"your\"\n",
    "  if spellCorrect == True:\n",
    "    from textblob import TextBlob\n",
    "    df['plot'] = df['plot'].apply(lambda x: str(TextBlob(x).correct()))\n",
    "    \n",
    "  return df"
   ]
  },
  {
   "cell_type": "code",
   "execution_count": 35,
   "metadata": {
    "colab": {
     "autoexec": {
      "startup": false,
      "wait_interval": 0
     }
    },
    "colab_type": "code",
    "id": "iBoH0SHJXiZ9"
   },
   "outputs": [],
   "source": [
    "# Pre-procesamiento de texto\n",
    "dataTraining = preProssText(dataTraining, commonWord=True, numberCommonWords=10, rareWord=True, numberRareWords=10, spellCorrect=False)\n",
    "dataTesting = preProssText(dataTesting, commonWord=True, numberCommonWords=10, rareWord=True, numberRareWords=10, spellCorrect=False)"
   ]
  },
  {
   "cell_type": "code",
   "execution_count": 36,
   "metadata": {
    "colab": {
     "autoexec": {
      "startup": false,
      "wait_interval": 0
     },
     "base_uri": "https://localhost:8080/",
     "height": 195
    },
    "colab_type": "code",
    "executionInfo": {
     "elapsed": 381,
     "status": "ok",
     "timestamp": 1531775504736,
     "user": {
      "displayName": "Diego Armando Salazar Barreto",
      "photoUrl": "https://lh3.googleusercontent.com/a/default-user=s128",
      "userId": "110062887053583561343"
     },
     "user_tz": 300
    },
    "id": "ZkuYzWi1I24o",
    "outputId": "ef32438c-8933-46b9-af75-00eef8c5bb9b"
   },
   "outputs": [
    {
     "data": {
      "text/html": [
       "<div>\n",
       "<style scoped>\n",
       "    .dataframe tbody tr th:only-of-type {\n",
       "        vertical-align: middle;\n",
       "    }\n",
       "\n",
       "    .dataframe tbody tr th {\n",
       "        vertical-align: top;\n",
       "    }\n",
       "\n",
       "    .dataframe thead th {\n",
       "        text-align: right;\n",
       "    }\n",
       "</style>\n",
       "<table border=\"1\" class=\"dataframe\">\n",
       "  <thead>\n",
       "    <tr style=\"text-align: right;\">\n",
       "      <th></th>\n",
       "      <th>year</th>\n",
       "      <th>title</th>\n",
       "      <th>plot</th>\n",
       "      <th>genres</th>\n",
       "      <th>rating</th>\n",
       "    </tr>\n",
       "  </thead>\n",
       "  <tbody>\n",
       "    <tr>\n",
       "      <th>3107</th>\n",
       "      <td>2003</td>\n",
       "      <td>Most</td>\n",
       "      <td>most story single father who takes eight year ...</td>\n",
       "      <td>['Short', 'Drama']</td>\n",
       "      <td>8.0</td>\n",
       "    </tr>\n",
       "    <tr>\n",
       "      <th>900</th>\n",
       "      <td>2008</td>\n",
       "      <td>How to Be a Serial Killer</td>\n",
       "      <td>serial killer decides teach secrets satisfying...</td>\n",
       "      <td>['Comedy', 'Crime', 'Horror']</td>\n",
       "      <td>5.6</td>\n",
       "    </tr>\n",
       "    <tr>\n",
       "      <th>6724</th>\n",
       "      <td>1941</td>\n",
       "      <td>A Woman's Face</td>\n",
       "      <td>sweden female blackmailer with disfiguring fac...</td>\n",
       "      <td>['Drama', 'Film-Noir', 'Thriller']</td>\n",
       "      <td>7.2</td>\n",
       "    </tr>\n",
       "    <tr>\n",
       "      <th>4704</th>\n",
       "      <td>1954</td>\n",
       "      <td>Executive Suite</td>\n",
       "      <td>friday afternoon new york president tredway co...</td>\n",
       "      <td>['Drama']</td>\n",
       "      <td>7.4</td>\n",
       "    </tr>\n",
       "    <tr>\n",
       "      <th>2582</th>\n",
       "      <td>1990</td>\n",
       "      <td>Narrow Margin</td>\n",
       "      <td>los angeles editor publishing house carol hunn...</td>\n",
       "      <td>['Action', 'Crime', 'Thriller']</td>\n",
       "      <td>6.6</td>\n",
       "    </tr>\n",
       "  </tbody>\n",
       "</table>\n",
       "</div>"
      ],
      "text/plain": [
       "      year                      title  \\\n",
       "3107  2003                       Most   \n",
       "900   2008  How to Be a Serial Killer   \n",
       "6724  1941             A Woman's Face   \n",
       "4704  1954            Executive Suite   \n",
       "2582  1990              Narrow Margin   \n",
       "\n",
       "                                                   plot  \\\n",
       "3107  most story single father who takes eight year ...   \n",
       "900   serial killer decides teach secrets satisfying...   \n",
       "6724  sweden female blackmailer with disfiguring fac...   \n",
       "4704  friday afternoon new york president tredway co...   \n",
       "2582  los angeles editor publishing house carol hunn...   \n",
       "\n",
       "                                  genres  rating  \n",
       "3107                  ['Short', 'Drama']     8.0  \n",
       "900        ['Comedy', 'Crime', 'Horror']     5.6  \n",
       "6724  ['Drama', 'Film-Noir', 'Thriller']     7.2  \n",
       "4704                           ['Drama']     7.4  \n",
       "2582     ['Action', 'Crime', 'Thriller']     6.6  "
      ]
     },
     "execution_count": 36,
     "metadata": {},
     "output_type": "execute_result"
    }
   ],
   "source": [
    "dataTraining.head()"
   ]
  },
  {
   "cell_type": "code",
   "execution_count": 37,
   "metadata": {
    "colab": {
     "autoexec": {
      "startup": false,
      "wait_interval": 0
     },
     "base_uri": "https://localhost:8080/",
     "height": 195
    },
    "colab_type": "code",
    "executionInfo": {
     "elapsed": 409,
     "status": "ok",
     "timestamp": 1531775506568,
     "user": {
      "displayName": "Diego Armando Salazar Barreto",
      "photoUrl": "https://lh3.googleusercontent.com/a/default-user=s128",
      "userId": "110062887053583561343"
     },
     "user_tz": 300
    },
    "id": "_ir7aodZI23n",
    "outputId": "47707788-a04c-49a2-9ce1-3352505e4a18"
   },
   "outputs": [
    {
     "data": {
      "text/html": [
       "<div>\n",
       "<style scoped>\n",
       "    .dataframe tbody tr th:only-of-type {\n",
       "        vertical-align: middle;\n",
       "    }\n",
       "\n",
       "    .dataframe tbody tr th {\n",
       "        vertical-align: top;\n",
       "    }\n",
       "\n",
       "    .dataframe thead th {\n",
       "        text-align: right;\n",
       "    }\n",
       "</style>\n",
       "<table border=\"1\" class=\"dataframe\">\n",
       "  <thead>\n",
       "    <tr style=\"text-align: right;\">\n",
       "      <th></th>\n",
       "      <th>year</th>\n",
       "      <th>title</th>\n",
       "      <th>plot</th>\n",
       "    </tr>\n",
       "  </thead>\n",
       "  <tbody>\n",
       "    <tr>\n",
       "      <th>1</th>\n",
       "      <td>1999</td>\n",
       "      <td>Message in a Bottle</td>\n",
       "      <td>who meets by fate shall be sealed by fate ther...</td>\n",
       "    </tr>\n",
       "    <tr>\n",
       "      <th>4</th>\n",
       "      <td>1978</td>\n",
       "      <td>Midnight Express</td>\n",
       "      <td>true story billy hayes an american college stu...</td>\n",
       "    </tr>\n",
       "    <tr>\n",
       "      <th>5</th>\n",
       "      <td>1996</td>\n",
       "      <td>Primal Fear</td>\n",
       "      <td>martin vail left chicago da office become succ...</td>\n",
       "    </tr>\n",
       "    <tr>\n",
       "      <th>6</th>\n",
       "      <td>1950</td>\n",
       "      <td>Crisis</td>\n",
       "      <td>husband wife americans dr eugene mrs helen fer...</td>\n",
       "    </tr>\n",
       "    <tr>\n",
       "      <th>7</th>\n",
       "      <td>1959</td>\n",
       "      <td>The Tingler</td>\n",
       "      <td>coroner scientist dr warren chapin researching...</td>\n",
       "    </tr>\n",
       "  </tbody>\n",
       "</table>\n",
       "</div>"
      ],
      "text/plain": [
       "   year                title  \\\n",
       "1  1999  Message in a Bottle   \n",
       "4  1978     Midnight Express   \n",
       "5  1996          Primal Fear   \n",
       "6  1950               Crisis   \n",
       "7  1959          The Tingler   \n",
       "\n",
       "                                                plot  \n",
       "1  who meets by fate shall be sealed by fate ther...  \n",
       "4  true story billy hayes an american college stu...  \n",
       "5  martin vail left chicago da office become succ...  \n",
       "6  husband wife americans dr eugene mrs helen fer...  \n",
       "7  coroner scientist dr warren chapin researching...  "
      ]
     },
     "execution_count": 37,
     "metadata": {},
     "output_type": "execute_result"
    }
   ],
   "source": [
    "dataTesting.head()"
   ]
  },
  {
   "cell_type": "markdown",
   "metadata": {},
   "source": [
    "***************************************************************************************************"
   ]
  },
  {
   "cell_type": "markdown",
   "metadata": {
    "colab_type": "text",
    "id": "A_oJBpsWTjWE"
   },
   "source": [
    "# Create count vectorizer with ngrams"
   ]
  },
  {
   "cell_type": "code",
   "execution_count": 9,
   "metadata": {
    "colab": {
     "autoexec": {
      "startup": false,
      "wait_interval": 0
     },
     "base_uri": "https://localhost:8080/",
     "height": 50
    },
    "colab_type": "code",
    "executionInfo": {
     "elapsed": 604,
     "status": "ok",
     "timestamp": 1531684029671,
     "user": {
      "displayName": "Diego Armando Salazar Barreto",
      "photoUrl": "https://lh3.googleusercontent.com/a/default-user=s128",
      "userId": "110062887053583561343"
     },
     "user_tz": 300
    },
    "id": "_zyBbusITjWH",
    "outputId": "80a5b2b8-ccba-4219-c403-dae24607a2ac"
   },
   "outputs": [
    {
     "name": "stdout",
     "output_type": "stream",
     "text": [
      "[nltk_data] Downloading package wordnet to\n",
      "[nltk_data]     C:\\Users\\da.salazarb\\AppData\\Roaming\\nltk_data...\n",
      "[nltk_data]   Package wordnet is already up-to-date!\n"
     ]
    }
   ],
   "source": [
    "# define a function that accepts text and returns a list of lemmas\n",
    "import nltk\n",
    "nltk.download('wordnet')\n",
    "\n",
    "def split_into_lemmas(text):\n",
    "    from nltk.stem import WordNetLemmatizer\n",
    "    wordnet_lemmatizer = WordNetLemmatizer()\n",
    "    \n",
    "    text = text.lower()\n",
    "    words = text.split()\n",
    "    return [wordnet_lemmatizer.lemmatize(word) for word in words]"
   ]
  },
  {
   "cell_type": "code",
   "execution_count": 10,
   "metadata": {
    "colab": {
     "autoexec": {
      "startup": false,
      "wait_interval": 0
     }
    },
    "colab_type": "code",
    "id": "sAdtZTd7TjWY"
   },
   "outputs": [],
   "source": [
    "# define a function that accepts text and returns a list of stem\n",
    "def split_into_stem(text):\n",
    "    stemmer = SnowballStemmer('english')\n",
    "    text = text.lower()\n",
    "    words = text.split()\n",
    "    return [stemmer.stem(word) for word in words]"
   ]
  },
  {
   "cell_type": "code",
   "execution_count": 58,
   "metadata": {
    "colab": {
     "autoexec": {
      "startup": false,
      "wait_interval": 0
     },
     "base_uri": "https://localhost:8080/",
     "height": 34
    },
    "colab_type": "code",
    "executionInfo": {
     "elapsed": 13084,
     "status": "ok",
     "timestamp": 1531684048404,
     "user": {
      "displayName": "Diego Armando Salazar Barreto",
      "photoUrl": "https://lh3.googleusercontent.com/a/default-user=s128",
      "userId": "110062887053583561343"
     },
     "user_tz": 300
    },
    "id": "sfIqY_mrTjWi",
    "outputId": "0e0b3a07-c6f8-4da6-9524-a644bc9f5bbf"
   },
   "outputs": [
    {
     "data": {
      "text/plain": [
       "(7895, 1000)"
      ]
     },
     "execution_count": 58,
     "metadata": {},
     "output_type": "execute_result"
    }
   ],
   "source": [
    "vect = CountVectorizer(analyzer=split_into_lemmas, ngram_range=(1, 1), max_features=1000, stop_words='english')\n",
    "X_dtm = vect.fit_transform(dataTraining['plot'])\n",
    "X_dtm.shape"
   ]
  },
  {
   "cell_type": "code",
   "execution_count": 12,
   "metadata": {
    "colab": {
     "autoexec": {
      "startup": false,
      "wait_interval": 0
     },
     "base_uri": "https://localhost:8080/",
     "height": 54
    },
    "colab_type": "code",
    "executionInfo": {
     "elapsed": 513,
     "status": "ok",
     "timestamp": 1531684050746,
     "user": {
      "displayName": "Diego Armando Salazar Barreto",
      "photoUrl": "https://lh3.googleusercontent.com/a/default-user=s128",
      "userId": "110062887053583561343"
     },
     "user_tz": 300
    },
    "id": "qy7L__3FTjWy",
    "outputId": "20ac5cd3-c77e-40d9-f0d1-cdaf580eeabb"
   },
   "outputs": [
    {
     "name": "stdout",
     "output_type": "stream",
     "text": [
      "['abandon', 'abl', 'about', 'abus', 'accept', 'accid', 'accident', 'across', 'act', 'action', 'activ', 'actor', 'actress', 'actual', 'adam', 'adult', 'adventur', 'affair', 'affect', 'after', 'again', 'against', 'age', 'agent', 'ago', 'agre', 'aid', 'air', 'alcohol', 'alex', 'alien', 'aliv', 'all', 'allow', 'almost', 'alon', 'along', 'alreadi', 'also', 'although', 'alway', 'america', 'american', 'among', 'an', 'angel', 'ani', 'anim', 'ann', 'anna']\n"
     ]
    }
   ],
   "source": [
    "print(vect.get_feature_names()[:50])"
   ]
  },
  {
   "cell_type": "markdown",
   "metadata": {},
   "source": [
    "***************************************************************************************************"
   ]
  },
  {
   "cell_type": "markdown",
   "metadata": {
    "colab_type": "text",
    "id": "iXdwMApqTjXH"
   },
   "source": [
    "# Create y"
   ]
  },
  {
   "cell_type": "code",
   "execution_count": 13,
   "metadata": {
    "colab": {
     "autoexec": {
      "startup": false,
      "wait_interval": 0
     },
     "base_uri": "https://localhost:8080/",
     "height": 195
    },
    "colab_type": "code",
    "executionInfo": {
     "elapsed": 365,
     "status": "ok",
     "timestamp": 1531775793151,
     "user": {
      "displayName": "Diego Armando Salazar Barreto",
      "photoUrl": "https://lh3.googleusercontent.com/a/default-user=s128",
      "userId": "110062887053583561343"
     },
     "user_tz": 300
    },
    "id": "W8uOQrWL76X8",
    "outputId": "630f9cec-830e-4901-97d1-f7411e9a8ac8"
   },
   "outputs": [
    {
     "data": {
      "text/html": [
       "<div>\n",
       "<style scoped>\n",
       "    .dataframe tbody tr th:only-of-type {\n",
       "        vertical-align: middle;\n",
       "    }\n",
       "\n",
       "    .dataframe tbody tr th {\n",
       "        vertical-align: top;\n",
       "    }\n",
       "\n",
       "    .dataframe thead th {\n",
       "        text-align: right;\n",
       "    }\n",
       "</style>\n",
       "<table border=\"1\" class=\"dataframe\">\n",
       "  <thead>\n",
       "    <tr style=\"text-align: right;\">\n",
       "      <th></th>\n",
       "      <th>year</th>\n",
       "      <th>title</th>\n",
       "      <th>plot</th>\n",
       "      <th>genres</th>\n",
       "      <th>rating</th>\n",
       "    </tr>\n",
       "  </thead>\n",
       "  <tbody>\n",
       "    <tr>\n",
       "      <th>3107</th>\n",
       "      <td>2003</td>\n",
       "      <td>Most</td>\n",
       "      <td>most story single father who takes eight year ...</td>\n",
       "      <td>['Short', 'Drama']</td>\n",
       "      <td>8.0</td>\n",
       "    </tr>\n",
       "    <tr>\n",
       "      <th>900</th>\n",
       "      <td>2008</td>\n",
       "      <td>How to Be a Serial Killer</td>\n",
       "      <td>serial killer decides teach secrets satisfying...</td>\n",
       "      <td>['Comedy', 'Crime', 'Horror']</td>\n",
       "      <td>5.6</td>\n",
       "    </tr>\n",
       "    <tr>\n",
       "      <th>6724</th>\n",
       "      <td>1941</td>\n",
       "      <td>A Woman's Face</td>\n",
       "      <td>sweden female blackmailer with disfiguring fac...</td>\n",
       "      <td>['Drama', 'Film-Noir', 'Thriller']</td>\n",
       "      <td>7.2</td>\n",
       "    </tr>\n",
       "    <tr>\n",
       "      <th>4704</th>\n",
       "      <td>1954</td>\n",
       "      <td>Executive Suite</td>\n",
       "      <td>friday afternoon new york president tredway co...</td>\n",
       "      <td>['Drama']</td>\n",
       "      <td>7.4</td>\n",
       "    </tr>\n",
       "    <tr>\n",
       "      <th>2582</th>\n",
       "      <td>1990</td>\n",
       "      <td>Narrow Margin</td>\n",
       "      <td>los angeles editor publishing house carol hunn...</td>\n",
       "      <td>['Action', 'Crime', 'Thriller']</td>\n",
       "      <td>6.6</td>\n",
       "    </tr>\n",
       "  </tbody>\n",
       "</table>\n",
       "</div>"
      ],
      "text/plain": [
       "      year                      title  \\\n",
       "3107  2003                       Most   \n",
       "900   2008  How to Be a Serial Killer   \n",
       "6724  1941             A Woman's Face   \n",
       "4704  1954            Executive Suite   \n",
       "2582  1990              Narrow Margin   \n",
       "\n",
       "                                                   plot  \\\n",
       "3107  most story single father who takes eight year ...   \n",
       "900   serial killer decides teach secrets satisfying...   \n",
       "6724  sweden female blackmailer with disfiguring fac...   \n",
       "4704  friday afternoon new york president tredway co...   \n",
       "2582  los angeles editor publishing house carol hunn...   \n",
       "\n",
       "                                  genres  rating  \n",
       "3107                  ['Short', 'Drama']     8.0  \n",
       "900        ['Comedy', 'Crime', 'Horror']     5.6  \n",
       "6724  ['Drama', 'Film-Noir', 'Thriller']     7.2  \n",
       "4704                           ['Drama']     7.4  \n",
       "2582     ['Action', 'Crime', 'Thriller']     6.6  "
      ]
     },
     "execution_count": 13,
     "metadata": {},
     "output_type": "execute_result"
    }
   ],
   "source": [
    "dataTraining.head()"
   ]
  },
  {
   "cell_type": "code",
   "execution_count": 14,
   "metadata": {
    "colab": {
     "autoexec": {
      "startup": false,
      "wait_interval": 0
     }
    },
    "colab_type": "code",
    "id": "M2_rkpM1TjXL"
   },
   "outputs": [],
   "source": [
    "dataTraining['genres'] = dataTraining['genres'].map(lambda x: eval(x))\n",
    "\n",
    "le = MultiLabelBinarizer()\n",
    "y_genres = le.fit_transform(dataTraining['genres'])"
   ]
  },
  {
   "cell_type": "code",
   "execution_count": 15,
   "metadata": {
    "colab": {
     "autoexec": {
      "startup": false,
      "wait_interval": 0
     },
     "base_uri": "https://localhost:8080/",
     "height": 34
    },
    "colab_type": "code",
    "executionInfo": {
     "elapsed": 303,
     "status": "ok",
     "timestamp": 1531776002178,
     "user": {
      "displayName": "Diego Armando Salazar Barreto",
      "photoUrl": "https://lh3.googleusercontent.com/a/default-user=s128",
      "userId": "110062887053583561343"
     },
     "user_tz": 300
    },
    "id": "aYnv2Nx2SoeX",
    "outputId": "f413c2ff-632e-4689-f6af-ba41c3e84cb4"
   },
   "outputs": [
    {
     "data": {
      "text/plain": [
       "(7895, 24)"
      ]
     },
     "execution_count": 15,
     "metadata": {},
     "output_type": "execute_result"
    }
   ],
   "source": [
    "y_genres.shape"
   ]
  },
  {
   "cell_type": "markdown",
   "metadata": {},
   "source": [
    "******************************************************************************************************************************************"
   ]
  },
  {
   "cell_type": "markdown",
   "metadata": {
    "colab_type": "text",
    "id": "Sg1E8KL-TjXj"
   },
   "source": [
    "# Split train and test"
   ]
  },
  {
   "cell_type": "code",
   "execution_count": 61,
   "metadata": {
    "colab": {
     "autoexec": {
      "startup": false,
      "wait_interval": 0
     }
    },
    "colab_type": "code",
    "id": "FkFdIAv5TjXp"
   },
   "outputs": [],
   "source": [
    "X_train, X_test, y_train_genres, y_test_genres = train_test_split(X_dtm, y_genres, test_size=0.33, random_state=42)"
   ]
  },
  {
   "cell_type": "markdown",
   "metadata": {
    "colab_type": "text",
    "id": "-OPGssAeTjYJ"
   },
   "source": [
    "# Train DeepNeuralNetwork"
   ]
  },
  {
   "cell_type": "code",
   "execution_count": 59,
   "metadata": {
    "colab": {
     "autoexec": {
      "startup": false,
      "wait_interval": 0
     }
    },
    "colab_type": "code",
    "id": "BnWgdR0pTjYX"
   },
   "outputs": [],
   "source": [
    "# Modelo\n",
    "top_words = 1000\n",
    "max_review_length = 1000\n",
    "# Set the model\n",
    "def textModel(max_review_length):\n",
    "    model = Sequential()\n",
    "    model.add(Embedding(top_words, 32, input_length=max_review_length))\n",
    "    #model.add(BatchNormalization())\n",
    "    model.add(LSTM(256, return_sequences=True))\n",
    "    model.add(BatchNormalization())\n",
    "    model.add(Dropout(0.2))\n",
    "    model.add(LSTM(100))\n",
    "    model.add(BatchNormalization())\n",
    "    model.add(Dropout(0.5))\n",
    "    model.add(Dense(24, activation='sigmoid'))\n",
    "    model.compile(loss='categorical_crossentropy', optimizer=RMSprop(lr=0.001, rho=0.9, epsilon=None, decay=0.0), metrics=['accuracy'])\n",
    "    return model"
   ]
  },
  {
   "cell_type": "code",
   "execution_count": 62,
   "metadata": {
    "colab": {
     "autoexec": {
      "startup": false,
      "wait_interval": 0
     },
     "base_uri": "https://localhost:8080/",
     "height": 719
    },
    "colab_type": "code",
    "executionInfo": {
     "elapsed": 1345,
     "status": "error",
     "timestamp": 1531690026349,
     "user": {
      "displayName": "Diego Armando Salazar Barreto",
      "photoUrl": "https://lh3.googleusercontent.com/a/default-user=s128",
      "userId": "110062887053583561343"
     },
     "user_tz": 300
    },
    "id": "GYngl_faTjY_",
    "outputId": "d3bb34c1-f2c0-4aca-c849-4e14109b4270"
   },
   "outputs": [
    {
     "name": "stdout",
     "output_type": "stream",
     "text": [
      "Train on 300 samples, validate on 100 samples\n",
      "Epoch 1/3\n",
      "300/300 [==============================] - 63s 209ms/step - loss: 9.2630 - acc: 0.0600 - val_loss: 11.4861 - val_acc: 0.0000e+00\n",
      "Epoch 2/3\n",
      "300/300 [==============================] - 60s 200ms/step - loss: 9.0080 - acc: 0.1267 - val_loss: 10.7203 - val_acc: 0.0100\n",
      "Epoch 3/3\n",
      "300/300 [==============================] - 59s 197ms/step - loss: 8.7869 - acc: 0.1400 - val_loss: 13.1403 - val_acc: 0.0600\n"
     ]
    },
    {
     "data": {
      "text/plain": [
       "<keras.callbacks.History at 0x64a70748>"
      ]
     },
     "execution_count": 62,
     "metadata": {},
     "output_type": "execute_result"
    }
   ],
   "source": [
    "ix_train=np.random.choice(X_train.shape[0], 1000)\n",
    "ix_test=np.random.choice(X_test.shape[0], 100)\n",
    "model=textModel(max_review_length)\n",
    "model.fit(X_train[ix_train], y_train_genres[ix_train], epochs=3, batch_size=10, validation_data=(X_test[ix_test], y_test_genres[ix_test]))\n",
    "#model.fit(X_dtm, y_genres, epochs=3, batch_size=10)\n",
    "# epochs=5, batch_size=5 -> acc: 0.18"
   ]
  },
  {
   "cell_type": "markdown",
   "metadata": {},
   "source": [
    "******************************************************************************************************************************************"
   ]
  },
  {
   "cell_type": "markdown",
   "metadata": {},
   "source": [
    "******************************************************************************************************************************************"
   ]
  },
  {
   "cell_type": "markdown",
   "metadata": {},
   "source": [
    "# Images"
   ]
  },
  {
   "cell_type": "markdown",
   "metadata": {},
   "source": [
    "## Libraries"
   ]
  },
  {
   "cell_type": "code",
   "execution_count": null,
   "metadata": {},
   "outputs": [],
   "source": [
    "import pandas as pd\n",
    "import os\n",
    "import numpy as np\n",
    "from sklearn.preprocessing import MultiLabelBinarizer\n",
    "#from sklearn.multiclass import OneVsRestClassifier\n",
    "#from sklearn.ensemble import RandomForestRegressor, RandomForestClassifier\n",
    "#from sklearn.metrics import r2_score, roc_auc_score\n",
    "from sklearn.model_selection import train_test_split\n",
    "#from sklearn.decomposition import PCA\n",
    "import matplotlib.pyplot as plt\n",
    "from skimage import io\n",
    "\n",
    "## Image transformation and reading\n",
    "from keras.preprocessing.image import ImageDataGenerator, array_to_img, img_to_array, load_img\n",
    "import cv2\n",
    "from keras.preprocessing.image import ImageDataGenerator, array_to_img, img_to_array, load_img\n",
    "from keras.layers import Dense, Activation, Dropout, Input\n",
    "from keras.models import Model\n",
    "\n",
    "%matplotlib inline"
   ]
  },
  {
   "cell_type": "code",
   "execution_count": null,
   "metadata": {},
   "outputs": [],
   "source": [
    "##### Solo para Colab #####\n",
    "!pip install -U -q PyDrive\n",
    "# Install the PyDrive wrapper & import libraries.\n",
    "# This only needs to be done once per notebook.\n",
    "from pydrive.auth import GoogleAuth\n",
    "from pydrive.drive import GoogleDrive\n",
    "from google.colab import auth\n",
    "from oauth2client.client import GoogleCredentials\n",
    "from google.colab import files"
   ]
  },
  {
   "cell_type": "code",
   "execution_count": null,
   "metadata": {},
   "outputs": [],
   "source": [
    "# Authenticate and create the PyDrive client.\n",
    "# This only needs to be done once per notebook.\n",
    "auth.authenticate_user()\n",
    "gauth = GoogleAuth()\n",
    "gauth.credentials = GoogleCredentials.get_application_default()\n",
    "drive = GoogleDrive(gauth)"
   ]
  },
  {
   "cell_type": "code",
   "execution_count": null,
   "metadata": {},
   "outputs": [],
   "source": [
    "# Tome las primeras 1025 + 1055 imagenes\n",
    "!unzip -o images.zip"
   ]
  },
  {
   "cell_type": "code",
   "execution_count": null,
   "metadata": {},
   "outputs": [],
   "source": [
    "path='images/'\n",
    "#image = io.imread(os.path.join(path, 'images_resize_gray', str(dataTraining.index[0]) + '_resize_gray.jpeg'))\n",
    "image = io.imread(os.path.join(path, '1713.jpeg'))"
   ]
  },
  {
   "cell_type": "markdown",
   "metadata": {},
   "source": [
    "******************************************************************************************************************************************"
   ]
  },
  {
   "cell_type": "markdown",
   "metadata": {},
   "source": [
    "# Read Images CoLab"
   ]
  },
  {
   "cell_type": "code",
   "execution_count": null,
   "metadata": {},
   "outputs": [],
   "source": [
    "# Verificacion de contenido de carpetas en el Drive con su respectivo ID\n",
    "#file_list = drive.ListFile({'q': \"'root' in parents and trashed=false\"}).GetList()\n",
    "file_list = drive.ListFile({'q': \"'1gX_xAhoYwIwmOVRd33lAuf4pCM3cChB6' in parents and trashed=false\"}).GetList()\n",
    "for file1 in file_list:\n",
    "  print('title: %s, id: %s' % (file1['title'], file1['id']))"
   ]
  },
  {
   "cell_type": "code",
   "execution_count": null,
   "metadata": {},
   "outputs": [],
   "source": [
    "# Download a file based on its file ID.\n",
    "# A file ID looks like: laggVyWshwcyP6kEI-y_W3P8D26sz\n",
    "file_id = '1NMIKcqCHJIDaQi4M9mbjrZf0qlpXtrO-' # -> cnn_data.zip\n",
    "downloaded = drive.CreateFile({'id': file_id})\n",
    "downloaded.GetContentFile(downloaded['title'])"
   ]
  },
  {
   "cell_type": "code",
   "execution_count": null,
   "metadata": {},
   "outputs": [],
   "source": [
    "desired_size=200\n",
    "imgFinal = np.ones((1,200,200,3))\n",
    "for i in os.listdir('images'):\n",
    "  if i.startswith('desktop'):\n",
    "    pass\n",
    "  else:\n",
    "    #images_training.append(load_img(os.path.join(path, str(i)),grayscale=False,target_size=None,interpolation='nearest'))\n",
    "    #image=load_img(os.path.join(path, str(i)),grayscale=False,target_size=None,interpolation='nearest')\n",
    "    #image=img_to_array(image)\n",
    "    \n",
    "    im = cv2.imread(os.path.join(path, str(i)))\n",
    "    old_size = im.shape[:2] # old_size is in (height, width) format\n",
    "\n",
    "    ratio = float(desired_size)/max(old_size)\n",
    "    new_size = tuple([int(x*ratio) for x in old_size])\n",
    "\n",
    "    # new_size should be in (width, height) format\n",
    "\n",
    "    im = cv2.resize(im, (new_size[1], new_size[0]))\n",
    "\n",
    "    delta_w = desired_size - new_size[1]\n",
    "    delta_h = desired_size - new_size[0]\n",
    "    top, bottom = delta_h//2, delta_h-(delta_h//2)\n",
    "    left, right = delta_w//2, delta_w-(delta_w//2)\n",
    "\n",
    "    color = [0, 0, 0]\n",
    "    new_im = cv2.copyMakeBorder(im, top, bottom, left, right, cv2.BORDER_CONSTANT,value=color)\n",
    "    new_im=new_im.reshape((1,new_im.shape[0],new_im.shape[1],new_im.shape[2]))\n",
    "    imgFinal = np.concatenate([imgFinal, new_im], axis=0)\n",
    "\n",
    "# Code for padding: https://jdhao.github.io/2017/11/06/resize-image-to-square-with-padding/"
   ]
  },
  {
   "cell_type": "code",
   "execution_count": null,
   "metadata": {},
   "outputs": [],
   "source": [
    "#imgFinal_2=np.rollaxis(imgFinal, 3, 1) #Para cuando le de la locura al ImageDataGenerator\n",
    "imgFinal=np.delete(imgFinal, 0, 0)\n",
    "imgFinal.shape\n",
    "datagen = ImageDataGenerator(featurewise_center=True, featurewise_std_normalization=True)\n",
    "imgFinal_2=imgFinal.reshape((imgFinal.shape[0],200,200,3))\n",
    "datagen.fit(imgFinal_2)"
   ]
  },
  {
   "cell_type": "markdown",
   "metadata": {
    "colab_type": "text",
    "id": "54LCwTqJTleW"
   },
   "source": [
    "# Create *'y'* Colab"
   ]
  },
  {
   "cell_type": "code",
   "execution_count": null,
   "metadata": {
    "colab": {
     "autoexec": {
      "startup": false,
      "wait_interval": 0
     }
    },
    "colab_type": "code",
    "id": "FmFBuRYU2uk-"
   },
   "outputs": [],
   "source": [
    "# Verificacion de contenido de carpetas en el Drive con su respectivo ID\n",
    "#file_list = drive.ListFile({'q': \"'root' in parents and trashed=false\"}).GetList()\n",
    "file_list = drive.ListFile({'q': \"'1SKNGe6FFghASG38LjtUaoTrmozUibRCZ' in parents and trashed=false\"}).GetList()\n",
    "for file1 in file_list:\n",
    "  print('title: %s, id: %s' % (file1['title'], file1['id']))"
   ]
  },
  {
   "cell_type": "code",
   "execution_count": null,
   "metadata": {
    "colab": {
     "autoexec": {
      "startup": false,
      "wait_interval": 0
     }
    },
    "colab_type": "code",
    "id": "n36llvprlFfM"
   },
   "outputs": [],
   "source": [
    "trainDrive = drive.CreateFile({'id': '1SKNGe6FFghASG38LjtUaoTrmozUibRCZ'})\n",
    "trainDrive.GetContentFile('dataTraining.csv')\n",
    "dataTraining=pd.read_csv(\"dataTraining.csv\", index_col=0)\n",
    "\n",
    "testDrive = drive.CreateFile({'id': '1JWWmvheWnofZl2zqY-7Gu2rJprceYB80'})\n",
    "testDrive.GetContentFile('dataTesting.csv')\n",
    "dataTesting=pd.read_csv(\"dataTesting.csv\", index_col=0)"
   ]
  },
  {
   "cell_type": "code",
   "execution_count": null,
   "metadata": {
    "colab": {
     "autoexec": {
      "startup": false,
      "wait_interval": 0
     }
    },
    "colab_type": "code",
    "id": "cBKBnkTgjs5K"
   },
   "outputs": [],
   "source": [
    "ix_movies = []\n",
    "for i in range(0,len(os.listdir(\"images/\"))):\n",
    "  if os.listdir(\"images/\")[i] == \"desktop.ini\":\n",
    "    pass\n",
    "  else:\n",
    "    ix_movies.append(int(os.listdir(\"images/\")[i].replace(\".jpeg\",\"\")))"
   ]
  },
  {
   "cell_type": "code",
   "execution_count": null,
   "metadata": {
    "colab": {
     "autoexec": {
      "startup": false,
      "wait_interval": 0
     }
    },
    "colab_type": "code",
    "id": "J4h4YJvwmc0K"
   },
   "outputs": [],
   "source": [
    "imgTrain=[]\n",
    "imgTest=[]\n",
    "data_training=[]\n",
    "data_testing=[]\n",
    "for i in range(0,len(ix_movies)):\n",
    "  try:\n",
    "    data_training.append(dataTraining.loc[ix_movies[i]])\n",
    "    imgTrain.append(i)\n",
    "  except:\n",
    "    data_testing.append(dataTesting.loc[ix_movies[i]])\n",
    "    imgTest.append(i)\n",
    "\n",
    "#ix_movies[2]\n",
    "\n",
    "\n",
    "#print(dataTraining.iloc[4082])#.index#.loc[ix_movies, :]\n",
    "#print(dataTraining.iloc[ix_movies[2]])"
   ]
  },
  {
   "cell_type": "code",
   "execution_count": 22,
   "metadata": {
    "colab": {
     "autoexec": {
      "startup": false,
      "wait_interval": 0
     },
     "base_uri": "https://localhost:8080/",
     "height": 34
    },
    "colab_type": "code",
    "executionInfo": {
     "elapsed": 348,
     "status": "ok",
     "timestamp": 1531788942501,
     "user": {
      "displayName": "Diego Armando Salazar Barreto",
      "photoUrl": "https://lh3.googleusercontent.com/a/default-user=s128",
      "userId": "110062887053583561343"
     },
     "user_tz": 300
    },
    "id": "PTYzCiWYu1MM",
    "outputId": "e3176585-a34d-477b-d1a8-b4ef9b25d364"
   },
   "outputs": [
    {
     "data": {
      "text/plain": [
       "1432"
      ]
     },
     "execution_count": 22,
     "metadata": {
      "tags": []
     },
     "output_type": "execute_result"
    }
   ],
   "source": [
    "len(imgTrain)"
   ]
  },
  {
   "cell_type": "code",
   "execution_count": null,
   "metadata": {
    "colab": {
     "autoexec": {
      "startup": false,
      "wait_interval": 0
     }
    },
    "colab_type": "code",
    "id": "j3GUAD4l3HH-"
   },
   "outputs": [],
   "source": [
    "imgTraining=imgFinal_2[[imgTrain[:1431]]]"
   ]
  },
  {
   "cell_type": "code",
   "execution_count": 22,
   "metadata": {
    "colab": {
     "autoexec": {
      "startup": false,
      "wait_interval": 0
     },
     "base_uri": "https://localhost:8080/",
     "height": 50
    },
    "colab_type": "code",
    "executionInfo": {
     "elapsed": 592,
     "status": "ok",
     "timestamp": 1531779727062,
     "user": {
      "displayName": "Diego Armando Salazar Barreto",
      "photoUrl": "https://lh3.googleusercontent.com/a/default-user=s128",
      "userId": "110062887053583561343"
     },
     "user_tz": 300
    },
    "id": "YvtDZtu73RFP",
    "outputId": "4ede7c4e-55ab-4d38-8cc3-8218c3a7051e"
   },
   "outputs": [
    {
     "name": "stdout",
     "output_type": "stream",
     "text": [
      "(1432, 224, 224, 3)\n",
      "(1432, 5)\n"
     ]
    }
   ],
   "source": [
    "# Son 714 que vienen del dataTraining, es decir, tienen labels definidos y son los\n",
    "#deben ser usados para seprar en train y test\n",
    "print(imgTraining.shape)\n",
    "print(np.array(data_training).shape)"
   ]
  },
  {
   "cell_type": "code",
   "execution_count": 17,
   "metadata": {
    "colab": {
     "autoexec": {
      "startup": false,
      "wait_interval": 0
     },
     "base_uri": "https://localhost:8080/",
     "height": 195
    },
    "colab_type": "code",
    "executionInfo": {
     "elapsed": 473,
     "status": "ok",
     "timestamp": 1531788773002,
     "user": {
      "displayName": "Diego Armando Salazar Barreto",
      "photoUrl": "https://lh3.googleusercontent.com/a/default-user=s128",
      "userId": "110062887053583561343"
     },
     "user_tz": 300
    },
    "id": "mFzm-MRI4JpZ",
    "outputId": "040916e7-9634-4856-a322-3373c489a292"
   },
   "outputs": [
    {
     "data": {
      "text/html": [
       "<div>\n",
       "<style scoped>\n",
       "    .dataframe tbody tr th:only-of-type {\n",
       "        vertical-align: middle;\n",
       "    }\n",
       "\n",
       "    .dataframe tbody tr th {\n",
       "        vertical-align: top;\n",
       "    }\n",
       "\n",
       "    .dataframe thead th {\n",
       "        text-align: right;\n",
       "    }\n",
       "</style>\n",
       "<table border=\"1\" class=\"dataframe\">\n",
       "  <thead>\n",
       "    <tr style=\"text-align: right;\">\n",
       "      <th></th>\n",
       "      <th>year</th>\n",
       "      <th>title</th>\n",
       "      <th>plot</th>\n",
       "      <th>genres</th>\n",
       "      <th>rating</th>\n",
       "    </tr>\n",
       "  </thead>\n",
       "  <tbody>\n",
       "    <tr>\n",
       "      <th>9873</th>\n",
       "      <td>1981</td>\n",
       "      <td>They All Laughed</td>\n",
       "      <td>new york ' s odyssey detective agency is hired...</td>\n",
       "      <td>['Comedy', 'Romance']</td>\n",
       "      <td>6.4</td>\n",
       "    </tr>\n",
       "    <tr>\n",
       "      <th>856</th>\n",
       "      <td>1958</td>\n",
       "      <td>A Time to Love and a Time to Die</td>\n",
       "      <td>in  N  ,  a company of german soldiers on the ...</td>\n",
       "      <td>['Drama', 'Romance', 'War']</td>\n",
       "      <td>7.8</td>\n",
       "    </tr>\n",
       "    <tr>\n",
       "      <th>4384</th>\n",
       "      <td>2001</td>\n",
       "      <td>The Invisible Circus</td>\n",
       "      <td>in  N  ,  at age  N  ,  phoebe is unhappy .  w...</td>\n",
       "      <td>['Drama']</td>\n",
       "      <td>5.6</td>\n",
       "    </tr>\n",
       "    <tr>\n",
       "      <th>2405</th>\n",
       "      <td>1976</td>\n",
       "      <td>Eaten Alive</td>\n",
       "      <td>judd runs the starlight hotel out in some sort...</td>\n",
       "      <td>['Horror', 'Thriller']</td>\n",
       "      <td>5.4</td>\n",
       "    </tr>\n",
       "    <tr>\n",
       "      <th>8005</th>\n",
       "      <td>1983</td>\n",
       "      <td>The Sting II</td>\n",
       "      <td>lonnegan is planning to get back at gondorff a...</td>\n",
       "      <td>['Comedy', 'Crime']</td>\n",
       "      <td>5.0</td>\n",
       "    </tr>\n",
       "  </tbody>\n",
       "</table>\n",
       "</div>"
      ],
      "text/plain": [
       "      year                             title  \\\n",
       "9873  1981                  They All Laughed   \n",
       "856   1958  A Time to Love and a Time to Die   \n",
       "4384  2001              The Invisible Circus   \n",
       "2405  1976                       Eaten Alive   \n",
       "8005  1983                      The Sting II   \n",
       "\n",
       "                                                   plot  \\\n",
       "9873  new york ' s odyssey detective agency is hired...   \n",
       "856   in  N  ,  a company of german soldiers on the ...   \n",
       "4384  in  N  ,  at age  N  ,  phoebe is unhappy .  w...   \n",
       "2405  judd runs the starlight hotel out in some sort...   \n",
       "8005  lonnegan is planning to get back at gondorff a...   \n",
       "\n",
       "                           genres  rating  \n",
       "9873        ['Comedy', 'Romance']     6.4  \n",
       "856   ['Drama', 'Romance', 'War']     7.8  \n",
       "4384                    ['Drama']     5.6  \n",
       "2405       ['Horror', 'Thriller']     5.4  \n",
       "8005          ['Comedy', 'Crime']     5.0  "
      ]
     },
     "execution_count": 17,
     "metadata": {
      "tags": []
     },
     "output_type": "execute_result"
    }
   ],
   "source": [
    "data_training=pd.DataFrame(data_training)\n",
    "data_training.head()"
   ]
  },
  {
   "cell_type": "code",
   "execution_count": null,
   "metadata": {
    "colab": {
     "autoexec": {
      "startup": false,
      "wait_interval": 0
     }
    },
    "colab_type": "code",
    "id": "_mrUDUF344qZ"
   },
   "outputs": [],
   "source": [
    "data_training['genres'] = data_training['genres'].map(lambda x: eval(x))\n",
    "\n",
    "le = MultiLabelBinarizer()\n",
    "y_genres = le.fit_transform(data_training['genres'])"
   ]
  },
  {
   "cell_type": "code",
   "execution_count": null,
   "metadata": {
    "colab": {
     "autoexec": {
      "startup": false,
      "wait_interval": 0
     }
    },
    "colab_type": "code",
    "id": "E-fOchsC3UWm"
   },
   "outputs": [],
   "source": [
    "imgTesting=imgFinal_2[[imgTest]] #Esto se pueden obviar\n",
    "imgTesting.shape"
   ]
  },
  {
   "cell_type": "code",
   "execution_count": 27,
   "metadata": {
    "colab": {
     "autoexec": {
      "startup": false,
      "wait_interval": 0
     },
     "base_uri": "https://localhost:8080/",
     "height": 34
    },
    "colab_type": "code",
    "executionInfo": {
     "elapsed": 429,
     "status": "ok",
     "timestamp": 1531789069150,
     "user": {
      "displayName": "Diego Armando Salazar Barreto",
      "photoUrl": "https://lh3.googleusercontent.com/a/default-user=s128",
      "userId": "110062887053583561343"
     },
     "user_tz": 300
    },
    "id": "i0ZRsdsNvdjl",
    "outputId": "cb54a822-f873-45cd-bb35-c0e3339aea82"
   },
   "outputs": [
    {
     "data": {
      "text/plain": [
       "(1432, 23)"
      ]
     },
     "execution_count": 27,
     "metadata": {
      "tags": []
     },
     "output_type": "execute_result"
    }
   ],
   "source": [
    "y_genres.shape"
   ]
  },
  {
   "cell_type": "code",
   "execution_count": null,
   "metadata": {
    "colab": {
     "autoexec": {
      "startup": false,
      "wait_interval": 0
     }
    },
    "colab_type": "code",
    "id": "5NwoBvXgTlet"
   },
   "outputs": [],
   "source": [
    "X_train, X_test, y_train_genres, y_test_genres = train_test_split(imgTraining, y_genres[:1431], test_size=0.33, random_state=42)"
   ]
  },
  {
   "cell_type": "code",
   "execution_count": 26,
   "metadata": {
    "colab": {
     "autoexec": {
      "startup": false,
      "wait_interval": 0
     },
     "base_uri": "https://localhost:8080/",
     "height": 50
    },
    "colab_type": "code",
    "executionInfo": {
     "elapsed": 602,
     "status": "ok",
     "timestamp": 1531779748777,
     "user": {
      "displayName": "Diego Armando Salazar Barreto",
      "photoUrl": "https://lh3.googleusercontent.com/a/default-user=s128",
      "userId": "110062887053583561343"
     },
     "user_tz": 300
    },
    "id": "iosS5nPI9f40",
    "outputId": "eda7789e-395e-4891-c854-dd49a10b72f9"
   },
   "outputs": [
    {
     "name": "stdout",
     "output_type": "stream",
     "text": [
      "(959, 224, 224, 3)\n",
      "(473, 23)\n"
     ]
    }
   ],
   "source": [
    "print(X_train.shape)\n",
    "print(y_test_genres.shape)"
   ]
  },
  {
   "cell_type": "markdown",
   "metadata": {},
   "source": [
    "# Read Images Jupyter"
   ]
  },
  {
   "cell_type": "code",
   "execution_count": null,
   "metadata": {},
   "outputs": [],
   "source": [
    "path = ''\n",
    "dataTraining = pd.read_csv(os.path.join(path, 'data', 'dataTraining.csv'), encoding='UTF-8', index_col=0)\n",
    "dataTesting = pd.read_csv(os.path.join(path, 'data', 'dataTesting.csv'), encoding='UTF-8', index_col=0)"
   ]
  },
  {
   "cell_type": "code",
   "execution_count": null,
   "metadata": {},
   "outputs": [],
   "source": [
    "# Training\n",
    "images_training = []\n",
    "for i in tqdm(dataTraining.index):\n",
    "    images_training.append(io.imread(os.path.join(path, 'images_resize_gray', str(i) + '_resize_gray.jpeg')).flatten())"
   ]
  },
  {
   "cell_type": "code",
   "execution_count": null,
   "metadata": {},
   "outputs": [],
   "source": [
    "images_training = np.stack(images_training)"
   ]
  },
  {
   "cell_type": "code",
   "execution_count": null,
   "metadata": {},
   "outputs": [],
   "source": [
    "# Testing\n",
    "images_testingimages_t  = []\n",
    "for i in tqdm(dataTesting.index):\n",
    "    images_testing.append(io.imread(os.path.join(path, 'images_resize_gray', str(i) + '_resize_gray.jpeg')).flatten())\n",
    "\n",
    "images_testing = np.stack(images_testing)\n",
    "\n",
    "images_testing.shape, dataTesting.shape[0]"
   ]
  },
  {
   "cell_type": "code",
   "execution_count": null,
   "metadata": {},
   "outputs": [],
   "source": []
  },
  {
   "cell_type": "code",
   "execution_count": null,
   "metadata": {},
   "outputs": [],
   "source": [
    "pcapca  ==  PCAPCA((n_componentsn_compon =32)\n",
    "images_training_pca = pca.fit_transform(images_training)"
   ]
  },
  {
   "cell_type": "code",
   "execution_count": null,
   "metadata": {},
   "outputs": [],
   "source": [
    "images_testing_pca = pca.transform(images_testing)"
   ]
  },
  {
   "cell_type": "markdown",
   "metadata": {},
   "source": [
    "# Create *'y'* Jupyter"
   ]
  },
  {
   "cell_type": "code",
   "execution_count": null,
   "metadata": {},
   "outputs": [],
   "source": []
  },
  {
   "cell_type": "markdown",
   "metadata": {
    "colab_type": "text",
    "id": "tLPLS_2nTjad"
   },
   "source": [
    "# Apply models to kaggle test"
   ]
  },
  {
   "cell_type": "code",
   "execution_count": null,
   "metadata": {
    "colab": {
     "autoexec": {
      "startup": false,
      "wait_interval": 0
     }
    },
    "colab_type": "code",
    "id": "jiXDD0BkTjam"
   },
   "outputs": [],
   "source": [
    "X_test_dtm = vect.transform(dataTesting['plot'])\n",
    "\n",
    "cols = ['p_Action', 'p_Adventure', 'p_Animation', 'p_Biography', 'p_Comedy', 'p_Crime', 'p_Documentary', 'p_Drama', 'p_Family',\n",
    "        'p_Fantasy', 'p_Film-Noir', 'p_History', 'p_Horror', 'p_Music', 'p_Musical', 'p_Mystery', 'p_News', 'p_Romance',\n",
    "        'p_Sci-Fi', 'p_Short', 'p_Sport', 'p_Thriller', 'p_War', 'p_Western']\n",
    "\n",
    "y_pred_test_genres = model.predict_proba(X_test_dtm)\n",
    "\n",
    "pd.DataFrame(y_pred_test_genres, index=dataTesting.index, columns=cols).to_csv('pred_genres_text_RF.csv', index_label='ID')"
   ]
  }
 ],
 "metadata": {
  "accelerator": "GPU",
  "colab": {
   "collapsed_sections": [],
   "default_view": {},
   "name": "ExampleTextRF.ipynb",
   "provenance": [],
   "version": "0.3.2",
   "views": {}
  },
  "kernelspec": {
   "display_name": "Python 3",
   "language": "python",
   "name": "python3"
  },
  "language_info": {
   "codemirror_mode": {
    "name": "ipython",
    "version": 3
   },
   "file_extension": ".py",
   "mimetype": "text/x-python",
   "name": "python",
   "nbconvert_exporter": "python",
   "pygments_lexer": "ipython3",
   "version": "3.6.4"
  }
 },
 "nbformat": 4,
 "nbformat_minor": 2
}
