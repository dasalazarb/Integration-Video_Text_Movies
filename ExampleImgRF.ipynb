{
 "cells": [
  {
   "cell_type": "code",
   "execution_count": null,
   "metadata": {
    "colab": {
     "autoexec": {
      "startup": false,
      "wait_interval": 0
     }
    },
    "colab_type": "code",
    "id": "GIkPFijCXuJj"
   },
   "outputs": [],
   "source": [
    "# Correr para reiniciar Kernel y la sesion.\n",
    "!kill -9 -1"
   ]
  },
  {
   "cell_type": "markdown",
   "metadata": {
    "colab_type": "text",
    "id": "MWqnCHCyYBuQ"
   },
   "source": [
    "# Proyecto Final (Imagenes)\n",
    "\n",
    "### Curso Deep Learning y Redes Neuronales - MIIA4406_01\n",
    "\n",
    "#### Universidad de los Andes\n",
    "\n",
    "Integrantes:\n",
    "\n",
    "|Nombre|Codigo|\n",
    "|---------------------|---------------------|\n",
    "|Saby Espinel|*201215868*|\n",
    "|Diego Salazar|*201628925*| <br>\n",
    "<br>\n",
    "______________________________________________________________________________________________________________________"
   ]
  },
  {
   "cell_type": "code",
   "execution_count": 1,
   "metadata": {
    "colab": {
     "autoexec": {
      "startup": false,
      "wait_interval": 0
     },
     "base_uri": "https://localhost:8080/",
     "height": 272
    },
    "colab_type": "code",
    "executionInfo": {
     "elapsed": 18924,
     "status": "ok",
     "timestamp": 1531852672288,
     "user": {
      "displayName": "Saby Espinel",
      "photoUrl": "//lh5.googleusercontent.com/-rmPzhb33xSI/AAAAAAAAAAI/AAAAAAAAAFM/yMVi9A4Job8/s50-c-k-no/photo.jpg",
      "userId": "104445608280165984506"
     },
     "user_tz": 300
    },
    "id": "dAVco1aoYLAv",
    "outputId": "a0c74bfd-e3ef-4f61-ecdf-14ff6a535e5f"
   },
   "outputs": [
    {
     "data": {
      "text/plain": [
       "[name: \"/device:CPU:0\"\n",
       " device_type: \"CPU\"\n",
       " memory_limit: 268435456\n",
       " locality {\n",
       " }\n",
       " incarnation: 8070790562168079571, name: \"/device:GPU:0\"\n",
       " device_type: \"GPU\"\n",
       " memory_limit: 11285974221\n",
       " locality {\n",
       "   bus_id: 1\n",
       "   links {\n",
       "   }\n",
       " }\n",
       " incarnation: 4707813356333598014\n",
       " physical_device_desc: \"device: 0, name: Tesla K80, pci bus id: 0000:00:04.0, compute capability: 3.7\"]"
      ]
     },
     "execution_count": 1,
     "metadata": {
      "tags": []
     },
     "output_type": "execute_result"
    }
   ],
   "source": [
    "# Verificar que se esta usando GPU\n",
    "from tensorflow.python.client import device_lib\n",
    "device_lib.list_local_devices()"
   ]
  },
  {
   "cell_type": "code",
   "execution_count": 2,
   "metadata": {
    "colab": {
     "autoexec": {
      "startup": false,
      "wait_interval": 0
     },
     "base_uri": "https://localhost:8080/",
     "height": 34
    },
    "colab_type": "code",
    "executionInfo": {
     "elapsed": 4842,
     "status": "ok",
     "timestamp": 1531853811234,
     "user": {
      "displayName": "Saby Espinel",
      "photoUrl": "//lh5.googleusercontent.com/-rmPzhb33xSI/AAAAAAAAAAI/AAAAAAAAAFM/yMVi9A4Job8/s50-c-k-no/photo.jpg",
      "userId": "104445608280165984506"
     },
     "user_tz": 300
    },
    "id": "m291mQurTlWt",
    "outputId": "aeff6c46-f8d1-43d5-a2a3-819ae034d4c8"
   },
   "outputs": [
    {
     "name": "stderr",
     "output_type": "stream",
     "text": [
      "Using TensorFlow backend.\n"
     ]
    }
   ],
   "source": [
    "!pip install -U -q PyDrive\n",
    "import pandas as pd\n",
    "import os\n",
    "import numpy as np\n",
    "from sklearn.preprocessing import MultiLabelBinarizer\n",
    "#from sklearn.multiclass import OneVsRestClassifier\n",
    "#from sklearn.ensemble import RandomForestRegressor, RandomForestClassifier\n",
    "#from sklearn.metrics import r2_score, roc_auc_score\n",
    "from sklearn.model_selection import train_test_split\n",
    "#from sklearn.decomposition import PCA\n",
    "import matplotlib.pyplot as plt\n",
    "from skimage import io\n",
    "\n",
    "## Image transformation and reading\n",
    "from keras.preprocessing.image import ImageDataGenerator, array_to_img, img_to_array, load_img\n",
    "import cv2\n",
    "\n",
    "# Install the PyDrive wrapper & import libraries.\n",
    "# This only needs to be done once per notebook.\n",
    "from pydrive.auth import GoogleAuth\n",
    "from pydrive.drive import GoogleDrive\n",
    "from google.colab import auth\n",
    "from oauth2client.client import GoogleCredentials\n",
    "from google.colab import files\n",
    "from keras.preprocessing.image import ImageDataGenerator, array_to_img, img_to_array, load_img\n",
    "from keras.layers import Dense, Activation, Dropout, Input\n",
    "from keras.models import Model\n",
    "\n",
    "%matplotlib inline"
   ]
  },
  {
   "cell_type": "code",
   "execution_count": null,
   "metadata": {
    "colab": {
     "autoexec": {
      "startup": false,
      "wait_interval": 0
     }
    },
    "colab_type": "code",
    "id": "MGm4QI3qZXOI"
   },
   "outputs": [],
   "source": [
    "# Authenticate and create the PyDrive client.\n",
    "# This only needs to be done once per notebook.\n",
    "auth.authenticate_user()\n",
    "gauth = GoogleAuth()\n",
    "gauth.credentials = GoogleCredentials.get_application_default()\n",
    "drive = GoogleDrive(gauth)"
   ]
  },
  {
   "cell_type": "code",
   "execution_count": 4,
   "metadata": {
    "colab": {
     "autoexec": {
      "startup": false,
      "wait_interval": 0
     },
     "base_uri": "https://localhost:8080/",
     "height": 289
    },
    "colab_type": "code",
    "executionInfo": {
     "elapsed": 3285,
     "status": "ok",
     "timestamp": 1531853846837,
     "user": {
      "displayName": "Saby Espinel",
      "photoUrl": "//lh5.googleusercontent.com/-rmPzhb33xSI/AAAAAAAAAAI/AAAAAAAAAFM/yMVi9A4Job8/s50-c-k-no/photo.jpg",
      "userId": "104445608280165984506"
     },
     "user_tz": 300
    },
    "id": "bapxILOzG5J0",
    "outputId": "e094ab53-fbf8-416a-fa66-a1f878a08842"
   },
   "outputs": [
    {
     "name": "stdout",
     "output_type": "stream",
     "text": [
      "title: ExampleImgRF.ipynb, id: 1Pg2-wYIUr866PzKvUy8iXsstZT87uE6x\n",
      "title: images_resize_gray, id: 1AuAOku0WZor-SegS9YWlg0gjqjlguogj\n",
      "title: images_resize_gray.zip, id: 1mcEsaLxakpcQqYZl1pe_qtIEh4FXj0Wx\n",
      "title: TextImgDeepLearning.ipynb, id: 1sEAr0qGqVwDkmZJjw4o1UC3owfqykJma\n",
      "title: images_original, id: 16FnNSHtTQzQBgLbXKs77btkYJrWIH5IF\n",
      "title: images_original.zip, id: 1_Grjc2zdV2gHA7unPg_I7qTEdM6zl1Ok\n",
      "title: ExampleTextRF.ipynb, id: 1awW3xWv99qbvcMP1hWTIJjmdmKq8Ku42\n",
      "title: Proyecto 2_birds_DL (1).ipynb, id: 1mRpiAc1wbDI226Zw56g6NvPHK0ebcACn\n",
      "title: images.zip, id: 1NMIKcqCHJIDaQi4M9mbjrZf0qlpXtrO-\n",
      "title: images, id: 1pkD2K630_7_sqyt42vnbOYKVZrnyE-VQ\n",
      "title: Proyecto2.ipynb, id: 131wvpD2jMHusixkRryXoFdTj9DbmbxYp\n",
      "title: dataTraining.csv, id: 1SKNGe6FFghASG38LjtUaoTrmozUibRCZ\n",
      "title: dataTesting.csv, id: 1JWWmvheWnofZl2zqY-7Gu2rJprceYB80\n",
      "title: .ipynb_checkpoints, id: 17KsfZFar28G8dXPBETs6cCpaAknZO3yP\n",
      "title: moviegenre.png, id: 1h6OU9y8Fwa-HqLMeVDAhLKO9Et6Bojmv\n",
      "title: README.md, id: 1ICVh_qZvcAXH36lytZyJiYgMFbocGgCd\n"
     ]
    }
   ],
   "source": [
    "# Verificacion de contenido de carpetas en el Drive con su respectivo ID\n",
    "#file_list = drive.ListFile({'q': \"'root' in parents and trashed=false\"}).GetList()\n",
    "file_list = drive.ListFile({'q': \"'1gX_xAhoYwIwmOVRd33lAuf4pCM3cChB6' in parents and trashed=false\"}).GetList()\n",
    "for file1 in file_list:\n",
    "  print('title: %s, id: %s' % (file1['title'], file1['id']))"
   ]
  },
  {
   "cell_type": "markdown",
   "metadata": {
    "colab_type": "text",
    "id": "XRd09IaaTlay"
   },
   "source": [
    "# Read Images"
   ]
  },
  {
   "cell_type": "code",
   "execution_count": null,
   "metadata": {
    "colab": {
     "autoexec": {
      "startup": false,
      "wait_interval": 0
     }
    },
    "colab_type": "code",
    "id": "MRtGQqUTKjf5"
   },
   "outputs": [],
   "source": [
    "# Download a file based on its file ID.\n",
    "# A file ID looks like: laggVyWshwcyP6kEI-y_W3P8D26sz\n",
    "file_id = '1NMIKcqCHJIDaQi4M9mbjrZf0qlpXtrO-' # -> cnn_data.zip\n",
    "downloaded = drive.CreateFile({'id': file_id})\n",
    "downloaded.GetContentFile(downloaded['title'])"
   ]
  },
  {
   "cell_type": "code",
   "execution_count": 6,
   "metadata": {
    "colab": {
     "autoexec": {
      "startup": false,
      "wait_interval": 0
     },
     "base_uri": "https://localhost:8080/",
     "height": 35428
    },
    "colab_type": "code",
    "executionInfo": {
     "elapsed": 2180,
     "status": "ok",
     "timestamp": 1531853948182,
     "user": {
      "displayName": "Saby Espinel",
      "photoUrl": "//lh5.googleusercontent.com/-rmPzhb33xSI/AAAAAAAAAAI/AAAAAAAAAFM/yMVi9A4Job8/s50-c-k-no/photo.jpg",
      "userId": "104445608280165984506"
     },
     "user_tz": 300
    },
    "id": "dGnqsw4nK3JC",
    "outputId": "dbb7dd29-0547-40b1-b2d3-00eebdd55a6e"
   },
   "outputs": [
    {
     "name": "stdout",
     "output_type": "stream",
     "text": [
      "Archive:  images.zip\n",
      "   creating: images/\n",
      "  inflating: images/100.jpeg         \n",
      "  inflating: images/10005.jpeg       \n",
      "  inflating: images/10009.jpeg       \n",
      "  inflating: images/10021.jpeg       \n",
      "  inflating: images/10026.jpeg       \n",
      "  inflating: images/10030.jpeg       \n",
      "  inflating: images/10031.jpeg       \n",
      "  inflating: images/10036.jpeg       \n",
      "  inflating: images/10042.jpeg       \n",
      "  inflating: images/10045.jpeg       \n",
      "  inflating: images/10047.jpeg       \n",
      "  inflating: images/10052.jpeg       \n",
      "  inflating: images/10053.jpeg       \n",
      "  inflating: images/10061.jpeg       \n",
      "  inflating: images/10065.jpeg       \n",
      "  inflating: images/10080.jpeg       \n",
      "  inflating: images/10096.jpeg       \n",
      "  inflating: images/10099.jpeg       \n",
      "  inflating: images/10102.jpeg       \n",
      "  inflating: images/10112.jpeg       \n",
      "  inflating: images/10116.jpeg       \n",
      "  inflating: images/1012.jpeg        \n",
      "  inflating: images/10124.jpeg       \n",
      "  inflating: images/10130.jpeg       \n",
      "  inflating: images/10137.jpeg       \n",
      "  inflating: images/10138.jpeg       \n",
      "  inflating: images/10139.jpeg       \n",
      "  inflating: images/1014.jpeg        \n",
      "  inflating: images/10141.jpeg       \n",
      "  inflating: images/10151.jpeg       \n",
      "  inflating: images/10155.jpeg       \n",
      "  inflating: images/10156.jpeg       \n",
      "  inflating: images/10157.jpeg       \n",
      "  inflating: images/10158.jpeg       \n",
      "  inflating: images/10163.jpeg       \n",
      "  inflating: images/10165.jpeg       \n",
      "  inflating: images/1017.jpeg        \n",
      "  inflating: images/10171.jpeg       \n",
      "  inflating: images/10173.jpeg       \n",
      "  inflating: images/10175.jpeg       \n",
      "  inflating: images/10179.jpeg       \n",
      "  inflating: images/10190.jpeg       \n",
      "  inflating: images/10200.jpeg       \n",
      "  inflating: images/10202.jpeg       \n",
      "  inflating: images/10205.jpeg       \n",
      "  inflating: images/10213.jpeg       \n",
      "  inflating: images/10215.jpeg       \n",
      "  inflating: images/10216.jpeg       \n",
      "  inflating: images/1022.jpeg        \n",
      "  inflating: images/10221.jpeg       \n",
      "  inflating: images/10222.jpeg       \n",
      "  inflating: images/10227.jpeg       \n",
      "  inflating: images/10230.jpeg       \n",
      "  inflating: images/10235.jpeg       \n",
      "  inflating: images/10236.jpeg       \n",
      "  inflating: images/10238.jpeg       \n",
      "  inflating: images/10251.jpeg       \n",
      "  inflating: images/10254.jpeg       \n",
      "  inflating: images/10262.jpeg       \n",
      "  inflating: images/10267.jpeg       \n",
      "  inflating: images/10268.jpeg       \n",
      "  inflating: images/10275.jpeg       \n",
      "  inflating: images/10279.jpeg       \n",
      "  inflating: images/1028.jpeg        \n",
      "  inflating: images/10285.jpeg       \n",
      "  inflating: images/10286.jpeg       \n",
      "  inflating: images/10293.jpeg       \n",
      "  inflating: images/10296.jpeg       \n",
      "  inflating: images/10298.jpeg       \n",
      "  inflating: images/10299.jpeg       \n",
      "  inflating: images/103.jpeg         \n",
      "  inflating: images/10304.jpeg       \n",
      "  inflating: images/10305.jpeg       \n",
      "  inflating: images/10307.jpeg       \n",
      "  inflating: images/10316.jpeg       \n",
      "  inflating: images/10325.jpeg       \n",
      "  inflating: images/10328.jpeg       \n",
      "  inflating: images/1033.jpeg        \n",
      "  inflating: images/10334.jpeg       \n",
      "  inflating: images/10341.jpeg       \n",
      "  inflating: images/10346.jpeg       \n",
      "  inflating: images/10350.jpeg       \n",
      "  inflating: images/10355.jpeg       \n",
      "  inflating: images/10357.jpeg       \n",
      "  inflating: images/10383.jpeg       \n",
      "  inflating: images/10396.jpeg       \n",
      "  inflating: images/10401.jpeg       \n",
      "  inflating: images/10406.jpeg       \n",
      "  inflating: images/10407.jpeg       \n",
      "  inflating: images/10422.jpeg       \n",
      "  inflating: images/10427.jpeg       \n",
      "  inflating: images/10430.jpeg       \n",
      "  inflating: images/10433.jpeg       \n",
      "  inflating: images/10446.jpeg       \n",
      "  inflating: images/10449.jpeg       \n",
      "  inflating: images/10451.jpeg       \n",
      "  inflating: images/10454.jpeg       \n",
      "  inflating: images/10468.jpeg       \n",
      "  inflating: images/10475.jpeg       \n",
      "  inflating: images/10478.jpeg       \n",
      "  inflating: images/1048.jpeg        \n",
      " extracting: images/10482.jpeg       \n",
      "  inflating: images/1050.jpeg        \n",
      "  inflating: images/10502.jpeg       \n",
      "  inflating: images/10505.jpeg       \n",
      "  inflating: images/10507.jpeg       \n",
      "  inflating: images/10511.jpeg       \n",
      "  inflating: images/10513.jpeg       \n",
      "  inflating: images/10515.jpeg       \n",
      "  inflating: images/10516.jpeg       \n",
      "  inflating: images/10517.jpeg       \n",
      "  inflating: images/10528.jpeg       \n",
      "  inflating: images/10530.jpeg       \n",
      "  inflating: images/10534.jpeg       \n",
      "  inflating: images/10535.jpeg       \n",
      "  inflating: images/1054.jpeg        \n",
      "  inflating: images/10541.jpeg       \n",
      "  inflating: images/10554.jpeg       \n",
      "  inflating: images/10557.jpeg       \n",
      "  inflating: images/10564.jpeg       \n",
      "  inflating: images/10568.jpeg       \n",
      "  inflating: images/10575.jpeg       \n",
      "  inflating: images/10577.jpeg       \n",
      "  inflating: images/10584.jpeg       \n",
      "  inflating: images/10586.jpeg       \n",
      "  inflating: images/10595.jpeg       \n",
      "  inflating: images/10609.jpeg       \n",
      "  inflating: images/10611.jpeg       \n",
      "  inflating: images/10613.jpeg       \n",
      "  inflating: images/10619.jpeg       \n",
      "  inflating: images/10635.jpeg       \n",
      "  inflating: images/10638.jpeg       \n",
      "  inflating: images/10639.jpeg       \n",
      "  inflating: images/1065.jpeg        \n",
      "  inflating: images/10652.jpeg       \n",
      "  inflating: images/10653.jpeg       \n",
      "  inflating: images/10659.jpeg       \n",
      "  inflating: images/1066.jpeg        \n",
      "  inflating: images/10660.jpeg       \n",
      "  inflating: images/10661.jpeg       \n",
      "  inflating: images/10662.jpeg       \n",
      "  inflating: images/10665.jpeg       \n",
      "  inflating: images/1067.jpeg        \n",
      "  inflating: images/10673.jpeg       \n",
      "  inflating: images/10674.jpeg       \n",
      "  inflating: images/10675.jpeg       \n",
      "  inflating: images/10677.jpeg       \n",
      "  inflating: images/10680.jpeg       \n",
      "  inflating: images/10681.jpeg       \n",
      "  inflating: images/10682.jpeg       \n",
      "  inflating: images/10686.jpeg       \n",
      "  inflating: images/10691.jpeg       \n",
      "  inflating: images/10694.jpeg       \n",
      "  inflating: images/107.jpeg         \n",
      "  inflating: images/10704.jpeg       \n",
      "  inflating: images/10706.jpeg       \n",
      "  inflating: images/10707.jpeg       \n",
      "  inflating: images/1071.jpeg        \n",
      "  inflating: images/10712.jpeg       \n",
      "  inflating: images/10714.jpeg       \n",
      "  inflating: images/10715.jpeg       \n",
      "  inflating: images/10719.jpeg       \n",
      "  inflating: images/10724.jpeg       \n",
      "  inflating: images/10728.jpeg       \n",
      "  inflating: images/1073.jpeg        \n",
      "  inflating: images/10731.jpeg       \n",
      "  inflating: images/1074.jpeg        \n",
      "  inflating: images/10742.jpeg       \n",
      "  inflating: images/10744.jpeg       \n",
      "  inflating: images/1076.jpeg        \n",
      "  inflating: images/10762.jpeg       \n",
      "  inflating: images/10768.jpeg       \n",
      "  inflating: images/10777.jpeg       \n",
      "  inflating: images/10784.jpeg       \n",
      "  inflating: images/10785.jpeg       \n",
      "  inflating: images/10788.jpeg       \n",
      "  inflating: images/10796.jpeg       \n",
      "  inflating: images/1080.jpeg        \n",
      "  inflating: images/10801.jpeg       \n",
      "  inflating: images/10806.jpeg       \n",
      "  inflating: images/1084.jpeg        \n",
      "  inflating: images/10842.jpeg       \n",
      "  inflating: images/10849.jpeg       \n",
      "  inflating: images/10850.jpeg       \n",
      "  inflating: images/10851.jpeg       \n",
      "  inflating: images/10873.jpeg       \n",
      "  inflating: images/10875.jpeg       \n",
      "  inflating: images/10878.jpeg       \n",
      "  inflating: images/10880.jpeg       \n",
      "  inflating: images/10897.jpeg       \n",
      "  inflating: images/10900.jpeg       \n",
      "  inflating: images/10901.jpeg       \n",
      "  inflating: images/10903.jpeg       \n",
      "  inflating: images/10904.jpeg       \n",
      "  inflating: images/10907.jpeg       \n",
      "  inflating: images/10908.jpeg       \n",
      "  inflating: images/10915.jpeg       \n",
      "  inflating: images/10917.jpeg       \n",
      "  inflating: images/10918.jpeg       \n",
      "  inflating: images/10927.jpeg       \n",
      "  inflating: images/10928.jpeg       \n",
      "  inflating: images/10940.jpeg       \n",
      "  inflating: images/10948.jpeg       \n",
      "  inflating: images/1095.jpeg        \n",
      "  inflating: images/1096.jpeg        \n",
      "  inflating: images/10961.jpeg       \n",
      "  inflating: images/10973.jpeg       \n",
      "  inflating: images/10983.jpeg       \n",
      "  inflating: images/10984.jpeg       \n",
      "  inflating: images/10986.jpeg       \n",
      "  inflating: images/10994.jpeg       \n",
      "  inflating: images/1100.jpeg        \n",
      "  inflating: images/11018.jpeg       \n",
      "  inflating: images/11023.jpeg       \n",
      "  inflating: images/11024.jpeg       \n",
      "  inflating: images/11027.jpeg       \n",
      "  inflating: images/11032.jpeg       \n",
      "  inflating: images/11039.jpeg       \n",
      "  inflating: images/11041.jpeg       \n",
      "  inflating: images/11046.jpeg       \n",
      "  inflating: images/11048.jpeg       \n",
      "  inflating: images/11059.jpeg       \n",
      "  inflating: images/1106.jpeg        \n",
      "  inflating: images/11060.jpeg       \n",
      "  inflating: images/11061.jpeg       \n",
      "  inflating: images/11062.jpeg       \n",
      "  inflating: images/11065.jpeg       \n",
      "  inflating: images/1107.jpeg        \n",
      "  inflating: images/11074.jpeg       \n",
      "  inflating: images/11076.jpeg       \n",
      "  inflating: images/11092.jpeg       \n",
      "  inflating: images/111.jpeg         \n",
      "  inflating: images/11101.jpeg       \n",
      "  inflating: images/11105.jpeg       \n",
      "  inflating: images/11113.jpeg       \n",
      "  inflating: images/11117.jpeg       \n",
      "  inflating: images/11120.jpeg       \n",
      "  inflating: images/11121.jpeg       \n",
      "  inflating: images/11122.jpeg       \n",
      "  inflating: images/11125.jpeg       \n",
      "  inflating: images/11139.jpeg       \n",
      "  inflating: images/11140.jpeg       \n",
      "  inflating: images/11155.jpeg       \n",
      "  inflating: images/11158.jpeg       \n",
      "  inflating: images/11159.jpeg       \n",
      "  inflating: images/11165.jpeg       \n",
      "  inflating: images/11166.jpeg       \n",
      "  inflating: images/11167.jpeg       \n",
      "  inflating: images/11169.jpeg       \n",
      "  inflating: images/11172.jpeg       \n",
      "  inflating: images/11174.jpeg       \n",
      "  inflating: images/11177.jpeg       \n",
      "  inflating: images/11187.jpeg       \n",
      "  inflating: images/11190.jpeg       \n",
      "  inflating: images/11194.jpeg       \n",
      "  inflating: images/11197.jpeg       \n",
      "  inflating: images/11199.jpeg       \n",
      "  inflating: images/1120.jpeg        \n",
      "  inflating: images/11202.jpeg       \n",
      "  inflating: images/11205.jpeg       \n",
      "  inflating: images/11216.jpeg       \n",
      "  inflating: images/11224.jpeg       \n",
      "  inflating: images/1123.jpeg        \n",
      "  inflating: images/11230.jpeg       \n",
      "  inflating: images/11236.jpeg       \n",
      "  inflating: images/11237.jpeg       \n",
      "  inflating: images/11238.jpeg       \n",
      "  inflating: images/11243.jpeg       \n",
      "  inflating: images/11244.jpeg       \n",
      "  inflating: images/11246.jpeg       \n",
      "  inflating: images/1125.jpeg        \n",
      "  inflating: images/11259.jpeg       \n",
      "  inflating: images/11260.jpeg       \n",
      "  inflating: images/11261.jpeg       \n",
      "  inflating: images/11265.jpeg       \n",
      "  inflating: images/11268.jpeg       \n",
      "  inflating: images/1127.jpeg        \n",
      "  inflating: images/11275.jpeg       \n",
      "  inflating: images/11277.jpeg       \n",
      "  inflating: images/1136.jpeg        \n",
      "  inflating: images/1142.jpeg        \n",
      "  inflating: images/1147.jpeg        \n",
      "  inflating: images/1163.jpeg        \n",
      "  inflating: images/1167.jpeg        \n",
      "  inflating: images/1170.jpeg        \n",
      "  inflating: images/1176.jpeg        \n",
      "  inflating: images/1178.jpeg        \n",
      "  inflating: images/118.jpeg         \n",
      "  inflating: images/1181.jpeg        \n",
      "  inflating: images/1185.jpeg        \n",
      "  inflating: images/1190.jpeg        \n",
      "  inflating: images/1196.jpeg        \n",
      "  inflating: images/1200.jpeg        \n",
      "  inflating: images/121.jpeg         \n",
      "  inflating: images/1213.jpeg        \n",
      "  inflating: images/1216.jpeg        \n",
      "  inflating: images/1221.jpeg        \n",
      "  inflating: images/1227.jpeg        \n",
      "  inflating: images/1230.jpeg        \n",
      "  inflating: images/1232.jpeg        \n",
      "  inflating: images/1239.jpeg        \n",
      "  inflating: images/124.jpeg         \n",
      "  inflating: images/1242.jpeg        \n",
      "  inflating: images/1243.jpeg        \n",
      "  inflating: images/1248.jpeg        \n",
      "  inflating: images/125.jpeg         \n",
      "  inflating: images/1250.jpeg        \n",
      "  inflating: images/1252.jpeg        \n",
      "  inflating: images/1255.jpeg        \n",
      "  inflating: images/1259.jpeg        \n",
      "  inflating: images/126.jpeg         \n",
      "  inflating: images/127.jpeg         \n",
      "  inflating: images/1273.jpeg        \n",
      "  inflating: images/1275.jpeg        \n",
      "  inflating: images/128.jpeg         \n",
      "  inflating: images/1284.jpeg        \n",
      "  inflating: images/1295.jpeg        \n",
      "  inflating: images/132.jpeg         \n",
      "  inflating: images/1322.jpeg        \n",
      "  inflating: images/1330.jpeg        \n",
      "  inflating: images/1331.jpeg        \n",
      "  inflating: images/1334.jpeg        \n",
      "  inflating: images/1335.jpeg        \n",
      "  inflating: images/1346.jpeg        \n",
      "  inflating: images/1354.jpeg        \n",
      "  inflating: images/1357.jpeg        \n",
      "  inflating: images/1359.jpeg        \n",
      "  inflating: images/1360.jpeg        \n",
      "  inflating: images/1368.jpeg        \n",
      "  inflating: images/1369.jpeg        \n",
      "  inflating: images/1372.jpeg        \n",
      "  inflating: images/1374.jpeg        \n",
      "  inflating: images/1378.jpeg        \n",
      "  inflating: images/1382.jpeg        \n",
      "  inflating: images/1383.jpeg        \n",
      "  inflating: images/1385.jpeg        \n",
      "  inflating: images/1389.jpeg        \n",
      "  inflating: images/139.jpeg         \n",
      "  inflating: images/1390.jpeg        \n",
      "  inflating: images/1392.jpeg        \n",
      "  inflating: images/1397.jpeg        \n",
      "  inflating: images/14.jpeg          \n",
      "  inflating: images/1402.jpeg        \n",
      "  inflating: images/1405.jpeg        \n",
      "  inflating: images/1423.jpeg        \n",
      "  inflating: images/1429.jpeg        \n",
      "  inflating: images/1433.jpeg        \n",
      "  inflating: images/1437.jpeg        \n",
      "  inflating: images/1438.jpeg        \n",
      "  inflating: images/1440.jpeg        \n",
      "  inflating: images/1441.jpeg        \n",
      "  inflating: images/1442.jpeg        \n",
      "  inflating: images/1448.jpeg        \n",
      "  inflating: images/1449.jpeg        \n",
      "  inflating: images/145.jpeg         \n",
      "  inflating: images/1465.jpeg        \n",
      "  inflating: images/1468.jpeg        \n",
      "  inflating: images/149.jpeg         \n",
      "  inflating: images/1491.jpeg        \n",
      "  inflating: images/1502.jpeg        \n",
      "  inflating: images/1519.jpeg        \n",
      "  inflating: images/1521.jpeg        \n",
      "  inflating: images/1522.jpeg        \n",
      "  inflating: images/1528.jpeg        \n",
      "  inflating: images/1529.jpeg        \n",
      "  inflating: images/153.jpeg         \n",
      "  inflating: images/1532.jpeg        \n",
      "  inflating: images/1538.jpeg        \n",
      "  inflating: images/154.jpeg         \n",
      "  inflating: images/1541.jpeg        \n",
      "  inflating: images/1549.jpeg        \n",
      "  inflating: images/1555.jpeg        \n",
      "  inflating: images/1557.jpeg        \n",
      "  inflating: images/1558.jpeg        \n",
      "  inflating: images/156.jpeg         \n",
      "  inflating: images/1563.jpeg        \n",
      "  inflating: images/1566.jpeg        \n",
      "  inflating: images/1584.jpeg        \n",
      "  inflating: images/1585.jpeg        \n",
      "  inflating: images/1591.jpeg        \n",
      "  inflating: images/1593.jpeg        \n",
      "  inflating: images/1596.jpeg        \n",
      "  inflating: images/1611.jpeg        \n",
      "  inflating: images/1617.jpeg        \n",
      "  inflating: images/1618.jpeg        \n",
      "  inflating: images/1624.jpeg        \n",
      "  inflating: images/1626.jpeg        \n",
      "  inflating: images/1632.jpeg        \n",
      "  inflating: images/1640.jpeg        \n",
      "  inflating: images/1642.jpeg        \n",
      "  inflating: images/1649.jpeg        \n",
      "  inflating: images/165.jpeg         \n",
      "  inflating: images/1659.jpeg        \n",
      "  inflating: images/1663.jpeg        \n",
      "  inflating: images/1674.jpeg        \n",
      "  inflating: images/1678.jpeg        \n",
      "  inflating: images/1679.jpeg        \n",
      "  inflating: images/1681.jpeg        \n",
      "  inflating: images/1687.jpeg        \n",
      "  inflating: images/169.jpeg         \n",
      "  inflating: images/1693.jpeg        \n",
      "  inflating: images/1697.jpeg        \n",
      "  inflating: images/17.jpeg          \n",
      "  inflating: images/1704.jpeg        \n",
      "  inflating: images/1707.jpeg        \n",
      "  inflating: images/1713.jpeg        \n",
      "  inflating: images/1717.jpeg        \n",
      "  inflating: images/1718.jpeg        \n",
      "  inflating: images/1735.jpeg        \n",
      "  inflating: images/1739.jpeg        \n",
      "  inflating: images/1748.jpeg        \n",
      "  inflating: images/1749.jpeg        \n",
      "  inflating: images/1754.jpeg        \n",
      "  inflating: images/1763.jpeg        \n",
      "  inflating: images/1765.jpeg        \n",
      "  inflating: images/1773.jpeg        \n",
      "  inflating: images/1776.jpeg        \n",
      "  inflating: images/1777.jpeg        \n",
      "  inflating: images/1778.jpeg        \n",
      "  inflating: images/1785.jpeg        \n",
      "  inflating: images/1787.jpeg        \n",
      "  inflating: images/1794.jpeg        \n",
      "  inflating: images/1796.jpeg        \n",
      "  inflating: images/1800.jpeg        \n",
      "  inflating: images/1801.jpeg        \n",
      "  inflating: images/1802.jpeg        \n",
      "  inflating: images/1809.jpeg        \n",
      "  inflating: images/1815.jpeg        \n",
      "  inflating: images/1817.jpeg        \n",
      "  inflating: images/1822.jpeg        \n",
      "  inflating: images/1828.jpeg        \n",
      "  inflating: images/1831.jpeg        \n",
      "  inflating: images/1837.jpeg        \n",
      "  inflating: images/1848.jpeg        \n",
      "  inflating: images/1859.jpeg        \n",
      "  inflating: images/1862.jpeg        \n",
      "  inflating: images/1863.jpeg        \n",
      "  inflating: images/1866.jpeg        \n",
      "  inflating: images/1885.jpeg        \n",
      "  inflating: images/1886.jpeg        \n",
      "  inflating: images/1888.jpeg        \n",
      "  inflating: images/189.jpeg         \n",
      " extracting: images/1893.jpeg        \n",
      "  inflating: images/1895.jpeg        \n",
      "  inflating: images/1903.jpeg        \n",
      "  inflating: images/1906.jpeg        \n",
      "  inflating: images/1907.jpeg        \n",
      "  inflating: images/1908.jpeg        \n",
      "  inflating: images/1922.jpeg        \n",
      "  inflating: images/1928.jpeg        \n",
      "  inflating: images/1931.jpeg        \n",
      "  inflating: images/1934.jpeg        \n",
      "  inflating: images/1938.jpeg        \n",
      "  inflating: images/1940.jpeg        \n",
      "  inflating: images/1941.jpeg        \n",
      "  inflating: images/1944.jpeg        \n",
      "  inflating: images/1946.jpeg        \n",
      "  inflating: images/1948.jpeg        \n",
      "  inflating: images/1953.jpeg        \n",
      "  inflating: images/1958.jpeg        \n",
      "  inflating: images/1962.jpeg        \n",
      "  inflating: images/1974.jpeg        \n",
      "  inflating: images/1981.jpeg        \n",
      "  inflating: images/1989.jpeg        \n",
      "  inflating: images/1992.jpeg        \n",
      "  inflating: images/20.jpeg          \n",
      "  inflating: images/2002.jpeg        \n",
      "  inflating: images/201.jpeg         \n",
      "  inflating: images/2010.jpeg        \n",
      "  inflating: images/2018.jpeg        \n",
      "  inflating: images/2019.jpeg        \n",
      "  inflating: images/2028.jpeg        \n",
      "  inflating: images/2035.jpeg        \n",
      "  inflating: images/2041.jpeg        \n",
      "  inflating: images/2043.jpeg        \n",
      "  inflating: images/2053.jpeg        \n",
      "  inflating: images/2055.jpeg        \n",
      "  inflating: images/2067.jpeg        \n",
      "  inflating: images/2068.jpeg        \n",
      "  inflating: images/2076.jpeg        \n",
      "  inflating: images/208.jpeg         \n",
      "  inflating: images/2080.jpeg        \n",
      "  inflating: images/2082.jpeg        \n",
      "  inflating: images/2089.jpeg        \n",
      "  inflating: images/2091.jpeg        \n",
      "  inflating: images/2092.jpeg        \n",
      "  inflating: images/2102.jpeg        \n",
      "  inflating: images/2112.jpeg        \n",
      "  inflating: images/2118.jpeg        \n",
      "  inflating: images/2128.jpeg        \n",
      "  inflating: images/2130.jpeg        \n",
      "  inflating: images/2143.jpeg        \n",
      "  inflating: images/2145.jpeg        \n",
      "  inflating: images/2149.jpeg        \n",
      "  inflating: images/2156.jpeg        \n",
      "  inflating: images/2159.jpeg        \n",
      "  inflating: images/2161.jpeg        \n",
      "  inflating: images/2174.jpeg        \n",
      "  inflating: images/2175.jpeg        \n",
      "  inflating: images/2178.jpeg        \n",
      "  inflating: images/218.jpeg         \n",
      "  inflating: images/2180.jpeg        \n",
      "  inflating: images/2184.jpeg        \n",
      "  inflating: images/2186.jpeg        \n",
      "  inflating: images/2198.jpeg        \n",
      "  inflating: images/2200.jpeg        \n",
      "  inflating: images/2201.jpeg        \n",
      "  inflating: images/2203.jpeg        \n",
      "  inflating: images/2208.jpeg        \n",
      "  inflating: images/2209.jpeg        \n",
      "  inflating: images/2217.jpeg        \n",
      "  inflating: images/2220.jpeg        \n",
      "  inflating: images/2232.jpeg        \n",
      "  inflating: images/2238.jpeg        \n",
      "  inflating: images/2239.jpeg        \n",
      "  inflating: images/2244.jpeg        \n",
      "  inflating: images/2249.jpeg        \n",
      "  inflating: images/2255.jpeg        \n",
      "  inflating: images/2261.jpeg        \n",
      "  inflating: images/2262.jpeg        \n",
      "  inflating: images/2267.jpeg        \n",
      "  inflating: images/2271.jpeg        \n",
      "  inflating: images/2275.jpeg        \n",
      "  inflating: images/2278.jpeg        \n",
      "  inflating: images/2280.jpeg        \n",
      "  inflating: images/2292.jpeg        \n",
      "  inflating: images/2294.jpeg        \n",
      "  inflating: images/2295.jpeg        \n",
      "  inflating: images/2304.jpeg        \n",
      "  inflating: images/2305.jpeg        \n",
      "  inflating: images/2311.jpeg        \n",
      "  inflating: images/2319.jpeg        \n",
      "  inflating: images/2323.jpeg        \n",
      "  inflating: images/2327.jpeg        \n",
      "  inflating: images/2329.jpeg        \n",
      "  inflating: images/2330.jpeg        \n",
      "  inflating: images/2333.jpeg        \n",
      "  inflating: images/2341.jpeg        \n",
      "  inflating: images/2342.jpeg        \n",
      "  inflating: images/235.jpeg         \n",
      "  inflating: images/2351.jpeg        \n",
      "  inflating: images/2352.jpeg        \n",
      "  inflating: images/2356.jpeg        \n",
      "  inflating: images/2357.jpeg        \n",
      "  inflating: images/2361.jpeg        \n",
      "  inflating: images/2364.jpeg        \n",
      "  inflating: images/2371.jpeg        \n",
      "  inflating: images/2372.jpeg        \n",
      "  inflating: images/2375.jpeg        \n",
      "  inflating: images/2380.jpeg        \n",
      "  inflating: images/2382.jpeg        \n",
      "  inflating: images/239.jpeg         \n",
      "  inflating: images/2391.jpeg        \n",
      "  inflating: images/2392.jpeg        \n",
      "  inflating: images/2397.jpeg        \n",
      "  inflating: images/2405.jpeg        \n",
      "  inflating: images/241.jpeg         \n",
      "  inflating: images/2415.jpeg        \n",
      "  inflating: images/2421.jpeg        \n",
      "  inflating: images/2422.jpeg        \n",
      "  inflating: images/2423.jpeg        \n",
      "  inflating: images/2439.jpeg        \n",
      "  inflating: images/2442.jpeg        \n",
      "  inflating: images/2446.jpeg        \n",
      "  inflating: images/2451.jpeg        \n",
      "  inflating: images/247.jpeg         \n",
      "  inflating: images/2475.jpeg        \n",
      "  inflating: images/248.jpeg         \n",
      "  inflating: images/2482.jpeg        \n",
      "  inflating: images/2487.jpeg        \n",
      "  inflating: images/2490.jpeg        \n",
      "  inflating: images/2505.jpeg        \n",
      "  inflating: images/2507.jpeg        \n",
      "  inflating: images/251.jpeg         \n",
      "  inflating: images/2511.jpeg        \n",
      "  inflating: images/2512.jpeg        \n",
      "  inflating: images/2515.jpeg        \n",
      "  inflating: images/2518.jpeg        \n",
      "  inflating: images/2519.jpeg        \n",
      "  inflating: images/2521.jpeg        \n",
      "  inflating: images/2538.jpeg        \n",
      "  inflating: images/2543.jpeg        \n",
      "  inflating: images/2551.jpeg        \n",
      "  inflating: images/2556.jpeg        \n",
      "  inflating: images/2559.jpeg        \n",
      "  inflating: images/2560.jpeg        \n",
      "  inflating: images/2576.jpeg        \n",
      "  inflating: images/2577.jpeg        \n",
      "  inflating: images/2578.jpeg        \n",
      "  inflating: images/2587.jpeg        \n",
      "  inflating: images/2590.jpeg        \n",
      "  inflating: images/2597.jpeg        \n",
      "  inflating: images/2605.jpeg        \n",
      "  inflating: images/2609.jpeg        \n",
      "  inflating: images/261.jpeg         \n",
      "  inflating: images/2612.jpeg        \n",
      "  inflating: images/2625.jpeg        \n",
      "  inflating: images/2631.jpeg        \n",
      "  inflating: images/2632.jpeg        \n",
      "  inflating: images/2637.jpeg        \n",
      "  inflating: images/2644.jpeg        \n",
      "  inflating: images/2646.jpeg        \n",
      "  inflating: images/2649.jpeg        \n",
      "  inflating: images/2659.jpeg        \n",
      "  inflating: images/266.jpeg         \n",
      "  inflating: images/2661.jpeg        \n",
      "  inflating: images/2662.jpeg        \n",
      "  inflating: images/2665.jpeg        \n",
      "  inflating: images/2673.jpeg        \n",
      "  inflating: images/2678.jpeg        \n",
      "  inflating: images/2679.jpeg        \n",
      "  inflating: images/2685.jpeg        \n",
      "  inflating: images/2690.jpeg        \n",
      "  inflating: images/2695.jpeg        \n",
      "  inflating: images/2698.jpeg        \n",
      "  inflating: images/27.jpeg          \n",
      "  inflating: images/270.jpeg         \n",
      "  inflating: images/2701.jpeg        \n",
      "  inflating: images/2706.jpeg        \n",
      "  inflating: images/2707.jpeg        \n",
      "  inflating: images/2708.jpeg        \n",
      "  inflating: images/2710.jpeg        \n",
      "  inflating: images/272.jpeg         \n",
      "  inflating: images/2725.jpeg        \n",
      "  inflating: images/2727.jpeg        \n",
      "  inflating: images/2728.jpeg        \n",
      "  inflating: images/2730.jpeg        \n",
      "  inflating: images/2732.jpeg        \n",
      "  inflating: images/2735.jpeg        \n",
      "  inflating: images/274.jpeg         \n",
      "  inflating: images/2742.jpeg        \n",
      "  inflating: images/2744.jpeg        \n",
      "  inflating: images/2747.jpeg        \n",
      "  inflating: images/2752.jpeg        \n",
      "  inflating: images/2760.jpeg        \n",
      "  inflating: images/2763.jpeg        \n",
      "  inflating: images/2767.jpeg        \n",
      "  inflating: images/2779.jpeg        \n",
      "  inflating: images/279.jpeg         \n",
      "  inflating: images/2793.jpeg        \n",
      "  inflating: images/2799.jpeg        \n",
      "  inflating: images/2808.jpeg        \n",
      "  inflating: images/2811.jpeg        \n",
      "  inflating: images/2813.jpeg        \n",
      "  inflating: images/2822.jpeg        \n",
      "  inflating: images/283.jpeg         \n",
      "  inflating: images/2837.jpeg        \n",
      "  inflating: images/2841.jpeg        \n",
      "  inflating: images/2843.jpeg        \n",
      "  inflating: images/2848.jpeg        \n",
      "  inflating: images/2866.jpeg        \n",
      "  inflating: images/2881.jpeg        \n",
      "  inflating: images/2884.jpeg        \n",
      "  inflating: images/2886.jpeg        \n",
      "  inflating: images/2890.jpeg        \n",
      "  inflating: images/2893.jpeg        \n",
      "  inflating: images/2898.jpeg        \n",
      "  inflating: images/2900.jpeg        \n",
      "  inflating: images/2906.jpeg        \n",
      "  inflating: images/2909.jpeg        \n",
      "  inflating: images/2910.jpeg        \n",
      "  inflating: images/2928.jpeg        \n",
      "  inflating: images/2929.jpeg        \n",
      "  inflating: images/2936.jpeg        \n",
      "  inflating: images/2939.jpeg        \n",
      "  inflating: images/294.jpeg         \n",
      "  inflating: images/2942.jpeg        \n",
      "  inflating: images/2946.jpeg        \n",
      "  inflating: images/2956.jpeg        \n",
      "  inflating: images/2977.jpeg        \n",
      "  inflating: images/2979.jpeg        \n",
      "  inflating: images/2981.jpeg        \n",
      "  inflating: images/2982.jpeg        \n",
      "  inflating: images/2986.jpeg        \n",
      "  inflating: images/2991.jpeg        \n",
      "  inflating: images/3000.jpeg        \n",
      "  inflating: images/3014.jpeg        \n",
      "  inflating: images/302.jpeg         \n",
      "  inflating: images/3025.jpeg        \n",
      "  inflating: images/3028.jpeg        \n",
      "  inflating: images/303.jpeg         \n",
      "  inflating: images/3030.jpeg        \n",
      "  inflating: images/3034.jpeg        \n",
      "  inflating: images/3035.jpeg        \n",
      "  inflating: images/3043.jpeg        \n",
      "  inflating: images/3046.jpeg        \n",
      "  inflating: images/3065.jpeg        \n",
      "  inflating: images/3067.jpeg        \n",
      "  inflating: images/3075.jpeg        \n",
      "  inflating: images/3077.jpeg        \n",
      "  inflating: images/3080.jpeg        \n",
      "  inflating: images/3086.jpeg        \n",
      "  inflating: images/309.jpeg         \n",
      "  inflating: images/3093.jpeg        \n",
      "  inflating: images/3097.jpeg        \n",
      "  inflating: images/3098.jpeg        \n",
      "  inflating: images/3104.jpeg        \n",
      "  inflating: images/3107.jpeg        \n",
      "  inflating: images/3110.jpeg        \n",
      "  inflating: images/3135.jpeg        \n",
      "  inflating: images/3137.jpeg        \n",
      "  inflating: images/3148.jpeg        \n",
      "  inflating: images/3159.jpeg        \n",
      "  inflating: images/3162.jpeg        \n",
      "  inflating: images/3165.jpeg        \n",
      "  inflating: images/3168.jpeg        \n",
      "  inflating: images/3169.jpeg        \n",
      "  inflating: images/3179.jpeg        \n",
      "  inflating: images/318.jpeg         \n",
      "  inflating: images/3189.jpeg        \n",
      "  inflating: images/3190.jpeg        \n",
      "  inflating: images/3198.jpeg        \n",
      "  inflating: images/3199.jpeg        \n",
      "  inflating: images/3206.jpeg        \n",
      "  inflating: images/3218.jpeg        \n",
      "  inflating: images/3223.jpeg        \n",
      "  inflating: images/3226.jpeg        \n",
      "  inflating: images/323.jpeg         \n",
      "  inflating: images/3231.jpeg        \n",
      "  inflating: images/3246.jpeg        \n",
      "  inflating: images/3247.jpeg        \n",
      "  inflating: images/3248.jpeg        \n",
      "  inflating: images/3252.jpeg        \n",
      "  inflating: images/3255.jpeg        \n",
      "  inflating: images/3265.jpeg        \n",
      "  inflating: images/3269.jpeg        \n",
      "  inflating: images/3274.jpeg        \n",
      "  inflating: images/3277.jpeg        \n",
      "  inflating: images/3284.jpeg        \n",
      "  inflating: images/3290.jpeg        \n",
      "  inflating: images/3292.jpeg        \n",
      "  inflating: images/3295.jpeg        \n",
      "  inflating: images/3300.jpeg        \n",
      "  inflating: images/3301.jpeg        \n",
      "  inflating: images/3304.jpeg        \n",
      "  inflating: images/3311.jpeg        \n",
      "  inflating: images/3313.jpeg        \n",
      "  inflating: images/3314.jpeg        \n",
      "  inflating: images/3315.jpeg        \n",
      "  inflating: images/3321.jpeg        \n",
      "  inflating: images/3328.jpeg        \n",
      "  inflating: images/3332.jpeg        \n",
      "  inflating: images/3337.jpeg        \n",
      "  inflating: images/3338.jpeg        \n",
      "  inflating: images/334.jpeg         \n",
      "  inflating: images/3340.jpeg        \n",
      "  inflating: images/3343.jpeg        \n",
      "  inflating: images/3346.jpeg        \n",
      "  inflating: images/3351.jpeg        \n",
      "  inflating: images/3356.jpeg        \n",
      "  inflating: images/3362.jpeg        \n",
      "  inflating: images/3381.jpeg        \n",
      "  inflating: images/3382.jpeg        \n",
      "  inflating: images/3383.jpeg        \n",
      "  inflating: images/3386.jpeg        \n",
      "  inflating: images/339.jpeg         \n",
      "  inflating: images/3396.jpeg        \n",
      "  inflating: images/34.jpeg          \n",
      "  inflating: images/340.jpeg         \n",
      "  inflating: images/3410.jpeg        \n",
      "  inflating: images/3411.jpeg        \n",
      "  inflating: images/3426.jpeg        \n",
      "  inflating: images/3431.jpeg        \n",
      "  inflating: images/3441.jpeg        \n",
      "  inflating: images/3459.jpeg        \n",
      "  inflating: images/346.jpeg         \n",
      "  inflating: images/3461.jpeg        \n",
      "  inflating: images/3463.jpeg        \n",
      "  inflating: images/3468.jpeg        \n",
      "  inflating: images/348.jpeg         \n",
      "  inflating: images/3484.jpeg        \n",
      "  inflating: images/3486.jpeg        \n",
      "  inflating: images/3493.jpeg        \n",
      "  inflating: images/350.jpeg         \n",
      "  inflating: images/3510.jpeg        \n",
      "  inflating: images/3513.jpeg        \n",
      "  inflating: images/3516.jpeg        \n",
      "  inflating: images/3521.jpeg        \n",
      "  inflating: images/3522.jpeg        \n",
      "  inflating: images/353.jpeg         \n",
      "  inflating: images/3532.jpeg        \n",
      "  inflating: images/3538.jpeg        \n",
      "  inflating: images/3541.jpeg        \n",
      "  inflating: images/3552.jpeg        \n",
      "  inflating: images/3554.jpeg        \n",
      "  inflating: images/3556.jpeg        \n",
      "  inflating: images/3559.jpeg        \n",
      "  inflating: images/3564.jpeg        \n",
      "  inflating: images/3567.jpeg        \n",
      "  inflating: images/3580.jpeg        \n",
      "  inflating: images/3584.jpeg        \n",
      "  inflating: images/3586.jpeg        \n",
      "  inflating: images/3594.jpeg        \n",
      "  inflating: images/3603.jpeg        \n",
      "  inflating: images/3607.jpeg        \n",
      "  inflating: images/3609.jpeg        \n",
      "  inflating: images/361.jpeg         \n",
      "  inflating: images/3615.jpeg        \n",
      "  inflating: images/3624.jpeg        \n",
      "  inflating: images/363.jpeg         \n",
      "  inflating: images/3636.jpeg        \n",
      "  inflating: images/3641.jpeg        \n",
      "  inflating: images/3643.jpeg        \n",
      "  inflating: images/3646.jpeg        \n",
      "  inflating: images/3655.jpeg        \n",
      "  inflating: images/3657.jpeg        \n",
      "  inflating: images/366.jpeg         \n",
      "  inflating: images/3660.jpeg        \n",
      "  inflating: images/3667.jpeg        \n",
      "  inflating: images/3669.jpeg        \n",
      "  inflating: images/3673.jpeg        \n",
      "  inflating: images/3675.jpeg        \n",
      "  inflating: images/3680.jpeg        \n",
      "  inflating: images/3682.jpeg        \n",
      "  inflating: images/3687.jpeg        \n",
      "  inflating: images/3694.jpeg        \n",
      "  inflating: images/37.jpeg          \n",
      "  inflating: images/3703.jpeg        \n",
      "  inflating: images/3705.jpeg        \n",
      "  inflating: images/3710.jpeg        \n",
      "  inflating: images/3714.jpeg        \n",
      "  inflating: images/3719.jpeg        \n",
      "  inflating: images/3720.jpeg        \n",
      "  inflating: images/3725.jpeg        \n",
      "  inflating: images/3726.jpeg        \n",
      "  inflating: images/3727.jpeg        \n",
      "  inflating: images/3744.jpeg        \n",
      "  inflating: images/375.jpeg         \n",
      "  inflating: images/3751.jpeg        \n",
      "  inflating: images/3753.jpeg        \n",
      "  inflating: images/3755.jpeg        \n",
      "  inflating: images/3756.jpeg        \n",
      "  inflating: images/3757.jpeg        \n",
      "  inflating: images/3765.jpeg        \n",
      "  inflating: images/3767.jpeg        \n",
      "  inflating: images/3768.jpeg        \n",
      "  inflating: images/377.jpeg         \n",
      "  inflating: images/3772.jpeg        \n",
      "  inflating: images/378.jpeg         \n",
      "  inflating: images/379.jpeg         \n",
      "  inflating: images/3792.jpeg        \n",
      "  inflating: images/3793.jpeg        \n",
      "  inflating: images/3794.jpeg        \n",
      "  inflating: images/3801.jpeg        \n",
      "  inflating: images/381.jpeg         \n",
      "  inflating: images/3813.jpeg        \n",
      "  inflating: images/3822.jpeg        \n",
      "  inflating: images/3825.jpeg        \n",
      "  inflating: images/3830.jpeg        \n",
      "  inflating: images/3846.jpeg        \n",
      "  inflating: images/3852.jpeg        \n",
      "  inflating: images/3856.jpeg        \n",
      "  inflating: images/3857.jpeg        \n",
      "  inflating: images/3860.jpeg        \n",
      "  inflating: images/3868.jpeg        \n",
      "  inflating: images/3869.jpeg        \n",
      "  inflating: images/3870.jpeg        \n",
      "  inflating: images/3871.jpeg        \n",
      "  inflating: images/3883.jpeg        \n",
      "  inflating: images/3887.jpeg        \n",
      "  inflating: images/3890.jpeg        \n",
      "  inflating: images/3893.jpeg        \n",
      "  inflating: images/3896.jpeg        \n",
      "  inflating: images/3899.jpeg        \n",
      "  inflating: images/3900.jpeg        \n",
      "  inflating: images/3902.jpeg        \n",
      "  inflating: images/3910.jpeg        \n",
      "  inflating: images/3923.jpeg        \n",
      "  inflating: images/3927.jpeg        \n",
      "  inflating: images/3929.jpeg        \n",
      "  inflating: images/393.jpeg         \n",
      "  inflating: images/3932.jpeg        \n",
      "  inflating: images/394.jpeg         \n",
      "  inflating: images/3946.jpeg        \n",
      "  inflating: images/3955.jpeg        \n",
      "  inflating: images/396.jpeg         \n",
      "  inflating: images/3962.jpeg        \n",
      "  inflating: images/3966.jpeg        \n",
      "  inflating: images/3974.jpeg        \n",
      "  inflating: images/4.jpeg           \n",
      "  inflating: images/4004.jpeg        \n",
      "  inflating: images/4010.jpeg        \n",
      "  inflating: images/4014.jpeg        \n",
      "  inflating: images/4018.jpeg        \n",
      "  inflating: images/4023.jpeg        \n",
      "  inflating: images/4026.jpeg        \n",
      "  inflating: images/4031.jpeg        \n",
      "  inflating: images/4032.jpeg        \n",
      "  inflating: images/4039.jpeg        \n",
      "  inflating: images/4041.jpeg        \n",
      "  inflating: images/4042.jpeg        \n",
      "  inflating: images/4044.jpeg        \n",
      "  inflating: images/4047.jpeg        \n",
      "  inflating: images/4048.jpeg        \n",
      "  inflating: images/405.jpeg         \n",
      "  inflating: images/4058.jpeg        \n",
      "  inflating: images/4064.jpeg        \n",
      "  inflating: images/4068.jpeg        \n",
      "  inflating: images/4080.jpeg        \n",
      "  inflating: images/4082.jpeg        \n",
      "  inflating: images/409.jpeg         \n",
      "  inflating: images/4102.jpeg        \n",
      "  inflating: images/4110.jpeg        \n",
      "  inflating: images/4111.jpeg        \n",
      "  inflating: images/4112.jpeg        \n",
      "  inflating: images/4115.jpeg        \n",
      "  inflating: images/4123.jpeg        \n",
      "  inflating: images/4130.jpeg        \n",
      "  inflating: images/4133.jpeg        \n",
      "  inflating: images/4136.jpeg        \n",
      "  inflating: images/4150.jpeg        \n",
      "  inflating: images/4153.jpeg        \n",
      "  inflating: images/416.jpeg         \n",
      "  inflating: images/4166.jpeg        \n",
      "  inflating: images/4183.jpeg        \n",
      "  inflating: images/4199.jpeg        \n",
      "  inflating: images/4200.jpeg        \n",
      "  inflating: images/4204.jpeg        \n",
      "  inflating: images/4208.jpeg        \n",
      "  inflating: images/4210.jpeg        \n",
      "  inflating: images/4214.jpeg        \n",
      "  inflating: images/4216.jpeg        \n",
      "  inflating: images/4233.jpeg        \n",
      "  inflating: images/4236.jpeg        \n",
      "  inflating: images/4238.jpeg        \n",
      "  inflating: images/4248.jpeg        \n",
      "  inflating: images/4254.jpeg        \n",
      "  inflating: images/4260.jpeg        \n",
      "  inflating: images/4261.jpeg        \n",
      "  inflating: images/4269.jpeg        \n",
      "  inflating: images/4276.jpeg        \n",
      "  inflating: images/4278.jpeg        \n",
      "  inflating: images/4282.jpeg        \n",
      "  inflating: images/429.jpeg         \n",
      "  inflating: images/4291.jpeg        \n",
      "  inflating: images/4294.jpeg        \n",
      "  inflating: images/4296.jpeg        \n",
      "  inflating: images/4298.jpeg        \n",
      "  inflating: images/4299.jpeg        \n",
      "  inflating: images/4302.jpeg        \n",
      "  inflating: images/4306.jpeg        \n",
      "  inflating: images/4311.jpeg        \n",
      "  inflating: images/4316.jpeg        \n",
      "  inflating: images/4320.jpeg        \n",
      "  inflating: images/4323.jpeg        \n",
      "  inflating: images/433.jpeg         \n",
      "  inflating: images/4336.jpeg        \n",
      "  inflating: images/4342.jpeg        \n",
      "  inflating: images/4347.jpeg        \n",
      "  inflating: images/4352.jpeg        \n",
      "  inflating: images/4354.jpeg        \n",
      "  inflating: images/4355.jpeg        \n",
      "  inflating: images/4364.jpeg        \n",
      "  inflating: images/4368.jpeg        \n",
      "  inflating: images/4371.jpeg        \n",
      "  inflating: images/4375.jpeg        \n",
      "  inflating: images/4376.jpeg        \n",
      "  inflating: images/4378.jpeg        \n",
      "  inflating: images/4380.jpeg        \n",
      "  inflating: images/4384.jpeg        \n",
      "  inflating: images/4386.jpeg        \n",
      "  inflating: images/4392.jpeg        \n",
      "  inflating: images/4393.jpeg        \n",
      "  inflating: images/4399.jpeg        \n",
      "  inflating: images/4400.jpeg        \n",
      "  inflating: images/4403.jpeg        \n",
      "  inflating: images/4409.jpeg        \n",
      "  inflating: images/4416.jpeg        \n",
      "  inflating: images/4418.jpeg        \n",
      "  inflating: images/4419.jpeg        \n",
      "  inflating: images/442.jpeg         \n",
      "  inflating: images/4426.jpeg        \n",
      "  inflating: images/4427.jpeg        \n",
      "  inflating: images/4432.jpeg        \n",
      "  inflating: images/4436.jpeg        \n",
      "  inflating: images/4438.jpeg        \n",
      "  inflating: images/4439.jpeg        \n",
      "  inflating: images/4447.jpeg        \n",
      "  inflating: images/4458.jpeg        \n",
      "  inflating: images/4459.jpeg        \n",
      "  inflating: images/446.jpeg         \n",
      "  inflating: images/4464.jpeg        \n",
      "  inflating: images/4471.jpeg        \n",
      "  inflating: images/4495.jpeg        \n",
      "  inflating: images/4508.jpeg        \n",
      "  inflating: images/4509.jpeg        \n",
      "  inflating: images/451.jpeg         \n",
      "  inflating: images/4511.jpeg        \n",
      "  inflating: images/4513.jpeg        \n",
      "  inflating: images/4517.jpeg        \n",
      "  inflating: images/4518.jpeg        \n",
      "  inflating: images/4519.jpeg        \n",
      "  inflating: images/4526.jpeg        \n",
      "  inflating: images/4528.jpeg        \n",
      "  inflating: images/4542.jpeg        \n",
      "  inflating: images/455.jpeg         \n",
      "  inflating: images/4553.jpeg        \n",
      "  inflating: images/4559.jpeg        \n",
      "  inflating: images/4561.jpeg        \n",
      "  inflating: images/4566.jpeg        \n",
      "  inflating: images/4569.jpeg        \n",
      "  inflating: images/4575.jpeg        \n",
      "  inflating: images/4576.jpeg        \n",
      "  inflating: images/4577.jpeg        \n",
      "  inflating: images/4583.jpeg        \n",
      "  inflating: images/4585.jpeg        \n",
      "  inflating: images/459.jpeg         \n",
      "  inflating: images/460.jpeg         \n",
      "  inflating: images/4600.jpeg        \n",
      "  inflating: images/4611.jpeg        \n",
      "  inflating: images/4618.jpeg        \n",
      "  inflating: images/4621.jpeg        \n",
      "  inflating: images/4628.jpeg        \n",
      "  inflating: images/4630.jpeg        \n",
      "  inflating: images/4645.jpeg        \n",
      "  inflating: images/4657.jpeg        \n",
      "  inflating: images/4660.jpeg        \n",
      "  inflating: images/4662.jpeg        \n",
      "  inflating: images/4668.jpeg        \n",
      "  inflating: images/4671.jpeg        \n",
      "  inflating: images/4672.jpeg        \n",
      "  inflating: images/468.jpeg         \n",
      "  inflating: images/4683.jpeg        \n",
      "  inflating: images/469.jpeg         \n",
      "  inflating: images/4694.jpeg        \n",
      "  inflating: images/4697.jpeg        \n",
      "  inflating: images/47.jpeg          \n",
      "  inflating: images/4700.jpeg        \n",
      "  inflating: images/4709.jpeg        \n",
      "  inflating: images/4718.jpeg        \n",
      "  inflating: images/4721.jpeg        \n",
      "  inflating: images/4727.jpeg        \n",
      "  inflating: images/4729.jpeg        \n",
      "  inflating: images/4733.jpeg        \n",
      "  inflating: images/4734.jpeg        \n",
      "  inflating: images/4740.jpeg        \n",
      "  inflating: images/4744.jpeg        \n",
      "  inflating: images/4753.jpeg        \n",
      "  inflating: images/4757.jpeg        \n",
      "  inflating: images/4761.jpeg        \n",
      "  inflating: images/4762.jpeg        \n",
      "  inflating: images/4763.jpeg        \n",
      "  inflating: images/4772.jpeg        \n",
      "  inflating: images/4777.jpeg        \n",
      "  inflating: images/4781.jpeg        \n",
      "  inflating: images/4787.jpeg        \n",
      "  inflating: images/4793.jpeg        \n",
      "  inflating: images/4796.jpeg        \n",
      "  inflating: images/4798.jpeg        \n",
      "  inflating: images/48.jpeg          \n",
      "  inflating: images/4801.jpeg        \n",
      "  inflating: images/4811.jpeg        \n",
      "  inflating: images/4824.jpeg        \n",
      "  inflating: images/4827.jpeg        \n",
      "  inflating: images/4830.jpeg        \n",
      "  inflating: images/4833.jpeg        \n",
      "  inflating: images/484.jpeg         \n",
      "  inflating: images/4844.jpeg        \n",
      "  inflating: images/4850.jpeg        \n",
      "  inflating: images/4856.jpeg        \n",
      "  inflating: images/4860.jpeg        \n",
      "  inflating: images/4863.jpeg        \n",
      "  inflating: images/4871.jpeg        \n",
      "  inflating: images/4872.jpeg        \n",
      "  inflating: images/4878.jpeg        \n",
      "  inflating: images/4883.jpeg        \n",
      "  inflating: images/4895.jpeg        \n",
      "  inflating: images/4901.jpeg        \n",
      "  inflating: images/4904.jpeg        \n",
      "  inflating: images/4918.jpeg        \n",
      "  inflating: images/4920.jpeg        \n",
      "  inflating: images/4921.jpeg        \n",
      "  inflating: images/4925.jpeg        \n",
      "  inflating: images/4926.jpeg        \n",
      "  inflating: images/4930.jpeg        \n",
      "  inflating: images/4931.jpeg        \n",
      "  inflating: images/4934.jpeg        \n",
      "  inflating: images/4937.jpeg        \n",
      "  inflating: images/4939.jpeg        \n",
      "  inflating: images/4940.jpeg        \n",
      "  inflating: images/4948.jpeg        \n",
      "  inflating: images/4949.jpeg        \n",
      "  inflating: images/4952.jpeg        \n",
      "  inflating: images/496.jpeg         \n",
      "  inflating: images/4967.jpeg        \n",
      "  inflating: images/4990.jpeg        \n",
      "  inflating: images/4991.jpeg        \n",
      "  inflating: images/4992.jpeg        \n",
      "  inflating: images/5003.jpeg        \n",
      "  inflating: images/5005.jpeg        \n",
      "  inflating: images/5011.jpeg        \n",
      "  inflating: images/5015.jpeg        \n",
      "  inflating: images/502.jpeg         \n",
      "  inflating: images/503.jpeg         \n",
      "  inflating: images/5037.jpeg        \n",
      "  inflating: images/504.jpeg         \n",
      "  inflating: images/5044.jpeg        \n",
      "  inflating: images/5053.jpeg        \n",
      "  inflating: images/5065.jpeg        \n",
      "  inflating: images/5085.jpeg        \n",
      "  inflating: images/5091.jpeg        \n",
      "  inflating: images/5092.jpeg        \n",
      "  inflating: images/5094.jpeg        \n",
      "  inflating: images/5100.jpeg        \n",
      "  inflating: images/5106.jpeg        \n",
      "  inflating: images/5111.jpeg        \n",
      "  inflating: images/5118.jpeg        \n",
      "  inflating: images/5120.jpeg        \n",
      "  inflating: images/5123.jpeg        \n",
      "  inflating: images/5129.jpeg        \n",
      "  inflating: images/5132.jpeg        \n",
      "  inflating: images/5135.jpeg        \n",
      "  inflating: images/5137.jpeg        \n",
      "  inflating: images/5143.jpeg        \n",
      "  inflating: images/5146.jpeg        \n",
      "  inflating: images/5163.jpeg        \n",
      "  inflating: images/5166.jpeg        \n",
      "  inflating: images/517.jpeg         \n",
      "  inflating: images/5184.jpeg        \n",
      "  inflating: images/5187.jpeg        \n",
      "  inflating: images/5188.jpeg        \n",
      "  inflating: images/5191.jpeg        \n",
      "  inflating: images/5209.jpeg        \n",
      "  inflating: images/5213.jpeg        \n",
      "  inflating: images/5215.jpeg        \n",
      "  inflating: images/5218.jpeg        \n",
      "  inflating: images/5224.jpeg        \n",
      "  inflating: images/5225.jpeg        \n",
      "  inflating: images/5230.jpeg        \n",
      "  inflating: images/5232.jpeg        \n",
      "  inflating: images/5235.jpeg        \n",
      "  inflating: images/5245.jpeg        \n",
      "  inflating: images/5246.jpeg        \n",
      "  inflating: images/5252.jpeg        \n",
      "  inflating: images/526.jpeg         \n",
      "  inflating: images/5264.jpeg        \n",
      "  inflating: images/5265.jpeg        \n",
      "  inflating: images/5267.jpeg        \n",
      "  inflating: images/5268.jpeg        \n",
      "  inflating: images/527.jpeg         \n",
      "  inflating: images/5271.jpeg        \n",
      "  inflating: images/5280.jpeg        \n",
      "  inflating: images/5282.jpeg        \n",
      "  inflating: images/529.jpeg         \n",
      "  inflating: images/5303.jpeg        \n",
      "  inflating: images/5317.jpeg        \n",
      "  inflating: images/5320.jpeg        \n",
      "  inflating: images/5327.jpeg        \n",
      "  inflating: images/5337.jpeg        \n",
      "  inflating: images/5344.jpeg        \n",
      "  inflating: images/5348.jpeg        \n",
      "  inflating: images/535.jpeg         \n",
      "  inflating: images/5362.jpeg        \n",
      "  inflating: images/5365.jpeg        \n",
      "  inflating: images/5366.jpeg        \n",
      "  inflating: images/5373.jpeg        \n",
      "  inflating: images/5375.jpeg        \n",
      "  inflating: images/5377.jpeg        \n",
      "  inflating: images/5391.jpeg        \n",
      "  inflating: images/5393.jpeg        \n",
      "  inflating: images/5416.jpeg        \n",
      "  inflating: images/5421.jpeg        \n",
      "  inflating: images/5422.jpeg        \n",
      "  inflating: images/5424.jpeg        \n",
      "  inflating: images/5443.jpeg        \n",
      "  inflating: images/5444.jpeg        \n",
      "  inflating: images/5448.jpeg        \n",
      "  inflating: images/5458.jpeg        \n",
      "  inflating: images/5459.jpeg        \n",
      "  inflating: images/5467.jpeg        \n",
      "  inflating: images/5469.jpeg        \n",
      "  inflating: images/5470.jpeg        \n",
      "  inflating: images/5480.jpeg        \n",
      "  inflating: images/5485.jpeg        \n",
      "  inflating: images/5492.jpeg        \n",
      "  inflating: images/5498.jpeg        \n",
      "  inflating: images/5504.jpeg        \n",
      "  inflating: images/5507.jpeg        \n",
      "  inflating: images/5508.jpeg        \n",
      "  inflating: images/5511.jpeg        \n",
      "  inflating: images/5513.jpeg        \n",
      "  inflating: images/5514.jpeg        \n",
      "  inflating: images/5515.jpeg        \n",
      "  inflating: images/552.jpeg         \n",
      "  inflating: images/5520.jpeg        \n",
      "  inflating: images/5524.jpeg        \n",
      "  inflating: images/5531.jpeg        \n",
      "  inflating: images/5533.jpeg        \n",
      "  inflating: images/554.jpeg         \n",
      "  inflating: images/5540.jpeg        \n",
      "  inflating: images/5549.jpeg        \n",
      "  inflating: images/5555.jpeg        \n",
      "  inflating: images/5571.jpeg        \n",
      "  inflating: images/5577.jpeg        \n",
      "  inflating: images/558.jpeg         \n",
      "  inflating: images/5580.jpeg        \n",
      "  inflating: images/5588.jpeg        \n",
      "  inflating: images/5596.jpeg        \n",
      "  inflating: images/5604.jpeg        \n",
      "  inflating: images/5610.jpeg        \n",
      "  inflating: images/5612.jpeg        \n",
      "  inflating: images/5636.jpeg        \n",
      "  inflating: images/5640.jpeg        \n",
      "  inflating: images/5643.jpeg        \n",
      "  inflating: images/5646.jpeg        \n",
      "  inflating: images/5655.jpeg        \n",
      "  inflating: images/5657.jpeg        \n",
      "  inflating: images/5659.jpeg        \n",
      "  inflating: images/566.jpeg         \n",
      "  inflating: images/5661.jpeg        \n",
      "  inflating: images/5664.jpeg        \n",
      "  inflating: images/5671.jpeg        \n",
      "  inflating: images/5672.jpeg        \n",
      "  inflating: images/568.jpeg         \n",
      "  inflating: images/5685.jpeg        \n",
      "  inflating: images/5690.jpeg        \n",
      "  inflating: images/5698.jpeg        \n",
      "  inflating: images/5707.jpeg        \n",
      "  inflating: images/5708.jpeg        \n",
      "  inflating: images/5710.jpeg        \n",
      "  inflating: images/5716.jpeg        \n",
      "  inflating: images/5717.jpeg        \n",
      "  inflating: images/5719.jpeg        \n",
      "  inflating: images/572.jpeg         \n",
      "  inflating: images/5723.jpeg        \n",
      "  inflating: images/5727.jpeg        \n",
      "  inflating: images/5730.jpeg        \n",
      "  inflating: images/5735.jpeg        \n",
      "  inflating: images/5740.jpeg        \n",
      "  inflating: images/5741.jpeg        \n",
      "  inflating: images/5753.jpeg        \n",
      " extracting: images/5755.jpeg        \n",
      "  inflating: images/5758.jpeg        \n",
      "  inflating: images/5764.jpeg        \n",
      "  inflating: images/5765.jpeg        \n",
      "  inflating: images/5775.jpeg        \n",
      "  inflating: images/578.jpeg         \n",
      "  inflating: images/5780.jpeg        \n",
      "  inflating: images/5782.jpeg        \n",
      "  inflating: images/5783.jpeg        \n",
      "  inflating: images/5784.jpeg        \n",
      "  inflating: images/5791.jpeg        \n",
      "  inflating: images/5793.jpeg        \n",
      "  inflating: images/5795.jpeg        \n",
      "  inflating: images/5798.jpeg        \n",
      "  inflating: images/58.jpeg          \n",
      "  inflating: images/5800.jpeg        \n",
      "  inflating: images/5802.jpeg        \n",
      "  inflating: images/581.jpeg         \n",
      "  inflating: images/582.jpeg         \n",
      "  inflating: images/5821.jpeg        \n",
      "  inflating: images/5824.jpeg        \n",
      "  inflating: images/5836.jpeg        \n",
      "  inflating: images/5838.jpeg        \n",
      "  inflating: images/5846.jpeg        \n",
      "  inflating: images/5847.jpeg        \n",
      "  inflating: images/5849.jpeg        \n",
      "  inflating: images/5850.jpeg        \n",
      "  inflating: images/5851.jpeg        \n",
      "  inflating: images/5852.jpeg        \n",
      "  inflating: images/586.jpeg         \n",
      "  inflating: images/5863.jpeg        \n",
      "  inflating: images/5864.jpeg        \n",
      "  inflating: images/5865.jpeg        \n",
      "  inflating: images/5869.jpeg        \n",
      "  inflating: images/587.jpeg         \n",
      "  inflating: images/5873.jpeg        \n",
      "  inflating: images/5874.jpeg        \n",
      "  inflating: images/5876.jpeg        \n",
      "  inflating: images/5879.jpeg        \n",
      "  inflating: images/5889.jpeg        \n",
      "  inflating: images/5890.jpeg        \n",
      "  inflating: images/5899.jpeg        \n",
      "  inflating: images/5904.jpeg        \n",
      "  inflating: images/5920.jpeg        \n",
      " extracting: images/5926.jpeg        \n",
      "  inflating: images/5931.jpeg        \n",
      "  inflating: images/5933.jpeg        \n",
      "  inflating: images/5942.jpeg        \n",
      "  inflating: images/5946.jpeg        \n",
      "  inflating: images/5960.jpeg        \n",
      "  inflating: images/5961.jpeg        \n",
      "  inflating: images/5972.jpeg        \n",
      "  inflating: images/5988.jpeg        \n",
      "  inflating: images/5990.jpeg        \n",
      "  inflating: images/5999.jpeg        \n",
      "  inflating: images/600.jpeg         \n",
      "  inflating: images/6010.jpeg        \n",
      "  inflating: images/6017.jpeg        \n",
      "  inflating: images/602.jpeg         \n",
      "  inflating: images/6025.jpeg        \n",
      "  inflating: images/6031.jpeg        \n",
      "  inflating: images/6033.jpeg        \n",
      "  inflating: images/605.jpeg         \n",
      "  inflating: images/6054.jpeg        \n",
      "  inflating: images/6059.jpeg        \n",
      "  inflating: images/6066.jpeg        \n",
      "  inflating: images/6071.jpeg        \n",
      "  inflating: images/6084.jpeg        \n",
      "  inflating: images/61.jpeg          \n",
      "  inflating: images/6102.jpeg        \n",
      "  inflating: images/6105.jpeg        \n",
      "  inflating: images/611.jpeg         \n",
      "  inflating: images/612.jpeg         \n",
      "  inflating: images/6129.jpeg        \n",
      "  inflating: images/613.jpeg         \n",
      "  inflating: images/6135.jpeg        \n",
      "  inflating: images/6136.jpeg        \n",
      "  inflating: images/6145.jpeg        \n",
      "  inflating: images/6149.jpeg        \n",
      "  inflating: images/6150.jpeg        \n",
      "  inflating: images/6152.jpeg        \n",
      "  inflating: images/6163.jpeg        \n",
      "  inflating: images/6166.jpeg        \n",
      "  inflating: images/6168.jpeg        \n",
      "  inflating: images/617.jpeg         \n",
      "  inflating: images/6172.jpeg        \n",
      "  inflating: images/6173.jpeg        \n",
      "  inflating: images/6181.jpeg        \n",
      "  inflating: images/6190.jpeg        \n",
      "  inflating: images/6198.jpeg        \n",
      "  inflating: images/62.jpeg          \n",
      "  inflating: images/621.jpeg         \n",
      "  inflating: images/6214.jpeg        \n",
      "  inflating: images/6215.jpeg        \n",
      "  inflating: images/6220.jpeg        \n",
      "  inflating: images/6222.jpeg        \n",
      "  inflating: images/6230.jpeg        \n",
      "  inflating: images/6232.jpeg        \n",
      "  inflating: images/6235.jpeg        \n",
      "  inflating: images/6240.jpeg        \n",
      "  inflating: images/6246.jpeg        \n",
      "  inflating: images/6260.jpeg        \n",
      "  inflating: images/6270.jpeg        \n",
      "  inflating: images/6271.jpeg        \n",
      "  inflating: images/6273.jpeg        \n",
      "  inflating: images/6280.jpeg        \n",
      "  inflating: images/629.jpeg         \n",
      "  inflating: images/6290.jpeg        \n",
      "  inflating: images/6300.jpeg        \n",
      "  inflating: images/6302.jpeg        \n",
      "  inflating: images/6305.jpeg        \n",
      "  inflating: images/6313.jpeg        \n",
      "  inflating: images/6314.jpeg        \n",
      "  inflating: images/6322.jpeg        \n",
      "  inflating: images/6323.jpeg        \n",
      "  inflating: images/6336.jpeg        \n",
      "  inflating: images/6348.jpeg        \n",
      "  inflating: images/6352.jpeg        \n",
      "  inflating: images/6360.jpeg        \n",
      "  inflating: images/6370.jpeg        \n",
      "  inflating: images/6374.jpeg        \n",
      "  inflating: images/6377.jpeg        \n",
      "  inflating: images/6385.jpeg        \n",
      "  inflating: images/6387.jpeg        \n",
      "  inflating: images/639.jpeg         \n",
      "  inflating: images/6390.jpeg        \n",
      "  inflating: images/6393.jpeg        \n",
      "  inflating: images/6394.jpeg        \n",
      "  inflating: images/6396.jpeg        \n",
      "  inflating: images/6405.jpeg        \n",
      "  inflating: images/6414.jpeg        \n",
      "  inflating: images/6417.jpeg        \n",
      "  inflating: images/6419.jpeg        \n",
      "  inflating: images/6424.jpeg        \n",
      "  inflating: images/6443.jpeg        \n",
      "  inflating: images/6445.jpeg        \n",
      "  inflating: images/6449.jpeg        \n",
      "  inflating: images/6451.jpeg        \n",
      "  inflating: images/6463.jpeg        \n",
      "  inflating: images/6468.jpeg        \n",
      "  inflating: images/6469.jpeg        \n",
      "  inflating: images/6474.jpeg        \n",
      "  inflating: images/6483.jpeg        \n",
      "  inflating: images/6485.jpeg        \n",
      "  inflating: images/6490.jpeg        \n",
      "  inflating: images/6491.jpeg        \n",
      "  inflating: images/6493.jpeg        \n",
      "  inflating: images/65.jpeg          \n",
      "  inflating: images/6500.jpeg        \n",
      "  inflating: images/6503.jpeg        \n",
      "  inflating: images/6518.jpeg        \n",
      "  inflating: images/6519.jpeg        \n",
      "  inflating: images/6528.jpeg        \n",
      "  inflating: images/6530.jpeg        \n",
      "  inflating: images/6532.jpeg        \n",
      "  inflating: images/6533.jpeg        \n",
      "  inflating: images/6537.jpeg        \n",
      "  inflating: images/6540.jpeg        \n",
      "  inflating: images/6542.jpeg        \n",
      "  inflating: images/6546.jpeg        \n",
      "  inflating: images/6548.jpeg        \n",
      "  inflating: images/6549.jpeg        \n",
      "  inflating: images/6554.jpeg        \n",
      "  inflating: images/6557.jpeg        \n",
      "  inflating: images/6561.jpeg        \n",
      "  inflating: images/6568.jpeg        \n",
      "  inflating: images/6569.jpeg        \n",
      "  inflating: images/657.jpeg         \n",
      "  inflating: images/6572.jpeg        \n",
      "  inflating: images/6576.jpeg        \n",
      "  inflating: images/6578.jpeg        \n",
      "  inflating: images/6584.jpeg        \n",
      "  inflating: images/6597.jpeg        \n",
      "  inflating: images/660.jpeg         \n",
      "  inflating: images/6600.jpeg        \n",
      "  inflating: images/6605.jpeg        \n",
      "  inflating: images/6606.jpeg        \n",
      "  inflating: images/6618.jpeg        \n",
      "  inflating: images/6625.jpeg        \n",
      "  inflating: images/6627.jpeg        \n",
      "  inflating: images/6628.jpeg        \n",
      "  inflating: images/6636.jpeg        \n",
      "  inflating: images/6645.jpeg        \n",
      "  inflating: images/6655.jpeg        \n",
      "  inflating: images/6658.jpeg        \n",
      "  inflating: images/666.jpeg         \n",
      "  inflating: images/6667.jpeg        \n",
      "  inflating: images/6681.jpeg        \n",
      "  inflating: images/6684.jpeg        \n",
      "  inflating: images/6697.jpeg        \n",
      "  inflating: images/670.jpeg         \n",
      "  inflating: images/6703.jpeg        \n",
      "  inflating: images/6710.jpeg        \n",
      "  inflating: images/6712.jpeg        \n",
      "  inflating: images/6714.jpeg        \n",
      "  inflating: images/6716.jpeg        \n",
      "  inflating: images/672.jpeg         \n",
      "  inflating: images/673.jpeg         \n",
      "  inflating: images/6733.jpeg        \n",
      "  inflating: images/6739.jpeg        \n",
      "  inflating: images/6750.jpeg        \n",
      "  inflating: images/6753.jpeg        \n",
      "  inflating: images/6758.jpeg        \n",
      "  inflating: images/6759.jpeg        \n",
      "  inflating: images/6761.jpeg        \n",
      "  inflating: images/6762.jpeg        \n",
      "  inflating: images/6766.jpeg        \n",
      "  inflating: images/6780.jpeg        \n",
      "  inflating: images/6782.jpeg        \n",
      "  inflating: images/6785.jpeg        \n",
      "  inflating: images/6786.jpeg        \n",
      "  inflating: images/6796.jpeg        \n",
      " extracting: images/68.jpeg          \n",
      "  inflating: images/6805.jpeg        \n",
      "  inflating: images/6808.jpeg        \n",
      "  inflating: images/6812.jpeg        \n",
      "  inflating: images/6816.jpeg        \n",
      "  inflating: images/6825.jpeg        \n",
      "  inflating: images/6830.jpeg        \n",
      "  inflating: images/6836.jpeg        \n",
      "  inflating: images/6857.jpeg        \n",
      "  inflating: images/6858.jpeg        \n",
      "  inflating: images/6862.jpeg        \n",
      "  inflating: images/6864.jpeg        \n",
      "  inflating: images/6870.jpeg        \n",
      "  inflating: images/6874.jpeg        \n",
      "  inflating: images/6876.jpeg        \n",
      "  inflating: images/6902.jpeg        \n",
      "  inflating: images/6905.jpeg        \n",
      "  inflating: images/692.jpeg         \n",
      "  inflating: images/6926.jpeg        \n",
      "  inflating: images/6936.jpeg        \n",
      "  inflating: images/6945.jpeg        \n",
      "  inflating: images/6948.jpeg        \n",
      "  inflating: images/6952.jpeg        \n",
      "  inflating: images/6953.jpeg        \n",
      "  inflating: images/6954.jpeg        \n",
      "  inflating: images/6955.jpeg        \n",
      "  inflating: images/6957.jpeg        \n",
      "  inflating: images/6960.jpeg        \n",
      "  inflating: images/6971.jpeg        \n",
      "  inflating: images/6975.jpeg        \n",
      "  inflating: images/6986.jpeg        \n",
      "  inflating: images/6991.jpeg        \n",
      "  inflating: images/6997.jpeg        \n",
      "  inflating: images/7.jpeg           \n",
      "  inflating: images/70.jpeg          \n",
      "  inflating: images/700.jpeg         \n",
      "  inflating: images/701.jpeg         \n",
      "  inflating: images/7014.jpeg        \n",
      "  inflating: images/7016.jpeg        \n",
      "  inflating: images/7029.jpeg        \n",
      "  inflating: images/7035.jpeg        \n",
      "  inflating: images/7037.jpeg        \n",
      "  inflating: images/7038.jpeg        \n",
      "  inflating: images/7045.jpeg        \n",
      "  inflating: images/7048.jpeg        \n",
      "  inflating: images/7064.jpeg        \n",
      "  inflating: images/707.jpeg         \n",
      "  inflating: images/7072.jpeg        \n",
      "  inflating: images/7076.jpeg        \n",
      "  inflating: images/7078.jpeg        \n",
      "  inflating: images/7083.jpeg        \n",
      "  inflating: images/7089.jpeg        \n",
      "  inflating: images/7094.jpeg        \n",
      "  inflating: images/7097.jpeg        \n",
      "  inflating: images/7098.jpeg        \n",
      "  inflating: images/7099.jpeg        \n",
      "  inflating: images/7105.jpeg        \n",
      "  inflating: images/7113.jpeg        \n",
      "  inflating: images/7126.jpeg        \n",
      "  inflating: images/713.jpeg         \n",
      "  inflating: images/7134.jpeg        \n",
      "  inflating: images/7156.jpeg        \n",
      "  inflating: images/7158.jpeg        \n",
      "  inflating: images/7165.jpeg        \n",
      "  inflating: images/7172.jpeg        \n",
      "  inflating: images/7174.jpeg        \n",
      "  inflating: images/7181.jpeg        \n",
      "  inflating: images/7194.jpeg        \n",
      "  inflating: images/7198.jpeg        \n",
      "  inflating: images/7201.jpeg        \n",
      "  inflating: images/7209.jpeg        \n",
      "  inflating: images/7210.jpeg        \n",
      "  inflating: images/7215.jpeg        \n",
      "  inflating: images/7217.jpeg        \n",
      "  inflating: images/7220.jpeg        \n",
      "  inflating: images/7222.jpeg        \n",
      "  inflating: images/7224.jpeg        \n",
      "  inflating: images/7228.jpeg        \n",
      "  inflating: images/7233.jpeg        \n",
      "  inflating: images/7249.jpeg        \n",
      "  inflating: images/7250.jpeg        \n",
      "  inflating: images/7254.jpeg        \n",
      "  inflating: images/7267.jpeg        \n",
      "  inflating: images/7268.jpeg        \n",
      "  inflating: images/7270.jpeg        \n",
      "  inflating: images/7281.jpeg        \n",
      "  inflating: images/7284.jpeg        \n",
      "  inflating: images/7295.jpeg        \n",
      "  inflating: images/7310.jpeg        \n",
      "  inflating: images/7311.jpeg        \n",
      "  inflating: images/7314.jpeg        \n",
      "  inflating: images/732.jpeg         \n",
      "  inflating: images/7321.jpeg        \n",
      "  inflating: images/7326.jpeg        \n",
      "  inflating: images/7331.jpeg        \n",
      "  inflating: images/7336.jpeg        \n",
      "  inflating: images/7348.jpeg        \n",
      "  inflating: images/7356.jpeg        \n",
      "  inflating: images/7359.jpeg        \n",
      "  inflating: images/7367.jpeg        \n",
      "  inflating: images/738.jpeg         \n",
      "  inflating: images/7380.jpeg        \n",
      "  inflating: images/7383.jpeg        \n",
      "  inflating: images/7393.jpeg        \n",
      "  inflating: images/7394.jpeg        \n",
      "  inflating: images/7395.jpeg        \n",
      "  inflating: images/7397.jpeg        \n",
      "  inflating: images/7398.jpeg        \n",
      "  inflating: images/7400.jpeg        \n",
      "  inflating: images/7402.jpeg        \n",
      "  inflating: images/7406.jpeg        \n",
      "  inflating: images/741.jpeg         \n",
      "  inflating: images/7410.jpeg        \n",
      "  inflating: images/7411.jpeg        \n",
      "  inflating: images/7414.jpeg        \n",
      "  inflating: images/7415.jpeg        \n",
      "  inflating: images/742.jpeg         \n",
      "  inflating: images/7421.jpeg        \n",
      "  inflating: images/7422.jpeg        \n",
      "  inflating: images/7426.jpeg        \n",
      "  inflating: images/7428.jpeg        \n",
      "  inflating: images/743.jpeg         \n",
      "  inflating: images/7434.jpeg        \n",
      "  inflating: images/7459.jpeg        \n",
      "  inflating: images/747.jpeg         \n",
      "  inflating: images/7472.jpeg        \n",
      "  inflating: images/7475.jpeg        \n",
      "  inflating: images/7477.jpeg        \n",
      "  inflating: images/748.jpeg         \n",
      "  inflating: images/7480.jpeg        \n",
      "  inflating: images/7483.jpeg        \n",
      "  inflating: images/7498.jpeg        \n",
      "  inflating: images/7502.jpeg        \n",
      "  inflating: images/7507.jpeg        \n",
      "  inflating: images/7508.jpeg        \n",
      "  inflating: images/7518.jpeg        \n",
      "  inflating: images/7519.jpeg        \n",
      "  inflating: images/7529.jpeg        \n",
      "  inflating: images/7540.jpeg        \n",
      "  inflating: images/7546.jpeg        \n",
      "  inflating: images/755.jpeg         \n",
      "  inflating: images/7554.jpeg        \n",
      "  inflating: images/7558.jpeg        \n",
      "  inflating: images/7561.jpeg        \n",
      "  inflating: images/7563.jpeg        \n",
      "  inflating: images/7569.jpeg        \n",
      "  inflating: images/757.jpeg         \n",
      "  inflating: images/7576.jpeg        \n",
      "  inflating: images/7580.jpeg        \n",
      "  inflating: images/7582.jpeg        \n",
      "  inflating: images/7594.jpeg        \n",
      "  inflating: images/7598.jpeg        \n",
      "  inflating: images/7603.jpeg        \n",
      "  inflating: images/7620.jpeg        \n",
      "  inflating: images/7627.jpeg        \n",
      "  inflating: images/7630.jpeg        \n",
      "  inflating: images/7631.jpeg        \n",
      "  inflating: images/764.jpeg         \n",
      "  inflating: images/7641.jpeg        \n",
      "  inflating: images/7654.jpeg        \n",
      "  inflating: images/7674.jpeg        \n",
      "  inflating: images/768.jpeg         \n",
      "  inflating: images/7682.jpeg        \n",
      "  inflating: images/7686.jpeg        \n",
      "  inflating: images/769.jpeg         \n",
      "  inflating: images/7698.jpeg        \n",
      "  inflating: images/7712.jpeg        \n",
      "  inflating: images/7718.jpeg        \n",
      "  inflating: images/7725.jpeg        \n",
      "  inflating: images/7726.jpeg        \n",
      "  inflating: images/7729.jpeg        \n",
      "  inflating: images/7735.jpeg        \n",
      "  inflating: images/7738.jpeg        \n",
      "  inflating: images/7748.jpeg        \n",
      "  inflating: images/7753.jpeg        \n",
      "  inflating: images/776.jpeg         \n",
      "  inflating: images/7761.jpeg        \n",
      "  inflating: images/7762.jpeg        \n",
      "  inflating: images/777.jpeg         \n",
      "  inflating: images/7774.jpeg        \n",
      "  inflating: images/7775.jpeg        \n",
      "  inflating: images/7784.jpeg        \n",
      "  inflating: images/7792.jpeg        \n",
      "  inflating: images/7794.jpeg        \n",
      "  inflating: images/7795.jpeg        \n",
      "  inflating: images/7800.jpeg        \n",
      "  inflating: images/7801.jpeg        \n",
      "  inflating: images/7802.jpeg        \n",
      "  inflating: images/7805.jpeg        \n",
      "  inflating: images/7806.jpeg        \n",
      "  inflating: images/7812.jpeg        \n",
      "  inflating: images/7813.jpeg        \n",
      "  inflating: images/7817.jpeg        \n",
      "  inflating: images/7820.jpeg        \n",
      "  inflating: images/783.jpeg         \n",
      "  inflating: images/7833.jpeg        \n",
      "  inflating: images/784.jpeg         \n",
      "  inflating: images/7843.jpeg        \n",
      "  inflating: images/7847.jpeg        \n",
      "  inflating: images/7856.jpeg        \n",
      "  inflating: images/7858.jpeg        \n",
      "  inflating: images/7859.jpeg        \n",
      "  inflating: images/7860.jpeg        \n",
      "  inflating: images/7863.jpeg        \n",
      "  inflating: images/7874.jpeg        \n",
      "  inflating: images/7876.jpeg        \n",
      "  inflating: images/788.jpeg         \n",
      "  inflating: images/7882.jpeg        \n",
      "  inflating: images/7885.jpeg        \n",
      "  inflating: images/789.jpeg         \n",
      "  inflating: images/7890.jpeg        \n",
      "  inflating: images/7891.jpeg        \n",
      "  inflating: images/7894.jpeg        \n",
      "  inflating: images/7895.jpeg        \n",
      "  inflating: images/7896.jpeg        \n",
      "  inflating: images/7904.jpeg        \n",
      "  inflating: images/7914.jpeg        \n",
      "  inflating: images/7919.jpeg        \n",
      "  inflating: images/7934.jpeg        \n",
      "  inflating: images/7940.jpeg        \n",
      "  inflating: images/7946.jpeg        \n",
      "  inflating: images/795.jpeg         \n",
      "  inflating: images/7955.jpeg        \n",
      "  inflating: images/7962.jpeg        \n",
      "  inflating: images/7966.jpeg        \n",
      "  inflating: images/7968.jpeg        \n",
      "  inflating: images/7974.jpeg        \n",
      "  inflating: images/7978.jpeg        \n",
      "  inflating: images/7979.jpeg        \n",
      "  inflating: images/7987.jpeg        \n",
      "  inflating: images/7988.jpeg        \n",
      "  inflating: images/80.jpeg          \n",
      "  inflating: images/8001.jpeg        \n",
      "  inflating: images/8005.jpeg        \n",
      "  inflating: images/8010.jpeg        \n",
      "  inflating: images/8011.jpeg        \n",
      "  inflating: images/8012.jpeg        \n",
      "  inflating: images/8016.jpeg        \n",
      "  inflating: images/8017.jpeg        \n",
      "  inflating: images/8031.jpeg        \n",
      "  inflating: images/8033.jpeg        \n",
      "  inflating: images/8038.jpeg        \n",
      "  inflating: images/8039.jpeg        \n",
      "  inflating: images/8043.jpeg        \n",
      "  inflating: images/8056.jpeg        \n",
      "  inflating: images/806.jpeg         \n",
      "  inflating: images/8061.jpeg        \n",
      "  inflating: images/8065.jpeg        \n",
      "  inflating: images/8066.jpeg        \n",
      "  inflating: images/8067.jpeg        \n",
      "  inflating: images/8068.jpeg        \n",
      "  inflating: images/8074.jpeg        \n",
      "  inflating: images/8075.jpeg        \n",
      "  inflating: images/8080.jpeg        \n",
      "  inflating: images/8082.jpeg        \n",
      "  inflating: images/8083.jpeg        \n",
      "  inflating: images/8084.jpeg        \n",
      "  inflating: images/8090.jpeg        \n",
      "  inflating: images/8094.jpeg        \n",
      "  inflating: images/8098.jpeg        \n",
      "  inflating: images/810.jpeg         \n",
      "  inflating: images/8105.jpeg        \n",
      "  inflating: images/8109.jpeg        \n",
      "  inflating: images/811.jpeg         \n",
      "  inflating: images/8122.jpeg        \n",
      "  inflating: images/8130.jpeg        \n",
      "  inflating: images/8148.jpeg        \n",
      "  inflating: images/8149.jpeg        \n",
      "  inflating: images/8170.jpeg        \n",
      "  inflating: images/8171.jpeg        \n",
      "  inflating: images/8177.jpeg        \n",
      "  inflating: images/8183.jpeg        \n",
      "  inflating: images/819.jpeg         \n",
      "  inflating: images/8200.jpeg        \n",
      "  inflating: images/8201.jpeg        \n",
      "  inflating: images/8204.jpeg        \n",
      "  inflating: images/8215.jpeg        \n",
      "  inflating: images/8219.jpeg        \n",
      "  inflating: images/8225.jpeg        \n",
      "  inflating: images/8229.jpeg        \n",
      "  inflating: images/8233.jpeg        \n",
      "  inflating: images/8243.jpeg        \n",
      "  inflating: images/8254.jpeg        \n",
      "  inflating: images/8259.jpeg        \n",
      "  inflating: images/8260.jpeg        \n",
      "  inflating: images/8262.jpeg        \n",
      "  inflating: images/8265.jpeg        \n",
      "  inflating: images/827.jpeg         \n",
      "  inflating: images/8270.jpeg        \n",
      "  inflating: images/8271.jpeg        \n",
      "  inflating: images/8275.jpeg        \n",
      "  inflating: images/8281.jpeg        \n",
      "  inflating: images/8284.jpeg        \n",
      "  inflating: images/8300.jpeg        \n",
      "  inflating: images/8308.jpeg        \n",
      "  inflating: images/831.jpeg         \n",
      "  inflating: images/8323.jpeg        \n",
      "  inflating: images/8324.jpeg        \n",
      "  inflating: images/8331.jpeg        \n",
      "  inflating: images/8334.jpeg        \n",
      "  inflating: images/8338.jpeg        \n",
      "  inflating: images/834.jpeg         \n",
      "  inflating: images/8341.jpeg        \n",
      "  inflating: images/8345.jpeg        \n",
      "  inflating: images/8349.jpeg        \n",
      "  inflating: images/8350.jpeg        \n",
      "  inflating: images/8351.jpeg        \n",
      "  inflating: images/8354.jpeg        \n",
      "  inflating: images/836.jpeg         \n",
      "  inflating: images/837.jpeg         \n",
      "  inflating: images/8371.jpeg        \n",
      "  inflating: images/8379.jpeg        \n",
      "  inflating: images/8382.jpeg        \n",
      "  inflating: images/8389.jpeg        \n",
      "  inflating: images/8391.jpeg        \n",
      "  inflating: images/8397.jpeg        \n",
      "  inflating: images/8407.jpeg        \n",
      "  inflating: images/8411.jpeg        \n",
      "  inflating: images/8413.jpeg        \n",
      "  inflating: images/8419.jpeg        \n",
      "  inflating: images/842.jpeg         \n",
      "  inflating: images/8420.jpeg        \n",
      "  inflating: images/8422.jpeg        \n",
      "  inflating: images/8424.jpeg        \n",
      "  inflating: images/8432.jpeg        \n",
      "  inflating: images/8435.jpeg        \n",
      "  inflating: images/8441.jpeg        \n",
      "  inflating: images/8442.jpeg        \n",
      "  inflating: images/8445.jpeg        \n",
      "  inflating: images/8451.jpeg        \n",
      "  inflating: images/8452.jpeg        \n",
      "  inflating: images/8465.jpeg        \n",
      "  inflating: images/8474.jpeg        \n",
      "  inflating: images/848.jpeg         \n",
      "  inflating: images/8483.jpeg        \n",
      "  inflating: images/849.jpeg         \n",
      "  inflating: images/8490.jpeg        \n",
      "  inflating: images/8494.jpeg        \n",
      "  inflating: images/8499.jpeg        \n",
      "  inflating: images/850.jpeg         \n",
      "  inflating: images/8503.jpeg        \n",
      "  inflating: images/8509.jpeg        \n",
      "  inflating: images/851.jpeg         \n",
      "  inflating: images/8516.jpeg        \n",
      "  inflating: images/8525.jpeg        \n",
      "  inflating: images/8534.jpeg        \n",
      "  inflating: images/8536.jpeg        \n",
      "  inflating: images/8543.jpeg        \n",
      "  inflating: images/8545.jpeg        \n",
      "  inflating: images/855.jpeg         \n",
      "  inflating: images/8559.jpeg        \n",
      "  inflating: images/856.jpeg         \n",
      "  inflating: images/8566.jpeg        \n",
      "  inflating: images/8570.jpeg        \n",
      "  inflating: images/8571.jpeg        \n",
      "  inflating: images/8577.jpeg        \n",
      "  inflating: images/8585.jpeg        \n",
      "  inflating: images/859.jpeg         \n",
      "  inflating: images/8591.jpeg        \n",
      "  inflating: images/8608.jpeg        \n",
      "  inflating: images/8616.jpeg        \n",
      "  inflating: images/8621.jpeg        \n",
      "  inflating: images/8622.jpeg        \n",
      "  inflating: images/8633.jpeg        \n",
      "  inflating: images/8636.jpeg        \n",
      "  inflating: images/8638.jpeg        \n",
      "  inflating: images/8646.jpeg        \n",
      "  inflating: images/8658.jpeg        \n",
      "  inflating: images/8662.jpeg        \n",
      "  inflating: images/8665.jpeg        \n",
      "  inflating: images/8673.jpeg        \n",
      "  inflating: images/8676.jpeg        \n",
      "  inflating: images/8678.jpeg        \n",
      "  inflating: images/8682.jpeg        \n",
      "  inflating: images/8685.jpeg        \n",
      "  inflating: images/8687.jpeg        \n",
      "  inflating: images/869.jpeg         \n",
      "  inflating: images/8690.jpeg        \n",
      "  inflating: images/8697.jpeg        \n",
      "  inflating: images/8705.jpeg        \n",
      "  inflating: images/8706.jpeg        \n",
      "  inflating: images/8707.jpeg        \n",
      "  inflating: images/8709.jpeg        \n",
      "  inflating: images/8715.jpeg        \n",
      "  inflating: images/8729.jpeg        \n",
      "  inflating: images/8735.jpeg        \n",
      "  inflating: images/8738.jpeg        \n",
      "  inflating: images/8742.jpeg        \n",
      "  inflating: images/8748.jpeg        \n",
      "  inflating: images/8756.jpeg        \n",
      "  inflating: images/8759.jpeg        \n",
      "  inflating: images/8764.jpeg        \n",
      "  inflating: images/8784.jpeg        \n",
      "  inflating: images/8786.jpeg        \n",
      "  inflating: images/8787.jpeg        \n",
      "  inflating: images/8795.jpeg        \n",
      "  inflating: images/8800.jpeg        \n",
      "  inflating: images/8801.jpeg        \n",
      "  inflating: images/8802.jpeg        \n",
      "  inflating: images/8822.jpeg        \n",
      "  inflating: images/8824.jpeg        \n",
      "  inflating: images/8826.jpeg        \n",
      "  inflating: images/8831.jpeg        \n",
      "  inflating: images/8838.jpeg        \n",
      "  inflating: images/8839.jpeg        \n",
      "  inflating: images/8849.jpeg        \n",
      "  inflating: images/8863.jpeg        \n",
      "  inflating: images/8864.jpeg        \n",
      "  inflating: images/8871.jpeg        \n",
      "  inflating: images/8876.jpeg        \n",
      "  inflating: images/8883.jpeg        \n",
      "  inflating: images/8884.jpeg        \n",
      "  inflating: images/8889.jpeg        \n",
      "  inflating: images/8894.jpeg        \n",
      "  inflating: images/8897.jpeg        \n",
      "  inflating: images/890.jpeg         \n",
      "  inflating: images/8907.jpeg        \n",
      "  inflating: images/891.jpeg         \n",
      "  inflating: images/8910.jpeg        \n",
      "  inflating: images/8915.jpeg        \n",
      "  inflating: images/8921.jpeg        \n",
      "  inflating: images/8929.jpeg        \n",
      "  inflating: images/8932.jpeg        \n",
      "  inflating: images/8936.jpeg        \n",
      "  inflating: images/8938.jpeg        \n",
      "  inflating: images/895.jpeg         \n",
      " extracting: images/8951.jpeg        \n",
      "  inflating: images/8957.jpeg        \n",
      "  inflating: images/8961.jpeg        \n",
      "  inflating: images/8963.jpeg        \n",
      "  inflating: images/8964.jpeg        \n",
      "  inflating: images/8966.jpeg        \n",
      "  inflating: images/8976.jpeg        \n",
      "  inflating: images/8978.jpeg        \n",
      "  inflating: images/8984.jpeg        \n",
      "  inflating: images/8998.jpeg        \n",
      "  inflating: images/9002.jpeg        \n",
      "  inflating: images/9014.jpeg        \n",
      "  inflating: images/9017.jpeg        \n",
      "  inflating: images/902.jpeg         \n",
      "  inflating: images/9021.jpeg        \n",
      "  inflating: images/9026.jpeg        \n",
      "  inflating: images/903.jpeg         \n",
      "  inflating: images/9032.jpeg        \n",
      "  inflating: images/9036.jpeg        \n",
      "  inflating: images/9038.jpeg        \n",
      "  inflating: images/9039.jpeg        \n",
      "  inflating: images/9040.jpeg        \n",
      "  inflating: images/9042.jpeg        \n",
      "  inflating: images/9044.jpeg        \n",
      "  inflating: images/9047.jpeg        \n",
      "  inflating: images/9058.jpeg        \n",
      "  inflating: images/9060.jpeg        \n",
      "  inflating: images/9062.jpeg        \n",
      "  inflating: images/9069.jpeg        \n",
      "  inflating: images/9073.jpeg        \n",
      "  inflating: images/9087.jpeg        \n",
      "  inflating: images/9091.jpeg        \n",
      "  inflating: images/9094.jpeg        \n",
      "  inflating: images/910.jpeg         \n",
      "  inflating: images/9103.jpeg        \n",
      "  inflating: images/9105.jpeg        \n",
      "  inflating: images/9108.jpeg        \n",
      "  inflating: images/9129.jpeg        \n",
      "  inflating: images/9135.jpeg        \n",
      "  inflating: images/9138.jpeg        \n",
      "  inflating: images/9143.jpeg        \n",
      "  inflating: images/9144.jpeg        \n",
      "  inflating: images/9156.jpeg        \n",
      "  inflating: images/9158.jpeg        \n",
      "  inflating: images/9163.jpeg        \n",
      "  inflating: images/9176.jpeg        \n",
      "  inflating: images/9177.jpeg        \n",
      "  inflating: images/9185.jpeg        \n",
      "  inflating: images/9187.jpeg        \n",
      "  inflating: images/9193.jpeg        \n",
      "  inflating: images/9200.jpeg        \n",
      "  inflating: images/9207.jpeg        \n",
      "  inflating: images/9208.jpeg        \n",
      "  inflating: images/921.jpeg         \n",
      "  inflating: images/9212.jpeg        \n",
      "  inflating: images/9216.jpeg        \n",
      "  inflating: images/9229.jpeg        \n",
      "  inflating: images/9231.jpeg        \n",
      "  inflating: images/9249.jpeg        \n",
      "  inflating: images/9264.jpeg        \n",
      "  inflating: images/9266.jpeg        \n",
      "  inflating: images/9277.jpeg        \n",
      "  inflating: images/9291.jpeg        \n",
      "  inflating: images/9292.jpeg        \n",
      "  inflating: images/9294.jpeg        \n",
      "  inflating: images/9295.jpeg        \n",
      "  inflating: images/9300.jpeg        \n",
      "  inflating: images/9302.jpeg        \n",
      "  inflating: images/9303.jpeg        \n",
      "  inflating: images/9317.jpeg        \n",
      "  inflating: images/9329.jpeg        \n",
      "  inflating: images/9335.jpeg        \n",
      "  inflating: images/934.jpeg         \n",
      "  inflating: images/9347.jpeg        \n",
      "  inflating: images/9349.jpeg        \n",
      "  inflating: images/9355.jpeg        \n",
      "  inflating: images/9360.jpeg        \n",
      "  inflating: images/9366.jpeg        \n",
      "  inflating: images/9371.jpeg        \n",
      "  inflating: images/9377.jpeg        \n",
      "  inflating: images/938.jpeg         \n",
      "  inflating: images/9382.jpeg        \n",
      "  inflating: images/9409.jpeg        \n",
      "  inflating: images/9412.jpeg        \n",
      "  inflating: images/9419.jpeg        \n",
      "  inflating: images/9420.jpeg        \n",
      "  inflating: images/9421.jpeg        \n",
      "  inflating: images/9423.jpeg        \n",
      "  inflating: images/9429.jpeg        \n",
      "  inflating: images/9445.jpeg        \n",
      "  inflating: images/9446.jpeg        \n",
      "  inflating: images/9448.jpeg        \n",
      "  inflating: images/9449.jpeg        \n",
      "  inflating: images/9456.jpeg        \n",
      "  inflating: images/946.jpeg         \n",
      "  inflating: images/9467.jpeg        \n",
      "  inflating: images/9472.jpeg        \n",
      "  inflating: images/9476.jpeg        \n",
      "  inflating: images/9478.jpeg        \n",
      "  inflating: images/9487.jpeg        \n",
      "  inflating: images/9489.jpeg        \n",
      "  inflating: images/949.jpeg         \n",
      "  inflating: images/9491.jpeg        \n",
      "  inflating: images/9494.jpeg        \n",
      "  inflating: images/9502.jpeg        \n",
      "  inflating: images/9504.jpeg        \n",
      "  inflating: images/951.jpeg         \n",
      "  inflating: images/9510.jpeg        \n",
      "  inflating: images/9512.jpeg        \n",
      "  inflating: images/9513.jpeg        \n",
      "  inflating: images/9530.jpeg        \n",
      "  inflating: images/9532.jpeg        \n",
      "  inflating: images/9535.jpeg        \n",
      "  inflating: images/9542.jpeg        \n",
      "  inflating: images/9549.jpeg        \n",
      "  inflating: images/9551.jpeg        \n",
      "  inflating: images/9557.jpeg        \n",
      "  inflating: images/9559.jpeg        \n",
      "  inflating: images/957.jpeg         \n",
      "  inflating: images/9573.jpeg        \n",
      "  inflating: images/958.jpeg         \n",
      "  inflating: images/9581.jpeg        \n",
      "  inflating: images/9583.jpeg        \n",
      "  inflating: images/9584.jpeg        \n",
      "  inflating: images/9589.jpeg        \n",
      "  inflating: images/959.jpeg         \n",
      "  inflating: images/9593.jpeg        \n",
      "  inflating: images/9596.jpeg        \n",
      "  inflating: images/961.jpeg         \n",
      "  inflating: images/9615.jpeg        \n",
      "  inflating: images/9619.jpeg        \n",
      "  inflating: images/9620.jpeg        \n",
      "  inflating: images/9624.jpeg        \n",
      "  inflating: images/9642.jpeg        \n",
      "  inflating: images/9657.jpeg        \n",
      "  inflating: images/9660.jpeg        \n",
      "  inflating: images/9661.jpeg        \n",
      "  inflating: images/9667.jpeg        \n",
      "  inflating: images/9669.jpeg        \n",
      "  inflating: images/9672.jpeg        \n",
      "  inflating: images/9673.jpeg        \n",
      "  inflating: images/9674.jpeg        \n",
      "  inflating: images/968.jpeg         \n",
      "  inflating: images/9680.jpeg        \n",
      "  inflating: images/9684.jpeg        \n",
      "  inflating: images/9688.jpeg        \n",
      "  inflating: images/9691.jpeg        \n",
      "  inflating: images/9700.jpeg        \n",
      "  inflating: images/9709.jpeg        \n",
      "  inflating: images/9710.jpeg        \n",
      "  inflating: images/9714.jpeg        \n",
      "  inflating: images/9721.jpeg        \n",
      "  inflating: images/9724.jpeg        \n",
      "  inflating: images/9725.jpeg        \n",
      "  inflating: images/9727.jpeg        \n",
      "  inflating: images/9728.jpeg        \n",
      "  inflating: images/973.jpeg         \n",
      "  inflating: images/9743.jpeg        \n",
      "  inflating: images/9746.jpeg        \n",
      "  inflating: images/975.jpeg         \n",
      "  inflating: images/9753.jpeg        \n",
      "  inflating: images/9756.jpeg        \n",
      "  inflating: images/9758.jpeg        \n",
      "  inflating: images/9760.jpeg        \n",
      "  inflating: images/9762.jpeg        \n",
      "  inflating: images/9766.jpeg        \n",
      "  inflating: images/9767.jpeg        \n",
      "  inflating: images/977.jpeg         \n",
      "  inflating: images/9771.jpeg        \n",
      "  inflating: images/9774.jpeg        \n",
      "  inflating: images/978.jpeg         \n",
      "  inflating: images/9780.jpeg        \n",
      "  inflating: images/9786.jpeg        \n",
      "  inflating: images/9790.jpeg        \n",
      "  inflating: images/9792.jpeg        \n",
      "  inflating: images/9797.jpeg        \n",
      "  inflating: images/9808.jpeg        \n",
      "  inflating: images/9811.jpeg        \n",
      "  inflating: images/9816.jpeg        \n",
      "  inflating: images/9819.jpeg        \n",
      "  inflating: images/9827.jpeg        \n",
      "  inflating: images/9828.jpeg        \n",
      "  inflating: images/9850.jpeg        \n",
      "  inflating: images/9851.jpeg        \n",
      "  inflating: images/9857.jpeg        \n",
      "  inflating: images/9859.jpeg        \n",
      "  inflating: images/986.jpeg         \n",
      "  inflating: images/9872.jpeg        \n",
      "  inflating: images/9873.jpeg        \n",
      "  inflating: images/9880.jpeg        \n",
      "  inflating: images/9886.jpeg        \n",
      "  inflating: images/9894.jpeg        \n",
      "  inflating: images/9898.jpeg        \n",
      "  inflating: images/9900.jpeg        \n",
      "  inflating: images/9906.jpeg        \n",
      "  inflating: images/9910.jpeg        \n",
      "  inflating: images/9925.jpeg        \n",
      "  inflating: images/9931.jpeg        \n",
      "  inflating: images/994.jpeg         \n",
      "  inflating: images/9940.jpeg        \n",
      "  inflating: images/9943.jpeg        \n",
      "  inflating: images/9950.jpeg        \n",
      "  inflating: images/9957.jpeg        \n",
      "  inflating: images/9959.jpeg        \n",
      "  inflating: images/996.jpeg         \n",
      "  inflating: images/9970.jpeg        \n",
      "  inflating: images/9985.jpeg        \n",
      "  inflating: images/999.jpeg         \n",
      "  inflating: images/9992.jpeg        \n",
      "  inflating: images/9995.jpeg        \n",
      "  inflating: images/9997.jpeg        \n",
      "  inflating: images/desktop.ini      \n"
     ]
    }
   ],
   "source": [
    "# Tome las primeras 1025 + 1055 imagenes\n",
    "!unzip -o images.zip"
   ]
  },
  {
   "cell_type": "code",
   "execution_count": 7,
   "metadata": {
    "colab": {
     "autoexec": {
      "startup": false,
      "wait_interval": 0
     },
     "base_uri": "https://localhost:8080/",
     "height": 34
    },
    "colab_type": "code",
    "executionInfo": {
     "elapsed": 1562,
     "status": "ok",
     "timestamp": 1531853987326,
     "user": {
      "displayName": "Saby Espinel",
      "photoUrl": "//lh5.googleusercontent.com/-rmPzhb33xSI/AAAAAAAAAAI/AAAAAAAAAFM/yMVi9A4Job8/s50-c-k-no/photo.jpg",
      "userId": "104445608280165984506"
     },
     "user_tz": 300
    },
    "id": "5HUnWiAhLmQQ",
    "outputId": "0b0a4802-1667-4acf-b392-260eda67c614"
   },
   "outputs": [
    {
     "name": "stdout",
     "output_type": "stream",
     "text": [
      "datalab  images  images.zip\n"
     ]
    }
   ],
   "source": [
    "!ls"
   ]
  },
  {
   "cell_type": "code",
   "execution_count": null,
   "metadata": {
    "colab": {
     "autoexec": {
      "startup": false,
      "wait_interval": 0
     }
    },
    "colab_type": "code",
    "id": "je5xm2j4Tla3"
   },
   "outputs": [],
   "source": [
    "path='images/'\n",
    "#image = io.imread(os.path.join(path, 'images_resize_gray', str(dataTraining.index[0]) + '_resize_gray.jpeg'))\n",
    "image = io.imread(os.path.join(path, '7201.jpeg'))"
   ]
  },
  {
   "cell_type": "code",
   "execution_count": 13,
   "metadata": {
    "colab": {
     "autoexec": {
      "startup": false,
      "wait_interval": 0
     },
     "base_uri": "https://localhost:8080/",
     "height": 286
    },
    "colab_type": "code",
    "executionInfo": {
     "elapsed": 953,
     "status": "ok",
     "timestamp": 1531854047740,
     "user": {
      "displayName": "Saby Espinel",
      "photoUrl": "//lh5.googleusercontent.com/-rmPzhb33xSI/AAAAAAAAAAI/AAAAAAAAAFM/yMVi9A4Job8/s50-c-k-no/photo.jpg",
      "userId": "104445608280165984506"
     },
     "user_tz": 300
    },
    "id": "7g0SA7EkTlcU",
    "outputId": "580ecb14-f17c-4b20-942d-6067289ab7b6"
   },
   "outputs": [
    {
     "data": {
      "text/plain": [
       "<matplotlib.image.AxesImage at 0x7f33216681d0>"
      ]
     },
     "execution_count": 13,
     "metadata": {
      "tags": []
     },
     "output_type": "execute_result"
    },
    {
     "data": {
      "image/png": "[encoded data removed]",
      "text/plain": [
       "<matplotlib.figure.Figure at 0x7f33216ea278>"
      ]
     },
     "metadata": {
      "tags": []
     },
     "output_type": "display_data"
    }
   ],
   "source": [
    "fig, ax = plt.subplots(nrows=1, ncols=1)\n",
    "ax.imshow(image, cmap='gray')"
   ]
  },
  {
   "cell_type": "markdown",
   "metadata": {
    "colab_type": "text",
    "id": "wzDBvNsgTlcy"
   },
   "source": [
    "Read all images"
   ]
  },
  {
   "cell_type": "code",
   "execution_count": null,
   "metadata": {
    "colab": {
     "autoexec": {
      "startup": false,
      "wait_interval": 0
     }
    },
    "colab_type": "code",
    "id": "qaniyhSaTldA"
   },
   "outputs": [],
   "source": [
    "desired_size=200\n",
    "imgFinal = np.ones((1,200,200,3))\n",
    "for i in os.listdir('images'):\n",
    "  if i.startswith('desktop'):\n",
    "    pass\n",
    "  else:\n",
    "    #images_training.append(load_img(os.path.join(path, str(i)),grayscale=False,target_size=None,interpolation='nearest'))\n",
    "    #image=load_img(os.path.join(path, str(i)),grayscale=False,target_size=None,interpolation='nearest')\n",
    "    #image=img_to_array(image)\n",
    "    \n",
    "    im = cv2.imread(os.path.join(path, str(i)))\n",
    "    old_size = im.shape[:2] # old_size is in (height, width) format\n",
    "\n",
    "    ratio = float(desired_size)/max(old_size)\n",
    "    new_size = tuple([int(x*ratio) for x in old_size])\n",
    "\n",
    "    # new_size should be in (width, height) format\n",
    "\n",
    "    im = cv2.resize(im, (new_size[1], new_size[0]))\n",
    "\n",
    "    delta_w = desired_size - new_size[1]\n",
    "    delta_h = desired_size - new_size[0]\n",
    "    top, bottom = delta_h//2, delta_h-(delta_h//2)\n",
    "    left, right = delta_w//2, delta_w-(delta_w//2)\n",
    "\n",
    "    color = [0, 0, 0]\n",
    "    new_im = cv2.copyMakeBorder(im, top, bottom, left, right, cv2.BORDER_CONSTANT,value=color)\n",
    "    new_im=new_im.reshape((1,new_im.shape[0],new_im.shape[1],new_im.shape[2]))\n",
    "    imgFinal = np.concatenate([imgFinal, new_im], axis=0)\n",
    "\n",
    "# Code for padding: https://jdhao.github.io/2017/11/06/resize-image-to-square-with-padding/"
   ]
  },
  {
   "cell_type": "code",
   "execution_count": null,
   "metadata": {
    "colab": {
     "autoexec": {
      "startup": false,
      "wait_interval": 0
     }
    },
    "colab_type": "code",
    "id": "z2v5heQNguZ3"
   },
   "outputs": [],
   "source": [
    "#imgFinal_2=np.rollaxis(imgFinal, 3, 1) #Para cuando le de la locura al ImageDataGenerator\n",
    "imgFinal=np.delete(imgFinal, 0, 0)\n",
    "imgFinal.shape\n",
    "datagen = ImageDataGenerator(featurewise_center=True, featurewise_std_normalization=True)\n",
    "imgFinal_2=imgFinal.reshape((imgFinal.shape[0],200,200,3))\n",
    "datagen.fit(imgFinal_2)"
   ]
  },
  {
   "cell_type": "code",
   "execution_count": null,
   "metadata": {
    "colab": {
     "autoexec": {
      "startup": false,
      "wait_interval": 0
     }
    },
    "colab_type": "code",
    "id": "5KWXOaa4Tlde",
    "outputId": "43760f5d-7291-4f11-fef8-d34ae9e86280"
   },
   "outputs": [
    {
     "name": "stderr",
     "output_type": "stream",
     "text": [
      "100%|██████████| 3383/3383 [00:02<00:00, 1603.79it/s]\n"
     ]
    },
    {
     "data": {
      "text/plain": [
       "((3383, 40960), 3383)"
      ]
     },
     "execution_count": 19,
     "metadata": {
      "tags": []
     },
     "output_type": "execute_result"
    }
   ],
   "source": [
    "images_testing = []\n",
    "for i in tqdm(dataTesting.index):\n",
    "    images_testing.append(io.imread(os.path.join(path, 'images_resize_gray', str(i) + '_resize_gray.jpeg')).flatten())\n",
    "\n",
    "images_testing = np.stack(images_testing)\n",
    "\n",
    "images_testing.shape, dataTesting.shape[0]"
   ]
  },
  {
   "cell_type": "markdown",
   "metadata": {
    "colab_type": "text",
    "id": "pQytG_pVTldv"
   },
   "source": [
    "## Apply PCA -> ZCA"
   ]
  },
  {
   "cell_type": "code",
   "execution_count": null,
   "metadata": {
    "colab": {
     "autoexec": {
      "startup": false,
      "wait_interval": 0
     }
    },
    "colab_type": "code",
    "id": "kxaeU4eATld1"
   },
   "outputs": [],
   "source": [
    "#pca = PCA(n_components=32)\n",
    "#images_training_pca = pca.fit_transform(images_training)"
   ]
  },
  {
   "cell_type": "code",
   "execution_count": null,
   "metadata": {
    "colab": {
     "autoexec": {
      "startup": false,
      "wait_interval": 0
     }
    },
    "colab_type": "code",
    "id": "OAdoehqfTleJ"
   },
   "outputs": [],
   "source": [
    "#images_testing_pca = pca.transform(images_testing)"
   ]
  },
  {
   "cell_type": "code",
   "execution_count": 315,
   "metadata": {
    "colab": {
     "autoexec": {
      "startup": false,
      "wait_interval": 0
     },
     "base_uri": "https://localhost:8080/",
     "height": 34
    },
    "colab_type": "code",
    "executionInfo": {
     "elapsed": 369,
     "status": "ok",
     "timestamp": 1531767575301,
     "user": {
      "displayName": "Diego Armando Salazar Barreto",
      "photoUrl": "https://lh3.googleusercontent.com/a/default-user=s128",
      "userId": "110062887053583561343"
     },
     "user_tz": 300
    },
    "id": "lk4y44RUdhju",
    "outputId": "7685b232-2097-49ea-ce33-4f53079414a9"
   },
   "outputs": [
    {
     "data": {
      "text/plain": [
       "(1026, 3, 224, 224)"
      ]
     },
     "execution_count": 315,
     "metadata": {
      "tags": []
     },
     "output_type": "execute_result"
    }
   ],
   "source": [
    "imgFinal.shape"
   ]
  },
  {
   "cell_type": "code",
   "execution_count": null,
   "metadata": {
    "colab": {
     "autoexec": {
      "startup": false,
      "wait_interval": 0
     }
    },
    "colab_type": "code",
    "id": "HBNZvbdYcmEr"
   },
   "outputs": [],
   "source": [
    "# ZCA whitening\n",
    "from keras.datasets import mnist\n",
    "from keras.preprocessing.image import ImageDataGenerator\n",
    "from matplotlib import pyplot\n",
    "from keras import backend as K\n",
    "K.set_image_dim_ordering('th')"
   ]
  },
  {
   "cell_type": "code",
   "execution_count": null,
   "metadata": {
    "colab": {
     "autoexec": {
      "startup": false,
      "wait_interval": 0
     },
     "base_uri": "https://localhost:8080/",
     "height": 104
    },
    "colab_type": "code",
    "id": "fiuCBQLicmDV",
    "outputId": "8de68544-236e-4f22-b429-2dfe9c647c73"
   },
   "outputs": [
    {
     "name": "stderr",
     "output_type": "stream",
     "text": [
      "/usr/local/lib/python3.6/dist-packages/keras/preprocessing/image.py:645: UserWarning: This ImageDataGenerator specifies `zca_whitening`, which overrides setting of `featurewise_center`.\n",
      "  warnings.warn('This ImageDataGenerator specifies '\n",
      "/usr/local/lib/python3.6/dist-packages/keras/preprocessing/image.py:957: UserWarning: Expected input to be images (as Numpy array) following the data format convention \"channels_first\" (channels on axis 1), i.e. expected either 1, 3 or 4 channels on axis 1. However, it was passed an array with shape (2080, 224, 224, 3) (224 channels).\n",
      "  ' (' + str(x.shape[self.channel_axis]) + ' channels).')\n"
     ]
    }
   ],
   "source": [
    "datagen = ImageDataGenerator(zca_whitening=True)\n",
    "# fit parameters from data\n",
    "datagen.fit(imgFinal_2)"
   ]
  },
  {
   "cell_type": "markdown",
   "metadata": {
    "colab_type": "text",
    "id": "54LCwTqJTleW"
   },
   "source": [
    "# Create y"
   ]
  },
  {
   "cell_type": "code",
   "execution_count": null,
   "metadata": {
    "colab": {
     "autoexec": {
      "startup": false,
      "wait_interval": 0
     }
    },
    "colab_type": "code",
    "id": "FmFBuRYU2uk-"
   },
   "outputs": [],
   "source": [
    "# Verificacion de contenido de carpetas en el Drive con su respectivo ID\n",
    "#file_list = drive.ListFile({'q': \"'root' in parents and trashed=false\"}).GetList()\n",
    "file_list = drive.ListFile({'q': \"'1SKNGe6FFghASG38LjtUaoTrmozUibRCZ' in parents and trashed=false\"}).GetList()\n",
    "for file1 in file_list:\n",
    "  print('title: %s, id: %s' % (file1['title'], file1['id']))"
   ]
  },
  {
   "cell_type": "code",
   "execution_count": null,
   "metadata": {
    "colab": {
     "autoexec": {
      "startup": false,
      "wait_interval": 0
     }
    },
    "colab_type": "code",
    "id": "n36llvprlFfM"
   },
   "outputs": [],
   "source": [
    "trainDrive = drive.CreateFile({'id': '1SKNGe6FFghASG38LjtUaoTrmozUibRCZ'})\n",
    "trainDrive.GetContentFile('dataTraining.csv')\n",
    "dataTraining=pd.read_csv(\"dataTraining.csv\", index_col=0)\n",
    "\n",
    "testDrive = drive.CreateFile({'id': '1JWWmvheWnofZl2zqY-7Gu2rJprceYB80'})\n",
    "testDrive.GetContentFile('dataTesting.csv')\n",
    "dataTesting=pd.read_csv(\"dataTesting.csv\", index_col=0)"
   ]
  },
  {
   "cell_type": "code",
   "execution_count": null,
   "metadata": {
    "colab": {
     "autoexec": {
      "startup": false,
      "wait_interval": 0
     }
    },
    "colab_type": "code",
    "id": "cBKBnkTgjs5K"
   },
   "outputs": [],
   "source": [
    "ix_movies = []\n",
    "for i in range(0,len(os.listdir(\"images/\"))):\n",
    "  if os.listdir(\"images/\")[i] == \"desktop.ini\":\n",
    "    pass\n",
    "  else:\n",
    "    ix_movies.append(int(os.listdir(\"images/\")[i].replace(\".jpeg\",\"\")))"
   ]
  },
  {
   "cell_type": "code",
   "execution_count": 15,
   "metadata": {
    "colab": {
     "autoexec": {
      "startup": false,
      "wait_interval": 0
     },
     "base_uri": "https://localhost:8080/",
     "height": 34
    },
    "colab_type": "code",
    "executionInfo": {
     "elapsed": 389,
     "status": "ok",
     "timestamp": 1531779630500,
     "user": {
      "displayName": "Diego Armando Salazar Barreto",
      "photoUrl": "https://lh3.googleusercontent.com/a/default-user=s128",
      "userId": "110062887053583561343"
     },
     "user_tz": 300
    },
    "id": "22xnrGvZruU5",
    "outputId": "05cf852f-5eaf-4283-9e9d-7602fdd4f463"
   },
   "outputs": [
    {
     "data": {
      "text/plain": [
       "(6, 224, 224, 3)"
      ]
     },
     "execution_count": 15,
     "metadata": {
      "tags": []
     },
     "output_type": "execute_result"
    }
   ],
   "source": [
    "imgFinal_2[[1,2,3,4,5,6]].shape"
   ]
  },
  {
   "cell_type": "code",
   "execution_count": null,
   "metadata": {
    "colab": {
     "autoexec": {
      "startup": false,
      "wait_interval": 0
     }
    },
    "colab_type": "code",
    "id": "J4h4YJvwmc0K"
   },
   "outputs": [],
   "source": [
    "imgTrain=[]\n",
    "imgTest=[]\n",
    "data_training=[]\n",
    "data_testing=[]\n",
    "for i in range(0,len(ix_movies)):\n",
    "  try:\n",
    "    data_training.append(dataTraining.loc[ix_movies[i]])\n",
    "    imgTrain.append(i)\n",
    "  except:\n",
    "    data_testing.append(dataTesting.loc[ix_movies[i]])\n",
    "    imgTest.append(i)\n",
    "\n",
    "#ix_movies[2]\n",
    "\n",
    "\n",
    "#print(dataTraining.iloc[4082])#.index#.loc[ix_movies, :]\n",
    "#print(dataTraining.iloc[ix_movies[2]])"
   ]
  },
  {
   "cell_type": "code",
   "execution_count": 22,
   "metadata": {
    "colab": {
     "autoexec": {
      "startup": false,
      "wait_interval": 0
     },
     "base_uri": "https://localhost:8080/",
     "height": 34
    },
    "colab_type": "code",
    "executionInfo": {
     "elapsed": 348,
     "status": "ok",
     "timestamp": 1531788942501,
     "user": {
      "displayName": "Diego Armando Salazar Barreto",
      "photoUrl": "https://lh3.googleusercontent.com/a/default-user=s128",
      "userId": "110062887053583561343"
     },
     "user_tz": 300
    },
    "id": "PTYzCiWYu1MM",
    "outputId": "e3176585-a34d-477b-d1a8-b4ef9b25d364"
   },
   "outputs": [
    {
     "data": {
      "text/plain": [
       "1432"
      ]
     },
     "execution_count": 22,
     "metadata": {
      "tags": []
     },
     "output_type": "execute_result"
    }
   ],
   "source": [
    "len(imgTrain)"
   ]
  },
  {
   "cell_type": "code",
   "execution_count": null,
   "metadata": {
    "colab": {
     "autoexec": {
      "startup": false,
      "wait_interval": 0
     }
    },
    "colab_type": "code",
    "id": "j3GUAD4l3HH-"
   },
   "outputs": [],
   "source": [
    "imgTraining=imgFinal_2[[imgTrain[:1431]]]"
   ]
  },
  {
   "cell_type": "code",
   "execution_count": 22,
   "metadata": {
    "colab": {
     "autoexec": {
      "startup": false,
      "wait_interval": 0
     },
     "base_uri": "https://localhost:8080/",
     "height": 50
    },
    "colab_type": "code",
    "executionInfo": {
     "elapsed": 592,
     "status": "ok",
     "timestamp": 1531779727062,
     "user": {
      "displayName": "Diego Armando Salazar Barreto",
      "photoUrl": "https://lh3.googleusercontent.com/a/default-user=s128",
      "userId": "110062887053583561343"
     },
     "user_tz": 300
    },
    "id": "YvtDZtu73RFP",
    "outputId": "4ede7c4e-55ab-4d38-8cc3-8218c3a7051e"
   },
   "outputs": [
    {
     "name": "stdout",
     "output_type": "stream",
     "text": [
      "(1432, 224, 224, 3)\n",
      "(1432, 5)\n"
     ]
    }
   ],
   "source": [
    "# Son 714 que vienen del dataTraining, es decir, tienen labels definidos y son los\n",
    "#deben ser usados para seprar en train y test\n",
    "print(imgTraining.shape)\n",
    "print(np.array(data_training).shape)"
   ]
  },
  {
   "cell_type": "code",
   "execution_count": 17,
   "metadata": {
    "colab": {
     "autoexec": {
      "startup": false,
      "wait_interval": 0
     },
     "base_uri": "https://localhost:8080/",
     "height": 195
    },
    "colab_type": "code",
    "executionInfo": {
     "elapsed": 473,
     "status": "ok",
     "timestamp": 1531788773002,
     "user": {
      "displayName": "Diego Armando Salazar Barreto",
      "photoUrl": "https://lh3.googleusercontent.com/a/default-user=s128",
      "userId": "110062887053583561343"
     },
     "user_tz": 300
    },
    "id": "mFzm-MRI4JpZ",
    "outputId": "040916e7-9634-4856-a322-3373c489a292"
   },
   "outputs": [
    {
     "data": {
      "text/html": [
       "<div>\n",
       "<style scoped>\n",
       "    .dataframe tbody tr th:only-of-type {\n",
       "        vertical-align: middle;\n",
       "    }\n",
       "\n",
       "    .dataframe tbody tr th {\n",
       "        vertical-align: top;\n",
       "    }\n",
       "\n",
       "    .dataframe thead th {\n",
       "        text-align: right;\n",
       "    }\n",
       "</style>\n",
       "<table border=\"1\" class=\"dataframe\">\n",
       "  <thead>\n",
       "    <tr style=\"text-align: right;\">\n",
       "      <th></th>\n",
       "      <th>year</th>\n",
       "      <th>title</th>\n",
       "      <th>plot</th>\n",
       "      <th>genres</th>\n",
       "      <th>rating</th>\n",
       "    </tr>\n",
       "  </thead>\n",
       "  <tbody>\n",
       "    <tr>\n",
       "      <th>9873</th>\n",
       "      <td>1981</td>\n",
       "      <td>They All Laughed</td>\n",
       "      <td>new york ' s odyssey detective agency is hired...</td>\n",
       "      <td>['Comedy', 'Romance']</td>\n",
       "      <td>6.4</td>\n",
       "    </tr>\n",
       "    <tr>\n",
       "      <th>856</th>\n",
       "      <td>1958</td>\n",
       "      <td>A Time to Love and a Time to Die</td>\n",
       "      <td>in  N  ,  a company of german soldiers on the ...</td>\n",
       "      <td>['Drama', 'Romance', 'War']</td>\n",
       "      <td>7.8</td>\n",
       "    </tr>\n",
       "    <tr>\n",
       "      <th>4384</th>\n",
       "      <td>2001</td>\n",
       "      <td>The Invisible Circus</td>\n",
       "      <td>in  N  ,  at age  N  ,  phoebe is unhappy .  w...</td>\n",
       "      <td>['Drama']</td>\n",
       "      <td>5.6</td>\n",
       "    </tr>\n",
       "    <tr>\n",
       "      <th>2405</th>\n",
       "      <td>1976</td>\n",
       "      <td>Eaten Alive</td>\n",
       "      <td>judd runs the starlight hotel out in some sort...</td>\n",
       "      <td>['Horror', 'Thriller']</td>\n",
       "      <td>5.4</td>\n",
       "    </tr>\n",
       "    <tr>\n",
       "      <th>8005</th>\n",
       "      <td>1983</td>\n",
       "      <td>The Sting II</td>\n",
       "      <td>lonnegan is planning to get back at gondorff a...</td>\n",
       "      <td>['Comedy', 'Crime']</td>\n",
       "      <td>5.0</td>\n",
       "    </tr>\n",
       "  </tbody>\n",
       "</table>\n",
       "</div>"
      ],
      "text/plain": [
       "      year                             title  \\\n",
       "9873  1981                  They All Laughed   \n",
       "856   1958  A Time to Love and a Time to Die   \n",
       "4384  2001              The Invisible Circus   \n",
       "2405  1976                       Eaten Alive   \n",
       "8005  1983                      The Sting II   \n",
       "\n",
       "                                                   plot  \\\n",
       "9873  new york ' s odyssey detective agency is hired...   \n",
       "856   in  N  ,  a company of german soldiers on the ...   \n",
       "4384  in  N  ,  at age  N  ,  phoebe is unhappy .  w...   \n",
       "2405  judd runs the starlight hotel out in some sort...   \n",
       "8005  lonnegan is planning to get back at gondorff a...   \n",
       "\n",
       "                           genres  rating  \n",
       "9873        ['Comedy', 'Romance']     6.4  \n",
       "856   ['Drama', 'Romance', 'War']     7.8  \n",
       "4384                    ['Drama']     5.6  \n",
       "2405       ['Horror', 'Thriller']     5.4  \n",
       "8005          ['Comedy', 'Crime']     5.0  "
      ]
     },
     "execution_count": 17,
     "metadata": {
      "tags": []
     },
     "output_type": "execute_result"
    }
   ],
   "source": [
    "data_training=pd.DataFrame(data_training)\n",
    "data_training.head()"
   ]
  },
  {
   "cell_type": "code",
   "execution_count": null,
   "metadata": {
    "colab": {
     "autoexec": {
      "startup": false,
      "wait_interval": 0
     }
    },
    "colab_type": "code",
    "id": "_mrUDUF344qZ"
   },
   "outputs": [],
   "source": [
    "data_training['genres'] = data_training['genres'].map(lambda x: eval(x))\n",
    "\n",
    "le = MultiLabelBinarizer()\n",
    "y_genres = le.fit_transform(data_training['genres'])"
   ]
  },
  {
   "cell_type": "code",
   "execution_count": null,
   "metadata": {
    "colab": {
     "autoexec": {
      "startup": false,
      "wait_interval": 0
     }
    },
    "colab_type": "code",
    "id": "E-fOchsC3UWm"
   },
   "outputs": [],
   "source": [
    "imgTesting=imgFinal_2[[imgTest]] #Esto se pueden obviar\n",
    "imgTesting.shape"
   ]
  },
  {
   "cell_type": "code",
   "execution_count": 27,
   "metadata": {
    "colab": {
     "autoexec": {
      "startup": false,
      "wait_interval": 0
     },
     "base_uri": "https://localhost:8080/",
     "height": 34
    },
    "colab_type": "code",
    "executionInfo": {
     "elapsed": 429,
     "status": "ok",
     "timestamp": 1531789069150,
     "user": {
      "displayName": "Diego Armando Salazar Barreto",
      "photoUrl": "https://lh3.googleusercontent.com/a/default-user=s128",
      "userId": "110062887053583561343"
     },
     "user_tz": 300
    },
    "id": "i0ZRsdsNvdjl",
    "outputId": "cb54a822-f873-45cd-bb35-c0e3339aea82"
   },
   "outputs": [
    {
     "data": {
      "text/plain": [
       "(1432, 23)"
      ]
     },
     "execution_count": 27,
     "metadata": {
      "tags": []
     },
     "output_type": "execute_result"
    }
   ],
   "source": [
    "y_genres.shape"
   ]
  },
  {
   "cell_type": "code",
   "execution_count": null,
   "metadata": {
    "colab": {
     "autoexec": {
      "startup": false,
      "wait_interval": 0
     }
    },
    "colab_type": "code",
    "id": "5NwoBvXgTlet"
   },
   "outputs": [],
   "source": [
    "X_train, X_test, y_train_genres, y_test_genres = train_test_split(imgTraining, y_genres[:1431], test_size=0.33, random_state=42)"
   ]
  },
  {
   "cell_type": "code",
   "execution_count": 26,
   "metadata": {
    "colab": {
     "autoexec": {
      "startup": false,
      "wait_interval": 0
     },
     "base_uri": "https://localhost:8080/",
     "height": 50
    },
    "colab_type": "code",
    "executionInfo": {
     "elapsed": 602,
     "status": "ok",
     "timestamp": 1531779748777,
     "user": {
      "displayName": "Diego Armando Salazar Barreto",
      "photoUrl": "https://lh3.googleusercontent.com/a/default-user=s128",
      "userId": "110062887053583561343"
     },
     "user_tz": 300
    },
    "id": "iosS5nPI9f40",
    "outputId": "eda7789e-395e-4891-c854-dd49a10b72f9"
   },
   "outputs": [
    {
     "name": "stdout",
     "output_type": "stream",
     "text": [
      "(959, 224, 224, 3)\n",
      "(473, 23)\n"
     ]
    }
   ],
   "source": [
    "print(X_train.shape)\n",
    "print(y_test_genres.shape)"
   ]
  },
  {
   "cell_type": "markdown",
   "metadata": {
    "colab_type": "text",
    "id": "kZG4LJYhTlez"
   },
   "source": [
    "# Train multi-class multi-label model"
   ]
  },
  {
   "cell_type": "code",
   "execution_count": 29,
   "metadata": {
    "colab": {
     "autoexec": {
      "startup": false,
      "wait_interval": 0
     },
     "base_uri": "https://localhost:8080/",
     "height": 70
    },
    "colab_type": "code",
    "executionInfo": {
     "elapsed": 23634,
     "status": "ok",
     "timestamp": 1531789131994,
     "user": {
      "displayName": "Diego Armando Salazar Barreto",
      "photoUrl": "https://lh3.googleusercontent.com/a/default-user=s128",
      "userId": "110062887053583561343"
     },
     "user_tz": 300
    },
    "id": "82sS-TGNMjaY",
    "outputId": "98b04e19-3324-4a7e-ffe8-5b11345924d3"
   },
   "outputs": [
    {
     "name": "stdout",
     "output_type": "stream",
     "text": [
      "Downloading data from https://github.com/fchollet/deep-learning-models/releases/download/v0.1/vgg19_weights_tf_dim_ordering_tf_kernels.h5\n",
      "574717952/574710816 [==============================] - 21s 0us/step\n"
     ]
    }
   ],
   "source": [
    "from keras.applications.vgg19 import VGG19\n",
    "base_modelVGG19 = VGG19(weights='imagenet')\n",
    "base_modelVGG19.compile(optimizer=\"adam\", loss = \"categorical_crossentropy\", metrics = [\"accuracy\"])"
   ]
  },
  {
   "cell_type": "code",
   "execution_count": null,
   "metadata": {
    "colab": {
     "autoexec": {
      "startup": false,
      "wait_interval": 0
     }
    },
    "colab_type": "code",
    "id": "e6kdnhklMFue"
   },
   "outputs": [],
   "source": [
    "def preTrainedModel(base_model):\n",
    "  x = base_model.output\n",
    "  x = Dense(256)(x)\n",
    "  x = Activation(\"tanh\")(x)\n",
    "  x = Dense(23)(x)\n",
    "  x = Activation(\"sigmoid\")(x)\n",
    "  model = Model(inputs=base_model.input, outputs=x)\n",
    "  model.compile(optimizer=\"rmsprop\", loss = \"categorical_crossentropy\", metrics = [\"accuracy\"])\n",
    "  return model"
   ]
  },
  {
   "cell_type": "code",
   "execution_count": 37,
   "metadata": {
    "colab": {
     "autoexec": {
      "startup": false,
      "wait_interval": 0
     },
     "base_uri": "https://localhost:8080/",
     "height": 218
    },
    "colab_type": "code",
    "executionInfo": {
     "elapsed": 80433,
     "status": "ok",
     "timestamp": 1531781092051,
     "user": {
      "displayName": "Diego Armando Salazar Barreto",
      "photoUrl": "https://lh3.googleusercontent.com/a/default-user=s128",
      "userId": "110062887053583561343"
     },
     "user_tz": 300
    },
    "id": "ViouhbnxMVqw",
    "outputId": "323f0789-8fe6-482a-ec44-167fb0a49112"
   },
   "outputs": [
    {
     "name": "stdout",
     "output_type": "stream",
     "text": [
      "Train on 959 samples, validate on 473 samples\n",
      "Epoch 1/5\n",
      "959/959 [==============================] - 17s 17ms/step - loss: 8.0217 - acc: 0.2294 - val_loss: 7.5052 - val_acc: 0.2410\n",
      "Epoch 2/5\n",
      "959/959 [==============================] - 16s 16ms/step - loss: 7.3853 - acc: 0.2503 - val_loss: 7.1981 - val_acc: 0.2410\n",
      "Epoch 3/5\n",
      "959/959 [==============================] - 16s 16ms/step - loss: 7.2177 - acc: 0.2503 - val_loss: 7.1597 - val_acc: 0.2410\n",
      "Epoch 4/5\n",
      "959/959 [==============================] - 16s 16ms/step - loss: 7.1855 - acc: 0.2503 - val_loss: 7.1379 - val_acc: 0.2410\n",
      "Epoch 5/5\n",
      "959/959 [==============================] - 16s 16ms/step - loss: 7.1747 - acc: 0.2503 - val_loss: 7.1283 - val_acc: 0.2410\n"
     ]
    },
    {
     "data": {
      "text/plain": [
       "<keras.callbacks.History at 0x7f199d32f7b8>"
      ]
     },
     "execution_count": 37,
     "metadata": {
      "tags": []
     },
     "output_type": "execute_result"
    }
   ],
   "source": [
    "model = preTrainedModel(base_modelVGG19)\n",
    "\n",
    "model.fit(X_train, y_train_genres, epochs=5, validation_data=[X_test, y_test_genres])"
   ]
  },
  {
   "cell_type": "markdown",
   "metadata": {
    "colab_type": "text",
    "id": "n-X-GkNQO77E"
   },
   "source": [
    "# Fine Tunning"
   ]
  },
  {
   "cell_type": "code",
   "execution_count": 33,
   "metadata": {
    "colab": {
     "autoexec": {
      "startup": false,
      "wait_interval": 0
     },
     "base_uri": "https://localhost:8080/",
     "height": 218
    },
    "colab_type": "code",
    "executionInfo": {
     "elapsed": 79672,
     "status": "ok",
     "timestamp": 1531780716246,
     "user": {
      "displayName": "Diego Armando Salazar Barreto",
      "photoUrl": "https://lh3.googleusercontent.com/a/default-user=s128",
      "userId": "110062887053583561343"
     },
     "user_tz": 300
    },
    "id": "XxK6XMY4O5T-",
    "outputId": "1c9695a9-2e45-4bdf-9dce-7be13e054990"
   },
   "outputs": [
    {
     "name": "stdout",
     "output_type": "stream",
     "text": [
      "Train on 959 samples, validate on 473 samples\n",
      "Epoch 1/5\n",
      "959/959 [==============================] - 16s 17ms/step - loss: 8.0363 - acc: 0.2158 - val_loss: 7.5117 - val_acc: 0.2410\n",
      "Epoch 2/5\n",
      "959/959 [==============================] - 16s 16ms/step - loss: 7.3914 - acc: 0.2503 - val_loss: 7.1991 - val_acc: 0.2410\n",
      "Epoch 3/5\n",
      "959/959 [==============================] - 16s 16ms/step - loss: 7.2113 - acc: 0.2503 - val_loss: 7.1556 - val_acc: 0.2410\n",
      "Epoch 4/5\n",
      "959/959 [==============================] - 16s 16ms/step - loss: 7.1836 - acc: 0.2503 - val_loss: 7.1390 - val_acc: 0.2410\n",
      "Epoch 5/5\n",
      "959/959 [==============================] - 16s 16ms/step - loss: 7.1707 - acc: 0.2503 - val_loss: 7.1368 - val_acc: 0.2410\n"
     ]
    },
    {
     "data": {
      "text/plain": [
       "<keras.callbacks.History at 0x7f199d5962b0>"
      ]
     },
     "execution_count": 33,
     "metadata": {
      "tags": []
     },
     "output_type": "execute_result"
    }
   ],
   "source": [
    "def fineTune(base_model):\n",
    "  x = base_model.output\n",
    "  x = Dense(256)(x)\n",
    "  x = Activation(\"tanh\")(x)\n",
    "  x = Dense(23)(x)\n",
    "  x = Activation(\"sigmoid\")(x)\n",
    "  model = Model(inputs=base_model.input, outputs=x)\n",
    "  #model.compile(optimizer=\"adam\", loss = \"categorical_crossentropy\", metrics = [\"accuracy\"])\n",
    "  return model\n",
    "\n",
    "modeltune = fineTune(base_modelVGG19)\n",
    "\n",
    "# first: train only the top layers (which were randomly initialized)\n",
    "# i.e. freeze all convolutional InceptionV3 layers\n",
    "for layer in base_modelVGG19.layers:\n",
    "    layer.trainable = False\n",
    "\n",
    "# compile the model (should be done *after* setting layers to non-trainable)\n",
    "modeltune.compile(optimizer='rmsprop', loss='categorical_crossentropy', metrics = [\"accuracy\"])\n",
    "\n",
    "# train the model on the new data for a few epochs\n",
    "modeltune.fit(X_train, y_train_genres, epochs=5, validation_data=[X_test, y_test_genres])"
   ]
  },
  {
   "cell_type": "code",
   "execution_count": null,
   "metadata": {
    "colab": {
     "autoexec": {
      "startup": false,
      "wait_interval": 0
     }
    },
    "colab_type": "code",
    "id": "I7D-7N8QPznY"
   },
   "outputs": [],
   "source": [
    "# Vamos a escoger las layers de MobileNet para entrenarlas.\n",
    "for layer in modeltune.layers[:25]:\n",
    "   layer.trainable = False\n",
    "for layer in modeltune.layers[25:]:\n",
    "   layer.trainable = True"
   ]
  },
  {
   "cell_type": "code",
   "execution_count": 35,
   "metadata": {
    "colab": {
     "autoexec": {
      "startup": false,
      "wait_interval": 0
     },
     "base_uri": "https://localhost:8080/",
     "height": 218
    },
    "colab_type": "code",
    "executionInfo": {
     "elapsed": 80011,
     "status": "ok",
     "timestamp": 1531780884070,
     "user": {
      "displayName": "Diego Armando Salazar Barreto",
      "photoUrl": "https://lh3.googleusercontent.com/a/default-user=s128",
      "userId": "110062887053583561343"
     },
     "user_tz": 300
    },
    "id": "abzug-qDP5ZW",
    "outputId": "13c9383d-d758-4e7b-ecd3-cb47658f7af4"
   },
   "outputs": [
    {
     "name": "stdout",
     "output_type": "stream",
     "text": [
      "Train on 959 samples, validate on 473 samples\n",
      "Epoch 1/5\n",
      "959/959 [==============================] - 16s 17ms/step - loss: 7.1576 - acc: 0.2503 - val_loss: 7.1366 - val_acc: 0.2410\n",
      "Epoch 2/5\n",
      "959/959 [==============================] - 16s 16ms/step - loss: 7.1575 - acc: 0.2503 - val_loss: 7.1363 - val_acc: 0.2410\n",
      "Epoch 3/5\n",
      "959/959 [==============================] - 16s 16ms/step - loss: 7.1573 - acc: 0.2503 - val_loss: 7.1359 - val_acc: 0.2410\n",
      "Epoch 4/5\n",
      "959/959 [==============================] - 16s 16ms/step - loss: 7.1572 - acc: 0.2503 - val_loss: 7.1357 - val_acc: 0.2410\n",
      "Epoch 5/5\n",
      "959/959 [==============================] - 16s 16ms/step - loss: 7.1571 - acc: 0.2503 - val_loss: 7.1353 - val_acc: 0.2410\n"
     ]
    },
    {
     "data": {
      "text/plain": [
       "<keras.callbacks.History at 0x7f199d32d710>"
      ]
     },
     "execution_count": 35,
     "metadata": {
      "tags": []
     },
     "output_type": "execute_result"
    }
   ],
   "source": [
    "# Re-compilamos el modelos para que estas modificaciones tengan efecto\n",
    "# Usamos SGD y un learning rate bajo\n",
    "from keras.optimizers import SGD\n",
    "modeltune.compile(optimizer=SGD(lr=0.0001, momentum=0.9), loss='categorical_crossentropy', metrics = [\"accuracy\"])\n",
    "\n",
    "# Entrenamos el modelo nuevamente Esta vez con todo \n",
    "#(esta vez ajustando los 2 primeros bloques de inicio junto a las capas superiores de Dense)\n",
    "modeltune.fit(X_train, y_train_genres, epochs=5, validation_data=[X_test, y_test_genres])"
   ]
  },
  {
   "cell_type": "code",
   "execution_count": 58,
   "metadata": {
    "colab": {
     "autoexec": {
      "startup": false,
      "wait_interval": 0
     },
     "base_uri": "https://localhost:8080/",
     "height": 346
    },
    "colab_type": "code",
    "executionInfo": {
     "elapsed": 631,
     "status": "error",
     "timestamp": 1531790730057,
     "user": {
      "displayName": "Diego Armando Salazar Barreto",
      "photoUrl": "https://lh3.googleusercontent.com/a/default-user=s128",
      "userId": "110062887053583561343"
     },
     "user_tz": 300
    },
    "id": "brstMqXeTle0",
    "outputId": "501701ab-fa3c-4478-9616-186860420018"
   },
   "outputs": [
    {
     "ename": "TypeError",
     "evalue": "ignored",
     "output_type": "error",
     "traceback": [
      "\u001b[0;31m---------------------------------------------------------------------------\u001b[0m",
      "\u001b[0;31mTypeError\u001b[0m                                 Traceback (most recent call last)",
      "\u001b[0;32m<ipython-input-58-cc918cc0b628>\u001b[0m in \u001b[0;36m<module>\u001b[0;34m()\u001b[0m\n\u001b[1;32m      4\u001b[0m \u001b[0;31m#model.add(Conv2D(32, (3, 3), input_shape=(200, 200, 3)))\u001b[0m\u001b[0;34m\u001b[0m\u001b[0;34m\u001b[0m\u001b[0m\n\u001b[1;32m      5\u001b[0m \u001b[0;31m#model.add(Activation('tanh'))\u001b[0m\u001b[0;34m\u001b[0m\u001b[0;34m\u001b[0m\u001b[0m\n\u001b[0;32m----> 6\u001b[0;31m \u001b[0mmodel\u001b[0m\u001b[0;34m.\u001b[0m\u001b[0madd\u001b[0m\u001b[0;34m(\u001b[0m\u001b[0mbase_modelVGG19\u001b[0m\u001b[0;34m.\u001b[0m\u001b[0moutput\u001b[0m\u001b[0;34m)\u001b[0m\u001b[0;34m\u001b[0m\u001b[0m\n\u001b[0m\u001b[1;32m      7\u001b[0m \u001b[0mmodel\u001b[0m\u001b[0;34m.\u001b[0m\u001b[0madd\u001b[0m\u001b[0;34m(\u001b[0m\u001b[0mMaxPooling2D\u001b[0m\u001b[0;34m(\u001b[0m\u001b[0mpool_size\u001b[0m\u001b[0;34m=\u001b[0m\u001b[0;34m(\u001b[0m\u001b[0;36m1\u001b[0m\u001b[0;34m,\u001b[0m \u001b[0;36m1\u001b[0m\u001b[0;34m)\u001b[0m\u001b[0;34m)\u001b[0m\u001b[0;34m)\u001b[0m\u001b[0;34m\u001b[0m\u001b[0m\n\u001b[1;32m      8\u001b[0m \u001b[0;34m\u001b[0m\u001b[0m\n",
      "\u001b[0;32m/usr/local/lib/python3.6/dist-packages/keras/models.py\u001b[0m in \u001b[0;36madd\u001b[0;34m(self, layer)\u001b[0m\n\u001b[1;32m    458\u001b[0m             raise TypeError('The added layer must be '\n\u001b[1;32m    459\u001b[0m                             \u001b[0;34m'an instance of class Layer. '\u001b[0m\u001b[0;34m\u001b[0m\u001b[0m\n\u001b[0;32m--> 460\u001b[0;31m                             'Found: ' + str(layer))\n\u001b[0m\u001b[1;32m    461\u001b[0m         \u001b[0;32mif\u001b[0m \u001b[0;32mnot\u001b[0m \u001b[0mself\u001b[0m\u001b[0;34m.\u001b[0m\u001b[0moutputs\u001b[0m\u001b[0;34m:\u001b[0m\u001b[0;34m\u001b[0m\u001b[0m\n\u001b[1;32m    462\u001b[0m             \u001b[0;31m# First layer in model: check that it is an input layer.\u001b[0m\u001b[0;34m\u001b[0m\u001b[0;34m\u001b[0m\u001b[0m\n",
      "\u001b[0;31mTypeError\u001b[0m: The added layer must be an instance of class Layer. Found: Tensor(\"predictions/Softmax:0\", shape=(?, 1000), dtype=float32)"
     ]
    }
   ],
   "source": [
    "from keras. models import Sequential\n",
    "from keras.layers import Conv2D, Activation, MaxPooling2D, Flatten, Dropout, Dense\n",
    "model = Sequential()\n",
    "#model.add(Conv2D(32, (3, 3), input_shape=(200, 200, 3)))\n",
    "#model.add(Activation('tanh'))\n",
    "model.add(base_modelVGG19.output)\n",
    "model.add(MaxPooling2D(pool_size=(1, 1)))\n",
    "\n",
    "model.add(Conv2D(32, (3, 3)))\n",
    "model.add(Activation('tanh'))\n",
    "model.add(MaxPooling2D(pool_size=(1, 1)))\n",
    "\n",
    "model.add(Conv2D(64, (3, 3)))\n",
    "model.add(Activation('tanh'))\n",
    "model.add(MaxPooling2D(pool_size=(1, 1)))\n",
    "\n",
    "model.add(Flatten())  # this converts our 3D feature maps to 1D feature vectors\n",
    "model.add(Dense(64))\n",
    "model.add(Activation('relu'))\n",
    "model.add(Dropout(0.5))\n",
    "model.add(Dense(23))\n",
    "model.add(Activation('sigmoid'))\n",
    "\n",
    "model.compile(loss='categorical_crossentropy',\n",
    "              optimizer='rmsprop',\n",
    "              metrics=['accuracy'])"
   ]
  },
  {
   "cell_type": "code",
   "execution_count": 56,
   "metadata": {
    "colab": {
     "autoexec": {
      "startup": false,
      "wait_interval": 0
     },
     "base_uri": "https://localhost:8080/",
     "height": 218
    },
    "colab_type": "code",
    "executionInfo": {
     "elapsed": 171137,
     "status": "ok",
     "timestamp": 1531790151224,
     "user": {
      "displayName": "Diego Armando Salazar Barreto",
      "photoUrl": "https://lh3.googleusercontent.com/a/default-user=s128",
      "userId": "110062887053583561343"
     },
     "user_tz": 300
    },
    "id": "-goK319nTle9",
    "outputId": "165b1bd2-ec5b-4edf-b08a-0f4bdf706257"
   },
   "outputs": [
    {
     "name": "stdout",
     "output_type": "stream",
     "text": [
      "Train on 958 samples, validate on 473 samples\n",
      "Epoch 1/5\n",
      "958/958 [==============================] - 41s 43ms/step - loss: 17.6002 - acc: 0.1106 - val_loss: 21.7160 - val_acc: 0.1459\n",
      "Epoch 2/5\n",
      "958/958 [==============================] - 32s 34ms/step - loss: 19.1821 - acc: 0.0919 - val_loss: 18.2164 - val_acc: 0.1459\n",
      "Epoch 3/5\n",
      "958/958 [==============================] - 32s 34ms/step - loss: 18.6946 - acc: 0.1054 - val_loss: 18.1574 - val_acc: 0.1459\n",
      "Epoch 4/5\n",
      "958/958 [==============================] - 32s 34ms/step - loss: 19.0134 - acc: 0.1033 - val_loss: 18.3188 - val_acc: 0.1459\n",
      "Epoch 5/5\n",
      "958/958 [==============================] - 32s 34ms/step - loss: 18.7760 - acc: 0.1117 - val_loss: 19.5509 - val_acc: 0.1459\n"
     ]
    },
    {
     "data": {
      "text/plain": [
       "<keras.callbacks.History at 0x7fd20a7f1278>"
      ]
     },
     "execution_count": 56,
     "metadata": {
      "tags": []
     },
     "output_type": "execute_result"
    }
   ],
   "source": [
    "model.fit(X_train, y_train_genres, epochs=5, validation_data=[X_test, y_test_genres])"
   ]
  },
  {
   "cell_type": "code",
   "execution_count": null,
   "metadata": {
    "colab": {
     "autoexec": {
      "startup": false,
      "wait_interval": 0
     }
    },
    "colab_type": "code",
    "id": "o5WlwX0JTlfP"
   },
   "outputs": [],
   "source": [
    "y_pred_genres = clf.predict_proba(X_test)"
   ]
  },
  {
   "cell_type": "code",
   "execution_count": null,
   "metadata": {
    "colab": {
     "autoexec": {
      "startup": false,
      "wait_interval": 0
     }
    },
    "colab_type": "code",
    "id": "aLq2UgudTlfW",
    "outputId": "cf854ba8-5f66-4bae-83b0-35a522c9dd5b"
   },
   "outputs": [
    {
     "data": {
      "text/plain": [
       "0.5832413775124384"
      ]
     },
     "execution_count": 27,
     "metadata": {
      "tags": []
     },
     "output_type": "execute_result"
    }
   ],
   "source": [
    "roc_auc_score(y_test_genres, y_pred_genres, average='macro')"
   ]
  },
  {
   "cell_type": "markdown",
   "metadata": {
    "colab_type": "text",
    "id": "YuNdZDt-Tlfq"
   },
   "source": [
    "# Apply models to test"
   ]
  },
  {
   "cell_type": "code",
   "execution_count": null,
   "metadata": {
    "colab": {
     "autoexec": {
      "startup": false,
      "wait_interval": 0
     }
    },
    "colab_type": "code",
    "id": "1EhLNYt2Tlfr"
   },
   "outputs": [],
   "source": [
    "cols = ['p_Action', 'p_Adventure', 'p_Animation', 'p_Biography', 'p_Comedy', 'p_Crime', 'p_Documentary', 'p_Drama', 'p_Family',\n",
    "        'p_Fantasy', 'p_Film-Noir', 'p_History', 'p_Horror', 'p_Music', 'p_Musical', 'p_Mystery', 'p_News', 'p_Romance',\n",
    "        'p_Sci-Fi', 'p_Short', 'p_Sport', 'p_Thriller', 'p_War', 'p_Western']\n",
    "\n",
    "y_pred_test_genres = clf.predict_proba(images_testing_pca)\n",
    "\n",
    "pd.DataFrame(y_pred_test_genres, index=dataTesting.index, columns=cols).to_csv('pred_genres_img_RF.csv', index_label='ID')"
   ]
  },
  {
   "cell_type": "code",
   "execution_count": null,
   "metadata": {
    "colab": {
     "autoexec": {
      "startup": false,
      "wait_interval": 0
     }
    },
    "colab_type": "code",
    "id": "WFbLf4c-Tlf0"
   },
   "outputs": [],
   "source": []
  }
 ],
 "metadata": {
  "accelerator": "GPU",
  "colab": {
   "collapsed_sections": [],
   "default_view": {},
   "name": "ExampleImgRF.ipynb",
   "provenance": [],
   "version": "0.3.2",
   "views": {}
  },
  "kernelspec": {
   "display_name": "Python 3",
   "language": "python",
   "name": "python3"
  },
  "language_info": {
   "codemirror_mode": {
    "name": "ipython",
    "version": 3
   },
   "file_extension": ".py",
   "mimetype": "text/x-python",
   "name": "python",
   "nbconvert_exporter": "python",
   "pygments_lexer": "ipython3",
   "version": "3.6.4"
  }
 },
 "nbformat": 4,
 "nbformat_minor": 2
}
